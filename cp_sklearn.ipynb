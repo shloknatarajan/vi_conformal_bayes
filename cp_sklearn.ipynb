{
 "cells": [
  {
   "cell_type": "markdown",
   "id": "04035a62",
   "metadata": {},
   "source": [
    "# Imports"
   ]
  },
  {
   "cell_type": "code",
   "execution_count": 153,
   "id": "760eb5e7",
   "metadata": {},
   "outputs": [],
   "source": [
    "import math\n",
    "import os\n",
    "import torch\n",
    "import torch.distributions.constraints as constraints\n",
    "import pyro\n",
    "import numpy as np\n",
    "import copy\n",
    "import time\n",
    "import snakeviz\n",
    "from pyro.optim import Adam\n",
    "from pyro.infer import SVI, Trace_ELBO\n",
    "import pyro.distributions as dist\n",
    "import random\n",
    "from sklearn.datasets import load_diabetes\n",
    "assert pyro.__version__.startswith('1.8.4')\n",
    "\n",
    "# clear the param store in case we're in a REPL\n",
    "pyro.clear_param_store()"
   ]
  },
  {
   "cell_type": "code",
   "execution_count": 154,
   "id": "e89b677c",
   "metadata": {},
   "outputs": [],
   "source": [
    "from sklearn import linear_model"
   ]
  },
  {
   "cell_type": "markdown",
   "id": "3404a136",
   "metadata": {},
   "source": [
    "# Load Datasets"
   ]
  },
  {
   "cell_type": "markdown",
   "id": "55ef8d32",
   "metadata": {},
   "source": [
    "### Random Dataset"
   ]
  },
  {
   "cell_type": "code",
   "execution_count": 174,
   "id": "c6427873",
   "metadata": {},
   "outputs": [],
   "source": [
    "def generate_stdp_dataset(dim, num_examples, min_value, max_value):\n",
    "    X = np.random.random((num_examples + 1, dim)) * (max_value - min_value) + min_value\n",
    "    beta = np.random.random((dim)) * (max_value - min_value) + min_value\n",
    "\n",
    "    noise = np.random.normal(0, np.sqrt(max_value - min_value), num_examples + 1)\n",
    "    Y = X[:num_examples + 1] @ beta + noise\n",
    "\n",
    "    X = np.asfortranarray(X)\n",
    "    Y = np.asfortranarray(Y)\n",
    "    X /= np.linalg.norm(X, axis=0)\n",
    "    Y = (Y - Y.mean()) / Y.std()\n",
    "    Y = Y * max_value\n",
    "\n",
    "    Y = Y/np.linalg.norm(Y)\n",
    "\n",
    "    return X, Y, beta"
   ]
  },
  {
   "cell_type": "code",
   "execution_count": 182,
   "id": "5eb99929",
   "metadata": {},
   "outputs": [],
   "source": [
    "X, Y, beta = generate_stdp_dataset(100, 100, 0, 1)"
   ]
  },
  {
   "cell_type": "markdown",
   "id": "cf69c26b",
   "metadata": {},
   "source": [
    "### Diabetes Dataset"
   ]
  },
  {
   "cell_type": "code",
   "execution_count": 171,
   "id": "618640dc",
   "metadata": {},
   "outputs": [],
   "source": [
    "X, Y = load_diabetes(return_X_y = True)"
   ]
  },
  {
   "cell_type": "code",
   "execution_count": 178,
   "id": "225a8322",
   "metadata": {},
   "outputs": [
    {
     "name": "stdout",
     "output_type": "stream",
     "text": [
      "[[0.18425529 0.36282919 0.12248007]\n",
      " [0.18438486 0.41843389 0.23002136]\n",
      " [0.05056745 0.04801674 0.41256061]]\n",
      "1.7320508075688772\n",
      "[ 0.66760437 -0.63626265 -0.05940061]\n",
      "2.0185873175002847e-17\n",
      "0.30151134457776363\n"
     ]
    }
   ],
   "source": [
    "print(X[0:3])\n",
    "print(np.linalg.norm(X))\n",
    "print(Y[0:3])\n",
    "print(Y.mean())\n",
    "print(Y.std())"
   ]
  },
  {
   "cell_type": "markdown",
   "id": "ee48b3c5",
   "metadata": {},
   "source": [
    "### Normalize X and Y"
   ]
  },
  {
   "cell_type": "code",
   "execution_count": 183,
   "id": "7fcb5682",
   "metadata": {},
   "outputs": [
    {
     "name": "stdout",
     "output_type": "stream",
     "text": [
      "[-0.08854301  0.18771884 -1.15194511]\n",
      "[[1.23369942e-02 1.10714128e-02 3.36875906e-03 1.52335770e-02\n",
      "  8.81843816e-03 1.13205919e-02 2.80707645e-03 1.53106857e-03\n",
      "  2.29692850e-03 8.01404924e-03 1.41844578e-02 6.46349722e-03\n",
      "  1.48955589e-02 1.52507784e-02 9.27055213e-03 2.86867258e-03\n",
      "  9.48210382e-03 2.40919016e-03 3.31625332e-03 9.11558112e-03\n",
      "  2.84497944e-03 9.68484171e-03 1.24691227e-02 5.74841346e-03\n",
      "  1.59205167e-02 1.09303740e-02 1.14351426e-02 1.56571474e-02\n",
      "  1.14607191e-02 1.24244405e-02 1.52878966e-02 1.31947387e-02\n",
      "  1.12956883e-02 1.38244396e-02 1.33482648e-02 1.49576619e-02\n",
      "  7.81153713e-03 1.21660859e-02 2.82761044e-04 9.60874765e-03\n",
      "  2.20273717e-03 1.10216115e-02 5.42463315e-03 4.59682123e-03\n",
      "  9.02209787e-03 1.07307544e-02 6.11339532e-03 1.62219780e-02\n",
      "  8.06222692e-03 8.32210973e-03 1.25382640e-03 2.80676445e-03\n",
      "  1.03621548e-02 2.83218160e-03 7.24867213e-03 1.19819763e-02\n",
      "  1.64003167e-02 4.24912510e-03 7.95779637e-03 1.38827701e-02\n",
      "  1.29542764e-02 1.54626418e-02 6.46210757e-03 1.14634050e-02\n",
      "  7.71882030e-03 1.47905605e-02 7.65335048e-03 4.27319341e-03\n",
      "  7.36352529e-03 8.23813949e-03 1.22456766e-03 1.44339990e-02\n",
      "  1.00912230e-02 1.17904832e-02 9.60898331e-03 9.32442837e-03\n",
      "  2.07706269e-03 1.46675936e-02 5.51137086e-04 1.29582277e-02\n",
      "  7.18437217e-03 1.16870225e-02 5.11060038e-03 9.93431138e-03\n",
      "  5.71607151e-03 1.15946310e-02 7.98718243e-03 2.34859538e-03\n",
      "  1.07782436e-02 8.84887648e-03 1.48468253e-02 1.14420841e-02\n",
      "  1.29805470e-02 3.14833603e-04 1.64400027e-02 1.19738474e-02\n",
      "  8.28871620e-03 1.14726187e-02 5.08932800e-03 1.01253437e-03]\n",
      " [8.87809186e-03 1.26559807e-02 1.44054601e-02 4.30988378e-04\n",
      "  1.15495433e-02 1.22790368e-02 8.89065381e-03 3.89853786e-03\n",
      "  7.83472028e-03 4.82507593e-03 1.70253473e-02 7.79332638e-03\n",
      "  1.06998398e-02 2.67984523e-03 1.53922454e-02 2.63611464e-03\n",
      "  6.55300725e-03 1.29891326e-02 1.91554753e-03 3.10134053e-03\n",
      "  1.17260297e-03 7.23373170e-03 1.14182902e-02 1.34056676e-02\n",
      "  3.20675182e-03 1.35366752e-02 1.78547570e-02 7.97715281e-03\n",
      "  4.28148581e-03 1.08314565e-02 1.56471615e-02 5.64691714e-03\n",
      "  1.24615360e-03 2.13560501e-03 1.33186354e-02 1.65495292e-02\n",
      "  3.26531894e-03 1.04942607e-02 9.89862622e-03 7.20277884e-03\n",
      "  1.20793809e-02 8.69598787e-03 1.80788538e-02 3.05806697e-03\n",
      "  8.18933167e-03 1.06921006e-02 1.50849457e-02 1.44076040e-02\n",
      "  1.47806293e-02 8.76044685e-03 1.38692599e-02 1.32368768e-02\n",
      "  6.64595011e-04 5.91869291e-03 1.27575918e-02 4.69949266e-03\n",
      "  1.32308557e-02 2.85847263e-03 7.19632506e-03 9.37313586e-03\n",
      "  1.21784927e-02 8.24455590e-03 1.07226096e-02 3.21308284e-03\n",
      "  6.69223055e-03 4.86225457e-03 5.09174461e-03 8.61161500e-03\n",
      "  1.49264889e-02 1.29438344e-02 1.14888851e-02 6.44752938e-03\n",
      "  4.26753733e-03 4.32945179e-03 1.66524183e-02 8.50942168e-03\n",
      "  1.15688381e-02 1.55990122e-02 1.48208744e-02 5.53910386e-03\n",
      "  2.13800978e-03 1.19634013e-02 1.06989887e-04 1.61182930e-02\n",
      "  9.90899209e-03 8.45524423e-03 1.07407245e-02 1.19056107e-02\n",
      "  2.32836064e-03 7.85882842e-03 1.17349256e-02 1.66763721e-02\n",
      "  1.54623870e-02 1.30336831e-02 1.67967178e-02 5.30041787e-03\n",
      "  8.03929265e-03 1.98727583e-03 1.39376827e-02 7.61330947e-03]\n",
      " [7.99025123e-03 1.30332911e-02 1.02413174e-02 9.05159555e-03\n",
      "  1.66316798e-02 5.86781587e-04 1.76317947e-02 9.84056827e-03\n",
      "  1.33227945e-02 3.48079922e-04 1.00270713e-02 1.33713344e-02\n",
      "  4.38015518e-03 2.52961419e-04 6.33290023e-03 1.54727673e-03\n",
      "  7.03961206e-03 1.01520943e-02 5.54176045e-03 1.44788184e-02\n",
      "  1.66530477e-02 1.97166128e-03 2.21148982e-03 1.91605223e-03\n",
      "  1.75172865e-02 8.71037431e-03 5.12820652e-03 2.13001716e-03\n",
      "  1.41502869e-02 5.22641269e-03 3.01064218e-03 1.42530498e-02\n",
      "  1.10797109e-02 5.62212955e-06 2.25575121e-03 1.18501247e-02\n",
      "  1.84353254e-03 8.39549680e-03 1.31891961e-02 1.44121842e-02\n",
      "  3.53845323e-03 1.15190561e-02 6.92465417e-03 9.56484307e-03\n",
      "  2.25687036e-03 1.00731954e-02 1.50013799e-03 4.92184405e-03\n",
      "  1.05406281e-02 4.48747121e-03 1.58411745e-02 1.56756247e-02\n",
      "  1.95965201e-03 5.73406435e-04 2.96563499e-03 7.15396915e-03\n",
      "  1.38770679e-02 5.95836105e-04 1.22155609e-02 8.55948940e-03\n",
      "  1.33788017e-02 2.96118093e-03 1.69057100e-02 7.18993269e-03\n",
      "  3.61480895e-03 1.63410533e-02 1.09875716e-02 1.28310385e-02\n",
      "  3.85242687e-03 3.89580495e-03 5.68712302e-04 7.67509766e-03\n",
      "  7.99664626e-03 7.04420392e-03 5.86152781e-03 6.39253835e-03\n",
      "  1.24230539e-02 1.66431213e-02 1.11609255e-02 6.29186217e-03\n",
      "  5.07545783e-03 1.18762668e-02 1.23093500e-02 4.33010402e-03\n",
      "  2.56719740e-03 7.11794395e-03 1.33943961e-02 2.42177089e-03\n",
      "  3.95871649e-03 1.50883700e-02 1.54428394e-02 7.30478098e-03\n",
      "  3.05653107e-03 6.06340071e-03 1.61575573e-02 2.92254949e-03\n",
      "  8.74026789e-03 6.24423093e-03 8.08749284e-04 1.09718581e-04]]\n"
     ]
    }
   ],
   "source": [
    "Y = (Y - Y.mean()) / Y.std()\n",
    "print(Y[0:3])\n",
    "X = X / np.linalg.norm(X)\n",
    "print(X[0:3])"
   ]
  },
  {
   "cell_type": "code",
   "execution_count": 184,
   "id": "904692c1",
   "metadata": {},
   "outputs": [
    {
     "name": "stdout",
     "output_type": "stream",
     "text": [
      "[[1.23369942e-02 1.10714128e-02 3.36875906e-03 ... 1.14726187e-02\n",
      "  5.08932800e-03 1.01253437e-03]\n",
      " [8.87809186e-03 1.26559807e-02 1.44054601e-02 ... 1.98727583e-03\n",
      "  1.39376827e-02 7.61330947e-03]\n",
      " [7.99025123e-03 1.30332911e-02 1.02413174e-02 ... 6.24423093e-03\n",
      "  8.08749284e-04 1.09718581e-04]\n",
      " ...\n",
      " [5.66635755e-04 4.91321107e-03 8.59975387e-03 ... 2.37606961e-03\n",
      "  1.34129820e-03 8.58239756e-03]\n",
      " [4.57075163e-05 3.36557181e-03 3.52825280e-03 ... 5.99018170e-03\n",
      "  6.66847153e-04 1.17820209e-03]\n",
      " [1.28771312e-02 1.17788107e-02 1.32797460e-03 ... 2.05025855e-03\n",
      "  8.08628473e-03 4.05003898e-03]]\n",
      "[-8.85430117e-02  1.87718844e-01 -1.15194511e+00  6.78023035e-01\n",
      "  4.71750906e-01 -2.01865142e-01  9.89222305e-01  1.21649895e+00\n",
      "  1.68771913e-03 -4.07835279e-01 -1.05579453e-01  1.68393654e+00\n",
      " -2.07028853e+00 -1.13561473e+00 -1.01761886e+00  5.33274109e-02\n",
      " -8.41758479e-02  1.86604264e-02  3.86638565e+00 -1.17517833e-02\n",
      " -1.84554510e+00  9.36253996e-01 -1.80171524e-01 -5.73655276e-01\n",
      " -3.59044842e-01  1.31140961e+00  7.34945744e-01 -5.75322098e-01\n",
      "  6.03015053e-01  1.18802798e+00 -5.08099752e-01 -1.08161945e+00\n",
      "  1.65164071e+00 -3.31774193e-01  5.99314024e-01 -1.13155545e+00\n",
      "  1.76737403e+00  1.39359971e+00 -1.75721684e-01 -9.30745228e-01\n",
      "  3.91703816e-01 -7.50062694e-01 -1.25978165e+00 -2.01643172e+00\n",
      "  1.51999542e-01 -1.16028107e+00 -1.02496675e+00  1.39461615e+00\n",
      "  1.81990458e-02 -9.96219453e-02  2.45182775e-01  1.73469747e+00\n",
      " -9.33834737e-02 -1.45441060e+00 -1.93424706e-01  1.27396410e+00\n",
      " -1.28121670e+00  7.04363001e-01  1.19735491e+00 -5.21787038e-03\n",
      "  2.53871745e-01 -8.12410497e-01 -3.93040124e-01  2.39976492e-01\n",
      " -1.61332622e+00 -5.58837216e-02 -9.51205275e-01  1.03060918e+00\n",
      " -8.19648870e-01 -4.85105424e-01  1.35293242e+00 -1.40101838e-01\n",
      "  3.57380752e-01 -4.07305044e-01  5.32892055e-02  6.61502977e-01\n",
      " -9.61640676e-02 -4.02083844e-01 -1.71655937e+00 -6.68203835e-01\n",
      " -1.20994655e+00  1.39308636e+00  2.26466989e+00  1.58770000e+00\n",
      " -1.13911031e+00  5.38407618e-01 -3.54611086e-01 -4.53571012e-01\n",
      " -3.21483005e-01  3.61854203e-01 -4.91782445e-01  3.90753727e-01\n",
      " -4.92050633e-01 -1.12206097e+00 -3.35511907e-02  9.10791145e-01\n",
      " -1.03342977e+00  2.52069440e-01  1.17430870e-01  1.08678618e-01\n",
      "  1.80028508e-01]\n"
     ]
    }
   ],
   "source": [
    "print(X)\n",
    "print(Y)"
   ]
  },
  {
   "cell_type": "code",
   "execution_count": 185,
   "id": "74b56b9e",
   "metadata": {},
   "outputs": [
    {
     "name": "stdout",
     "output_type": "stream",
     "text": [
      "100\n"
     ]
    }
   ],
   "source": [
    "print(len(X[0]))"
   ]
  },
  {
   "cell_type": "markdown",
   "id": "beec7c5b",
   "metadata": {},
   "source": [
    "### Set up X, Y train"
   ]
  },
  {
   "cell_type": "code",
   "execution_count": 186,
   "id": "f901b099",
   "metadata": {},
   "outputs": [],
   "source": [
    "X_train = copy.deepcopy(X)\n",
    "Y_train = copy.deepcopy(Y[:len(Y) - 1])\n",
    "# X_train = [torch.tensor(member) for member in X_train]\n",
    "# Y_train = [torch.tensor(member) for member in Y_train]\n",
    "dim = len(X[0])"
   ]
  },
  {
   "cell_type": "code",
   "execution_count": 187,
   "id": "9d469a0f",
   "metadata": {},
   "outputs": [
    {
     "data": {
      "text/plain": [
       "1.004824689354094"
      ]
     },
     "execution_count": 187,
     "metadata": {},
     "output_type": "execute_result"
    }
   ],
   "source": [
    "np.std(Y_train)"
   ]
  },
  {
   "cell_type": "markdown",
   "id": "2ab2dcb2",
   "metadata": {},
   "source": [
    "# Model and Guide Setup"
   ]
  },
  {
   "cell_type": "code",
   "execution_count": 188,
   "id": "c01a2886",
   "metadata": {},
   "outputs": [],
   "source": [
    "global prev_mu_q\n",
    "\n",
    "prev_mu_q = torch.zeros(dim, dtype=torch.float64)"
   ]
  },
  {
   "cell_type": "code",
   "execution_count": 189,
   "id": "3d61d587",
   "metadata": {},
   "outputs": [],
   "source": [
    "std0 = torch.eye(dim, dtype=torch.float64) * 0.3\n",
    "def model(data):\n",
    "    # define the hyperparameters that control the Beta prior\n",
    "    mu0 = torch.zeros(dim, dtype=torch.float64)\n",
    "    # sample f from the Beta prior\n",
    "    f = pyro.sample(\"latent_fairness\", dist.MultivariateNormal(mu0, std0))\n",
    "    # loop over the observed data\n",
    "    subset = random.sample(data, int(len(data) / dim))\n",
    "    for i in range(len(subset)):\n",
    "        pyro.sample(\"obs_{}\".format(i), dist.Normal(f.dot(data[i][0]), 0.3), obs=data[i][1])\n",
    "\n",
    "def guide(data):\n",
    "    # register the two variational parameters with Pyro\n",
    "    # - both parameters will have initial value 15.0.\n",
    "    # - because we invoke constraints.positive, the optimizer\n",
    "    # will take gradients on the unconstrained parameters\n",
    "    # (which are related to the constrained parameters by a log)\n",
    "    mu_q = pyro.param(\"mu_q\", copy.deepcopy(prev_mu_q))\n",
    "    # sample latent_fairness from the distribution Beta(alpha_q, beta_q)\n",
    "    pyro.sample(\"latent_fairness\", dist.MultivariateNormal(mu_q, std0))"
   ]
  },
  {
   "cell_type": "code",
   "execution_count": 190,
   "id": "fa57e2f1",
   "metadata": {},
   "outputs": [],
   "source": [
    "def train_SVI(D_hat, n_steps):\n",
    "    # setup the optimizer\n",
    "    adam_params = {\"lr\": 0.005, \"betas\": (0.90, 0.999)}\n",
    "    optimizer = Adam(adam_params)\n",
    "\n",
    "    # setup the inference algorithm\n",
    "    svi = SVI(model, guide, optimizer, loss=Trace_ELBO())\n",
    "\n",
    "    # do gradient steps\n",
    "    for step in range(n_steps):\n",
    "        loss = svi.step(D_hat)\n",
    "        if loss < 1e-5:\n",
    "            break\n",
    "    \n",
    "    breakpoint()\n",
    "    mu_q = pyro.param(\"mu_q\")\n",
    "    return mu_q"
   ]
  },
  {
   "cell_type": "markdown",
   "id": "094040c8",
   "metadata": {},
   "source": [
    "# Run Sklearn on Data"
   ]
  },
  {
   "cell_type": "code",
   "execution_count": 191,
   "id": "1d62d0a8",
   "metadata": {},
   "outputs": [
    {
     "name": "stdout",
     "output_type": "stream",
     "text": [
      "3.866385654267805\n",
      "-2.070288532508463\n",
      "3.866385654267805 Not added\n",
      "3.766385654267805 Not added\n",
      "3.666385654267805 Not added\n",
      "3.5663856542678047 Not added\n",
      "3.4663856542678047 Not added\n",
      "3.3663856542678046 Not added\n",
      "3.2663856542678045 Not added\n",
      "3.1663856542678044 Not added\n",
      "3.0663856542678043 Not added\n",
      "2.966385654267804 Not added\n",
      "2.866385654267804 Not added\n",
      "2.766385654267804 Not added\n",
      "2.666385654267804 Not added\n",
      "2.566385654267804 Not added\n",
      "2.4663856542678038 Not added\n",
      "2.3663856542678037 Not added\n",
      "2.2663856542678036 Not added\n",
      "2.1663856542678035 Not added\n",
      "2.0663856542678034 Not added\n",
      "1.9663856542678033 Not added\n",
      "1.8663856542678032 Not added\n",
      "1.7663856542678031 Not added\n",
      "1.666385654267803 Not added\n",
      "1.566385654267803 Added\n",
      "1.4663856542678029 Added\n",
      "1.3663856542678028 Added\n",
      "1.2663856542678027 Added\n",
      "1.1663856542678026 Added\n",
      "1.0663856542678025 Added\n",
      "0.9663856542678025 Added\n",
      "0.8663856542678026 Added\n",
      "0.7663856542678026 Added\n",
      "0.6663856542678026 Added\n",
      "0.5663856542678026 Added\n",
      "0.46638565426780265 Added\n",
      "0.3663856542678027 Added\n",
      "0.2663856542678027 Added\n",
      "0.1663856542678027 Added\n",
      "0.06638565426780269 Added\n",
      "-0.03361434573219732 Added\n",
      "-0.13361434573219733 Added\n",
      "-0.23361434573219733 Added\n",
      "-0.33361434573219734 Added\n",
      "-0.43361434573219737 Added\n",
      "-0.5336143457321973 Added\n",
      "-0.6336143457321973 Added\n",
      "-0.7336143457321973 Added\n",
      "-0.8336143457321973 Added\n",
      "-0.9336143457321973 Added\n",
      "-1.0336143457321973 Added\n",
      "-1.1336143457321974 Added\n",
      "-1.2336143457321975 Added\n",
      "-1.3336143457321976 Added\n",
      "-1.4336143457321977 Added\n",
      "-1.5336143457321978 Added\n",
      "-1.6336143457321979 Added\n",
      "-1.733614345732198 Not added\n",
      "-1.833614345732198 Not added\n",
      "-1.9336143457321981 Not added\n",
      "-2.033614345732198 Not added\n"
     ]
    }
   ],
   "source": [
    "y_hat = max(Y_train)\n",
    "y_bottom = min(Y_train)\n",
    "print(y_hat)\n",
    "print(y_bottom)\n",
    "conformal_set = []\n",
    "decrease_size = 0.1\n",
    "start = time.time()\n",
    "while y_hat >= y_bottom:\n",
    "    pyro.clear_param_store()\n",
    "    # Create D_hat\n",
    "    # SVI shape: [(tensor(X), tensor(Y)), (tensor(X), tensor(Y)) ...]\n",
    "    # Sklearn: [[array X1, array X2, array X3 .. ], [array Y1, array Y2, array Y3 ...]]\n",
    "    D_hat[0] = X_train\n",
    "    D_hat[1] = np.append(Y_train, y_hat)\n",
    "    \n",
    "    # Train sklearn model\n",
    "    clf = linear_model.Lasso(alpha=0.1, tol=1e-8)\n",
    "    clf.fit(D_hat[0], D_hat[1])\n",
    "    mu_q = clf.coef_\n",
    "    prev_mu_q = mu_q\n",
    "    \n",
    "    # Calculate rank of y_hat\n",
    "    rank = [(abs(sum(D_hat[0][i] * mu_q) - D_hat[1][i])) for i in range(len(D_hat[0]))]\n",
    "    y_hat_rank = rank[-1]\n",
    "    \n",
    "    # Add to conformal set if in not in bottom 10 percent of probabilities\n",
    "    if np.count_nonzero(y_hat_rank > rank) / len(rank) < 0.9:\n",
    "        conformal_set.append(copy.deepcopy(y_hat))\n",
    "        print(f\"{y_hat} Added\")\n",
    "    else:\n",
    "        print(f\"{y_hat} Not added\")\n",
    "        \n",
    "    y_hat -= decrease_size\n",
    "conformal_set = [min(conformal_set), max(conformal_set)]\n",
    "end = time.time()"
   ]
  },
  {
   "cell_type": "code",
   "execution_count": 192,
   "id": "755e7a77",
   "metadata": {},
   "outputs": [
    {
     "name": "stdout",
     "output_type": "stream",
     "text": [
      "Conformal Set: [-1.6336143457321979, 1.566385654267803]\n",
      "Length: 3.200000000000001\n",
      "Y[-1]: 0.18002850831690767\n",
      "Y[-1] is covered\n",
      "Elapsed Time: 0.09563803672790527\n"
     ]
    }
   ],
   "source": [
    "print(f\"Conformal Set: [{float(conformal_set[0])}, {float(conformal_set[1])}]\")\n",
    "print(f\"Length: {float(conformal_set[1] - conformal_set[0])}\")\n",
    "print(f\"Y[-1]: {Y[-1]}\")\n",
    "if Y[-1] >= conformal_set[0] and Y[-1] <= conformal_set[1]:\n",
    "    print(f\"Y[-1] is covered\")\n",
    "else:\n",
    "    print(\"Y[-1] is Not covered\")\n",
    "print(f\"Elapsed Time: {end - start}\")"
   ]
  },
  {
   "cell_type": "code",
   "execution_count": null,
   "id": "97704fa2",
   "metadata": {},
   "outputs": [],
   "source": []
  }
 ],
 "metadata": {
  "kernelspec": {
   "display_name": "Python 3 (ipykernel)",
   "language": "python",
   "name": "python3"
  },
  "language_info": {
   "codemirror_mode": {
    "name": "ipython",
    "version": 3
   },
   "file_extension": ".py",
   "mimetype": "text/x-python",
   "name": "python",
   "nbconvert_exporter": "python",
   "pygments_lexer": "ipython3",
   "version": "3.9.13"
  }
 },
 "nbformat": 4,
 "nbformat_minor": 5
}
