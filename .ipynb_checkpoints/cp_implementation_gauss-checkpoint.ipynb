{
 "cells": [
  {
   "cell_type": "markdown",
   "id": "04035a62",
   "metadata": {},
   "source": [
    "# Imports"
   ]
  },
  {
   "cell_type": "code",
   "execution_count": 122,
   "id": "760eb5e7",
   "metadata": {},
   "outputs": [],
   "source": [
    "import math\n",
    "import os\n",
    "import torch\n",
    "import torch.distributions.constraints as constraints\n",
    "import pyro\n",
    "import numpy as np\n",
    "import copy\n",
    "import time\n",
    "import snakeviz\n",
    "from pyro.optim import Adam\n",
    "from pyro.infer import SVI, Trace_ELBO\n",
    "import pyro.distributions as dist\n",
    "import random\n",
    "from sklearn.datasets import load_diabetes\n",
    "assert pyro.__version__.startswith('1.8.4')\n",
    "\n",
    "# clear the param store in case we're in a REPL\n",
    "pyro.clear_param_store()"
   ]
  },
  {
   "cell_type": "markdown",
   "id": "3404a136",
   "metadata": {},
   "source": [
    "# Load Datasets"
   ]
  },
  {
   "cell_type": "markdown",
   "id": "55ef8d32",
   "metadata": {},
   "source": [
    "### Random Dataset"
   ]
  },
  {
   "cell_type": "code",
   "execution_count": 123,
   "id": "c6427873",
   "metadata": {},
   "outputs": [],
   "source": [
    "def generate_stdp_dataset(dim, num_examples, min_value, max_value):\n",
    "    X = np.random.random((num_examples + 1, dim)) * (max_value - min_value) + min_value\n",
    "    beta = np.random.random((dim)) * (max_value - min_value) + min_value\n",
    "\n",
    "    noise = np.random.normal(0, np.sqrt(max_value - min_value), num_examples + 1)\n",
    "    Y = X[:num_examples + 1] @ beta + noise\n",
    "\n",
    "    X = np.asfortranarray(X)\n",
    "    Y = np.asfortranarray(Y)\n",
    "    X /= np.linalg.norm(X, axis=0)\n",
    "    Y = (Y - Y.mean()) / Y.std()\n",
    "    Y = Y * max_value\n",
    "\n",
    "    Y = Y/np.linalg.norm(Y)\n",
    "\n",
    "    return X, Y, beta"
   ]
  },
  {
   "cell_type": "code",
   "execution_count": 124,
   "id": "5eb99929",
   "metadata": {},
   "outputs": [],
   "source": [
    "X, Y, beta = generate_stdp_dataset(10, 442, 0, 1)"
   ]
  },
  {
   "cell_type": "markdown",
   "id": "cf69c26b",
   "metadata": {},
   "source": [
    "### Diabetes Dataset"
   ]
  },
  {
   "cell_type": "markdown",
   "id": "8a17fed1",
   "metadata": {},
   "source": [
    "X, Y = load_diabetes(return_X_y = True)"
   ]
  },
  {
   "cell_type": "markdown",
   "id": "198c2170",
   "metadata": {},
   "source": [
    "print(Y[0:3])\n",
    "Y = (Y - Y.mean()) / Y.std()\n",
    "print(Y[0:3])\n",
    "X = X / np.linalg.norm(X)\n",
    "print(X[0:3])"
   ]
  },
  {
   "cell_type": "code",
   "execution_count": 125,
   "id": "904692c1",
   "metadata": {},
   "outputs": [
    {
     "name": "stdout",
     "output_type": "stream",
     "text": [
      "[[0.07498878 0.03125211 0.04375566 ... 0.07307114 0.02788799 0.05022237]\n",
      " [0.00582151 0.00051513 0.02032679 ... 0.0301839  0.05747256 0.05347339]\n",
      " [0.03433296 0.006416   0.01261067 ... 0.01085239 0.0457718  0.02672523]\n",
      " ...\n",
      " [0.0591952  0.06900093 0.0252998  ... 0.00229927 0.01127279 0.02686097]\n",
      " [0.01509079 0.04430986 0.01555235 ... 0.03972293 0.05611886 0.0227185 ]\n",
      " [0.03818813 0.02593351 0.03259208 ... 0.06043853 0.05475582 0.01136065]]\n",
      "[-1.68287437e-02 -3.91061897e-03 -5.70309300e-02  1.94281099e-03\n",
      "  2.45938129e-02 -1.22729007e-02 -3.47212542e-02  3.79699001e-02\n",
      " -5.18987635e-02  8.58777973e-03  5.51814286e-02  1.99956601e-02\n",
      " -1.12022374e-02 -1.24745675e-01  8.37647340e-02  1.49699388e-02\n",
      "  1.94919368e-03 -2.69812744e-02  1.32850519e-02  9.87974823e-03\n",
      "  1.22528919e-01  7.91537595e-02  2.30514850e-02 -2.86319861e-02\n",
      " -1.75417215e-02 -2.36358922e-02 -5.48567063e-02 -1.46912043e-02\n",
      "  1.77930375e-02  1.74292395e-02  4.35282447e-02 -3.53542619e-02\n",
      " -3.05024764e-02  5.84889080e-02  2.94228319e-02  3.29221663e-02\n",
      "  7.86263535e-02 -3.58499423e-03  6.22443469e-02 -8.17083472e-02\n",
      "  1.12239358e-01 -1.01818880e-01  6.67112940e-02  3.71890908e-02\n",
      "  2.79643286e-02  2.78762422e-02  8.80456590e-02 -6.11105570e-02\n",
      "  2.90888415e-02 -2.06414215e-02  1.85605843e-02 -6.35242504e-02\n",
      "  3.54767045e-02  2.89194103e-02 -4.67759169e-02 -4.89116292e-02\n",
      " -2.47012407e-02  2.81264815e-02 -7.11474752e-03 -4.14536169e-02\n",
      "  4.70956137e-02 -6.90211368e-02 -6.74500178e-02  1.24212807e-02\n",
      "  4.42248721e-02 -8.07694544e-02 -2.67254721e-02 -5.65882275e-02\n",
      " -9.20944795e-02  4.25227416e-02 -8.80337319e-02 -1.37490531e-02\n",
      " -8.93479674e-02  1.08894365e-01  4.23615347e-02 -2.30453497e-03\n",
      " -1.68669045e-02 -3.27867481e-02  2.69276096e-02 -3.84664522e-02\n",
      "  6.60090717e-02 -4.37472455e-02  5.54408587e-02 -3.29460911e-02\n",
      " -8.10544217e-03 -2.08455060e-02  8.97010162e-02  1.21225952e-02\n",
      " -4.29002911e-02  1.24573652e-02  8.08152603e-02  2.00399232e-02\n",
      "  2.87335309e-02 -3.20547761e-02  9.73604344e-02  6.03107867e-02\n",
      " -9.04521393e-03  4.47345947e-03  4.07681959e-02 -1.53817382e-02\n",
      "  1.90112756e-02 -4.54872360e-03  4.09571209e-02 -1.93095882e-02\n",
      "  3.38993471e-02  2.55553629e-03  8.01087697e-02 -2.97447335e-02\n",
      "  5.13913007e-03 -4.42422179e-02 -2.62626502e-02  2.00965104e-02\n",
      " -5.75747969e-02  1.29982088e-01  5.18908890e-03 -5.50105005e-02\n",
      "  1.18140355e-02  3.68775547e-02  1.77466423e-02 -3.72926482e-02\n",
      " -3.18650185e-02  3.26963047e-02  6.15196790e-02 -2.23377943e-02\n",
      "  3.06649311e-02 -1.12575999e-02 -3.58748031e-02  6.72431748e-02\n",
      " -1.28836201e-02 -5.58800050e-02  8.82157942e-03 -1.42981349e-02\n",
      "  3.67360677e-02  4.38146198e-02  3.78749602e-02 -1.26623743e-02\n",
      "  5.39974670e-02 -4.91381948e-02 -1.93811425e-02  3.61354852e-02\n",
      " -5.77042576e-02  1.92650265e-02 -4.45645361e-02 -2.40807554e-02\n",
      "  2.55679658e-02 -3.66621161e-02 -9.15600575e-03 -1.07048468e-01\n",
      " -1.06390049e-01  7.28250134e-02 -5.75952467e-02 -6.84172790e-02\n",
      " -3.39212173e-03  3.60746874e-02 -2.22636556e-03  1.33747194e-02\n",
      "  1.18890103e-02 -8.63589300e-02  2.74940519e-02  1.25119484e-01\n",
      " -2.42580234e-02 -1.35859434e-02 -4.62496010e-02 -2.25449891e-02\n",
      " -4.73025449e-03  1.61796992e-02 -3.46867371e-02 -3.14958917e-02\n",
      " -6.90306304e-02  1.15063807e-02 -1.18432191e-01  1.60836421e-04\n",
      "  1.56804802e-02 -6.34158629e-02  4.23165829e-03  1.11465064e-01\n",
      " -7.53411994e-03 -7.14144566e-02  7.28975840e-02  8.24792309e-02\n",
      " -1.10802302e-01  2.16247288e-02 -2.36651331e-02  2.09604663e-02\n",
      " -8.32276348e-02  2.92719554e-02  2.31746891e-02  5.17969607e-02\n",
      "  8.43881590e-03 -7.16228074e-02  2.09843975e-02  1.16385294e-01\n",
      " -1.80440783e-02 -7.34436214e-02 -9.22134827e-02  9.45284502e-02\n",
      " -2.77001381e-02 -2.95723478e-02 -3.73014165e-02 -4.73118161e-02\n",
      "  2.03244221e-02  5.36657613e-02  8.95375089e-02 -5.91963866e-02\n",
      " -8.55648529e-03  1.14471105e-02 -7.09696677e-03  7.32380027e-02\n",
      " -4.90085997e-02 -4.62870125e-02  3.25171800e-02  7.05752146e-02\n",
      " -4.78098771e-02  3.65398422e-02 -4.73652333e-02 -5.38739949e-02\n",
      " -5.45560370e-02 -2.38432890e-03 -8.76477102e-03  7.74374607e-03\n",
      " -1.43614355e-02 -1.64654548e-02 -2.38584476e-02 -3.21767999e-02\n",
      "  7.23548329e-02 -2.12681979e-02 -2.14172381e-02 -3.33867460e-02\n",
      " -7.72172930e-02  5.13713107e-02  2.85988997e-02 -4.48231663e-02\n",
      " -6.96424759e-02  5.84189751e-02 -2.97744713e-02  2.24016214e-02\n",
      " -3.33632545e-02 -4.75106270e-02  5.04231528e-02  3.49715634e-02\n",
      " -5.51647304e-02  6.22623907e-02 -2.63750289e-02  5.33291205e-02\n",
      "  4.65901455e-04  1.43527113e-02 -2.63904776e-02 -3.40235208e-02\n",
      " -1.93658251e-02 -2.41549267e-03  2.98397465e-02 -1.10664650e-01\n",
      " -3.75137797e-03 -7.47395643e-02 -2.66375250e-02 -4.07873153e-02\n",
      "  1.62465513e-02 -1.33975157e-02  3.42942599e-02  2.76109739e-02\n",
      " -3.43325671e-02  1.51404603e-02 -5.65387902e-02 -5.63297897e-03\n",
      " -2.54970656e-02 -2.02308485e-02  4.08144370e-02 -3.29255946e-02\n",
      "  7.10708182e-02  2.94567500e-02  4.96537274e-02  9.11607930e-02\n",
      " -4.92737931e-02  1.70444400e-02 -1.15554393e-01 -8.59742820e-04\n",
      "  3.20140097e-02 -3.95853071e-02 -2.58012655e-02 -5.17069044e-02\n",
      " -2.63935131e-02  1.24747846e-02  3.78087898e-03 -3.15053596e-02\n",
      " -2.57422171e-02  4.13157280e-02  7.73107549e-03  1.22716965e-02\n",
      " -8.23023306e-02  6.14781793e-02 -2.96819807e-02 -1.49680563e-02\n",
      "  2.68545334e-02 -2.67981945e-02 -2.32711310e-02  4.21911817e-02\n",
      "  3.58174049e-02  2.92270330e-02  4.08557725e-02 -2.28067258e-02\n",
      " -1.28008344e-02 -1.05724903e-02 -5.91352738e-02 -5.70733360e-02\n",
      " -9.04014012e-02 -3.16451980e-03 -2.89275301e-02 -4.03372043e-02\n",
      " -1.08586207e-02 -7.46788031e-03 -1.14051130e-02 -1.37895552e-02\n",
      " -6.16258001e-02  6.77332605e-02  4.37775103e-02  2.21531769e-02\n",
      "  1.84846516e-02  1.02267819e-02  1.04899701e-03  2.52857809e-03\n",
      "  5.06627656e-02  1.28886644e-02  1.72961157e-02  1.52550858e-02\n",
      "  2.54550620e-05 -2.73438004e-02  3.63150064e-02  3.61071544e-03\n",
      "  6.22771725e-04 -5.78786495e-03  8.12113276e-02  2.81913306e-02\n",
      " -5.97171885e-02  2.09093775e-02 -1.42228035e-02  3.19754054e-02\n",
      " -2.35437446e-02  6.93402466e-02  6.92562755e-02 -1.07671901e-02\n",
      " -4.41293513e-02  7.22918529e-03 -5.45056729e-02 -1.34302490e-02\n",
      "  6.85779211e-02 -5.36892140e-02 -8.04922948e-02  2.88580552e-02\n",
      " -5.48239760e-02  1.22504119e-02  5.36692553e-02 -1.73257519e-03\n",
      "  4.74022074e-02  5.51411370e-02  2.55209640e-02  4.14734281e-02\n",
      "  5.34569389e-02  4.22820305e-02  3.71256918e-02 -1.47400276e-03\n",
      "  9.99914854e-03 -1.21186008e-02  1.43694349e-02  9.26221706e-02\n",
      " -9.60968875e-02  3.93097684e-02 -5.01083159e-02  2.64557934e-02\n",
      "  2.26865387e-02  7.39983717e-03  4.96896875e-02 -4.09012773e-02\n",
      "  1.81731929e-02  5.79418765e-02  2.24496904e-02  1.31765918e-02\n",
      "  5.09360712e-02  1.00028187e-01 -1.95395247e-02  1.97831964e-02\n",
      "  8.72437917e-02  5.47826289e-02 -1.17453421e-02 -3.55722819e-03\n",
      "  2.16306589e-02  5.03194338e-02  6.68980869e-02  5.15255884e-02\n",
      "  1.13901815e-02 -4.75174967e-02  2.31696042e-02 -3.21660193e-02\n",
      "  3.01700967e-02 -4.07994215e-02 -2.16643420e-02  7.00265447e-02\n",
      " -4.94565981e-02  1.20801377e-03 -5.98366221e-02 -5.64746952e-02\n",
      " -3.47410232e-02  5.97077597e-03  1.92984912e-02 -2.38819029e-02\n",
      " -2.52192732e-02 -6.89420213e-02  1.07926234e-03 -3.38151586e-02\n",
      " -6.25996969e-02  4.66146024e-03  3.07501533e-02  4.74262136e-02\n",
      " -6.45429983e-02 -1.19377066e-02 -4.85460385e-02  3.83860781e-02\n",
      " -2.74125530e-03 -3.46584286e-03  9.37059055e-02  3.80650267e-02\n",
      "  4.88170308e-02  5.25991745e-02 -4.00340482e-02  3.77258059e-02\n",
      "  2.33245665e-02 -7.29771558e-02 -3.70510800e-02  4.03357281e-02\n",
      " -3.17718840e-02 -9.01372146e-03  4.31398381e-02  8.08154600e-02\n",
      " -1.60962993e-01 -2.62185218e-02  3.00793894e-02 -1.39689568e-02\n",
      "  3.18593664e-02 -4.20442485e-02  5.78656216e-03 -3.64517097e-03\n",
      " -5.00466400e-02 -1.81747105e-02  4.46146700e-02]\n"
     ]
    }
   ],
   "source": [
    "print(X)\n",
    "print(Y)"
   ]
  },
  {
   "cell_type": "code",
   "execution_count": 126,
   "id": "74b56b9e",
   "metadata": {},
   "outputs": [
    {
     "name": "stdout",
     "output_type": "stream",
     "text": [
      "10\n"
     ]
    }
   ],
   "source": [
    "print(len(X[0]))"
   ]
  },
  {
   "cell_type": "markdown",
   "id": "beec7c5b",
   "metadata": {},
   "source": [
    "### Set up X, Y train"
   ]
  },
  {
   "cell_type": "code",
   "execution_count": 127,
   "id": "f901b099",
   "metadata": {},
   "outputs": [],
   "source": [
    "X_train = copy.deepcopy(X)\n",
    "Y_train = copy.deepcopy(Y[:len(Y) - 1])\n",
    "X_train = [torch.tensor(member) for member in X_train]\n",
    "Y_train = [torch.tensor(member) for member in Y_train]\n",
    "dim = len(X[0])"
   ]
  },
  {
   "cell_type": "code",
   "execution_count": 128,
   "id": "9d469a0f",
   "metadata": {},
   "outputs": [
    {
     "data": {
      "text/plain": [
       "0.04751768015553658"
      ]
     },
     "execution_count": 128,
     "metadata": {},
     "output_type": "execute_result"
    }
   ],
   "source": [
    "np.std(Y_train)"
   ]
  },
  {
   "cell_type": "markdown",
   "id": "2ab2dcb2",
   "metadata": {},
   "source": [
    "# Model and Guide Setup"
   ]
  },
  {
   "cell_type": "code",
   "execution_count": 129,
   "id": "c01a2886",
   "metadata": {},
   "outputs": [],
   "source": [
    "global prev_mu_q\n",
    "\n",
    "prev_mu_q = torch.zeros(dim, dtype=torch.float64)"
   ]
  },
  {
   "cell_type": "code",
   "execution_count": 130,
   "id": "3d61d587",
   "metadata": {},
   "outputs": [],
   "source": [
    "std0 = torch.eye(dim, dtype=torch.float64) * 0.3\n",
    "def model(data):\n",
    "    # define the hyperparameters that control the Beta prior\n",
    "    mu0 = torch.zeros(dim, dtype=torch.float64)\n",
    "    std0 = torch.eye(dim, dtype=torch.float64) * 0.3\n",
    "    # sample f from the Beta prior\n",
    "    std = pyro.sample(\"sigma\", dist.HalfNormal(1))\n",
    "\n",
    "    f = pyro.sample(\"latent_fairness\", dist.MultivariateNormal(mu0, std0))\n",
    "    # loop over the observed data\n",
    "    # int(len(data) / dim) was using this as sample count\n",
    "    subset = random.sample(data, 200)\n",
    "    for i in range(len(subset)):\n",
    "        pyro.sample(\"obs_{}\".format(i), dist.Normal(f.dot(subset[i][0]), std), obs=subset[i][1])\n",
    "        \n",
    "def guide(data):\n",
    "    # register the two variational parameters with Pyro\n",
    "    # - both parameters will have initial value 15.0.\n",
    "    # - because we invoke constraints.positive, the optimizer\n",
    "    # will take gradients on the unconstrained parameters\n",
    "    # (which are related to the constrained parameters by a log)\n",
    "    mu_q = pyro.param(\"mu_q\", copy.deepcopy(prev_mu_q))\n",
    "    # sample latent_fairness from the distribution Beta(alpha_q, beta_q)\n",
    "    pyro.sample(\"latent_fairness\", dist.MultivariateNormal(mu_q, std0))"
   ]
  },
  {
   "cell_type": "code",
   "execution_count": 131,
   "id": "fa57e2f1",
   "metadata": {},
   "outputs": [],
   "source": [
    "def train_SVI(D_hat, n_steps, prev_mu_q = None):\n",
    "    # setup the optimizer\n",
    "    adam_params = {\"lr\": 0.005, \"betas\": (0.90, 0.999)}\n",
    "    optimizer = Adam(adam_params)\n",
    "\n",
    "    # setup the inference algorithm\n",
    "    guide = pyro.infer.autoguide.AutoMultivariateNormal(model)\n",
    "#     if prev_mu_q is not None:\n",
    "#         print(guide.state_dict().keys())\n",
    "#         guide.state_dict()[\"loc\"][0:10] = prev_mu_q\n",
    "    svi = SVI(model, guide, optimizer, loss=Trace_ELBO())\n",
    "    losses = []\n",
    "    # do gradient steps\n",
    "    for step in range(n_steps):\n",
    "        loss = svi.step(D_hat)\n",
    "        losses.append(loss)\n",
    "        if loss < 1e-5:\n",
    "            break\n",
    "    \n",
    "    mu_q = guide.state_dict()[\"loc\"]\n",
    "    return mu_q[0:10], losses"
   ]
  },
  {
   "cell_type": "markdown",
   "id": "094040c8",
   "metadata": {},
   "source": [
    "# Run VI on Data "
   ]
  },
  {
   "cell_type": "code",
   "execution_count": 132,
   "id": "0ecc0a42",
   "metadata": {},
   "outputs": [],
   "source": [
    "all_losses = []"
   ]
  },
  {
   "cell_type": "code",
   "execution_count": 133,
   "id": "75c8441a",
   "metadata": {
    "scrolled": true
   },
   "outputs": [
    {
     "name": "stdout",
     "output_type": "stream",
     "text": [
      "tensor(0.1300, dtype=torch.float64)\n",
      "tensor(-0.1610, dtype=torch.float64)\n",
      "tensor(0.1300, dtype=torch.float64)\n",
      "tensor(-0.1610, dtype=torch.float64)\n",
      "0.12998208771573289 Not added\n",
      "0.02998208771573288 Added\n",
      "-0.07001791228426713 Added\n"
     ]
    }
   ],
   "source": [
    "rank_proportions = []\n",
    "y_hat = max(Y_train)\n",
    "y_bottom = min(Y_train)\n",
    "print(y_hat)\n",
    "print(y_bottom)\n",
    "conformal_set = []\n",
    "decrease_size = 0.01\n",
    "start = time.time()\n",
    "print(max(Y_train))\n",
    "print(min(Y_train))\n",
    "prev_mu_q = None\n",
    "while y_hat >= y_bottom:\n",
    "    pyro.clear_param_store()\n",
    "    # Create D_hat\n",
    "    D_hat = list(zip(X_train[:-1], Y_train))\n",
    "    D_hat.append((X_train[-1], y_hat))\n",
    "    \n",
    "    # Train SVI\n",
    "    mu_q, losses = train_SVI(D_hat, 5, prev_mu_q)\n",
    "    all_losses.append(losses)\n",
    "    prev_mu_q = copy.deepcopy(mu_q)\n",
    "    \n",
    "    # Calculate rank of y_hat\n",
    "    rank = [(abs(sum(D_hat[i][0] * mu_q) - D_hat[i][1]).detach().numpy()) for i in range(len(D_hat))]\n",
    "    y_hat_rank = rank[-1]\n",
    "    \n",
    "    # Add to conformal set if in not in bottom 10 percent of probabilities\n",
    "    current_rank_proportion = np.count_nonzero(y_hat_rank > rank) / len(rank)\n",
    "    rank_proportions.append(current_rank_proportion)\n",
    "    if current_rank_proportion < 0.8:\n",
    "        conformal_set.append(copy.deepcopy(y_hat))\n",
    "        print(f\"{y_hat} Added\")\n",
    "    else:\n",
    "        print(f\"{y_hat} Not added\")\n",
    "    y_hat -= decrease_size\n",
    "conformal_set = [min(conformal_set), max(conformal_set)]\n",
    "end = time.time()"
   ]
  },
  {
   "cell_type": "code",
   "execution_count": 134,
   "id": "755e7a77",
   "metadata": {},
   "outputs": [
    {
     "name": "stdout",
     "output_type": "stream",
     "text": [
      "Conformal Set: [-0.07001791228426713, 0.02998208771573288]\n",
      "Length: 0.1\n",
      "Y[-1]: 0.044614670032740264\n",
      "Y[-1] is Not covered\n",
      "Elapsed Time: 1.6641850471496582\n"
     ]
    }
   ],
   "source": [
    "print(f\"Conformal Set: [{float(conformal_set[0])}, {float(conformal_set[1])}]\")\n",
    "print(f\"Length: {float(conformal_set[1] - conformal_set[0])}\")\n",
    "print(f\"Y[-1]: {Y[-1]}\")\n",
    "if Y[-1] >= conformal_set[0] and Y[-1] <= conformal_set[1]:\n",
    "    print(f\"Y[-1] is covered\")\n",
    "else:\n",
    "    print(\"Y[-1] is Not covered\")\n",
    "print(f\"Elapsed Time: {end - start}\")"
   ]
  },
  {
   "cell_type": "code",
   "execution_count": 135,
   "id": "cf5b623a",
   "metadata": {},
   "outputs": [
    {
     "data": {
      "text/plain": [
       "<matplotlib.collections.PathCollection at 0x7fd8f80c5580>"
      ]
     },
     "execution_count": 135,
     "metadata": {},
     "output_type": "execute_result"
    },
    {
     "data": {
      "image/png": "[encoded data removed]",
      "text/plain": [
       "<Figure size 640x480 with 1 Axes>"
      ]
     },
     "metadata": {},
     "output_type": "display_data"
    }
   ],
   "source": [
    "import matplotlib.pyplot as plt\n",
    "plt.scatter(range(len(rank_proportions)), rank_proportions)"
   ]
  },
  {
   "cell_type": "code",
   "execution_count": 136,
   "id": "9b5db460",
   "metadata": {},
   "outputs": [
    {
     "data": {
      "image/png": "[encoded data removed]",
      "text/plain": [
       "<Figure size 640x480 with 1 Axes>"
      ]
     },
     "metadata": {},
     "output_type": "display_data"
    }
   ],
   "source": [
    "import matplotlib.pyplot as plt\n",
    "plt.scatter(range(len(all_losses[0])), all_losses[0])\n",
    "plt.show()"
   ]
  },
  {
   "cell_type": "code",
   "execution_count": 137,
   "id": "a2d8de0f",
   "metadata": {},
   "outputs": [
    {
     "ename": "NameError",
     "evalue": "name 'svi' is not defined",
     "output_type": "error",
     "traceback": [
      "\u001b[0;31m---------------------------------------------------------------------------\u001b[0m",
      "\u001b[0;31mNameError\u001b[0m                                 Traceback (most recent call last)",
      "\u001b[0;32m/var/folders/1s/1mkc4t8137lbs9x8hhg9q8940000gp/T/ipykernel_71993/1817296276.py\u001b[0m in \u001b[0;36m<module>\u001b[0;34m\u001b[0m\n\u001b[0;32m----> 1\u001b[0;31m \u001b[0mprint\u001b[0m\u001b[0;34m(\u001b[0m\u001b[0msvi\u001b[0m\u001b[0;34m.\u001b[0m\u001b[0mstate_dict\u001b[0m\u001b[0;34m(\u001b[0m\u001b[0;34m)\u001b[0m\u001b[0;34m)\u001b[0m\u001b[0;34m\u001b[0m\u001b[0;34m\u001b[0m\u001b[0m\n\u001b[0m",
      "\u001b[0;31mNameError\u001b[0m: name 'svi' is not defined"
     ]
    }
   ],
   "source": [
    "print(svi.state_dict())"
   ]
  },
  {
   "cell_type": "code",
   "execution_count": null,
   "id": "bc5210c8",
   "metadata": {},
   "outputs": [],
   "source": [
    "mu_q"
   ]
  },
  {
   "cell_type": "code",
   "execution_count": null,
   "id": "be53958e",
   "metadata": {},
   "outputs": [],
   "source": []
  }
 ],
 "metadata": {
  "kernelspec": {
   "display_name": "Python 3 (ipykernel)",
   "language": "python",
   "name": "python3"
  },
  "language_info": {
   "codemirror_mode": {
    "name": "ipython",
    "version": 3
   },
   "file_extension": ".py",
   "mimetype": "text/x-python",
   "name": "python",
   "nbconvert_exporter": "python",
   "pygments_lexer": "ipython3",
   "version": "3.9.13"
  }
 },
 "nbformat": 4,
 "nbformat_minor": 5
}
