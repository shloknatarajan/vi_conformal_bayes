{
 "cells": [
  {
   "cell_type": "markdown",
   "id": "04035a62",
   "metadata": {},
   "source": [
    "# Imports"
   ]
  },
  {
   "cell_type": "code",
   "execution_count": 231,
   "id": "760eb5e7",
   "metadata": {},
   "outputs": [],
   "source": [
    "import math\n",
    "import os\n",
    "import torch\n",
    "import torch.distributions.constraints as constraints\n",
    "import pyro\n",
    "import numpy as np\n",
    "import copy\n",
    "import time\n",
    "import snakeviz\n",
    "from pyro.optim import Adam\n",
    "from pyro.infer import SVI, Trace_ELBO\n",
    "import pyro.distributions as dist\n",
    "import random\n",
    "from sklearn.datasets import load_diabetes\n",
    "assert pyro.__version__.startswith('1.8.4')\n",
    "\n",
    "# clear the param store in case we're in a REPL\n",
    "pyro.clear_param_store()"
   ]
  },
  {
   "cell_type": "code",
   "execution_count": 232,
   "id": "e89b677c",
   "metadata": {},
   "outputs": [],
   "source": [
    "from sklearn import linear_model"
   ]
  },
  {
   "cell_type": "markdown",
   "id": "3404a136",
   "metadata": {},
   "source": [
    "# Load Datasets"
   ]
  },
  {
   "cell_type": "markdown",
   "id": "55ef8d32",
   "metadata": {},
   "source": [
    "### Random Dataset"
   ]
  },
  {
   "cell_type": "code",
   "execution_count": 233,
   "id": "c6427873",
   "metadata": {},
   "outputs": [],
   "source": [
    "def generate_stdp_dataset(dim, num_examples, min_value, max_value):\n",
    "    X = np.random.random((num_examples + 1, dim)) * (max_value - min_value) + min_value\n",
    "    beta = np.random.random((dim)) * (max_value - min_value) + min_value\n",
    "\n",
    "    noise = np.random.normal(0, np.sqrt(max_value - min_value), num_examples + 1)\n",
    "    Y = X[:num_examples + 1] @ beta + noise\n",
    "\n",
    "    X = np.asfortranarray(X)\n",
    "    Y = np.asfortranarray(Y)\n",
    "    X /= np.linalg.norm(X, axis=0)\n",
    "    Y = (Y - Y.mean()) / Y.std()\n",
    "    Y = Y * max_value\n",
    "\n",
    "    Y = Y/np.linalg.norm(Y)\n",
    "\n",
    "    return X, Y, beta"
   ]
  },
  {
   "cell_type": "code",
   "execution_count": 234,
   "id": "5eb99929",
   "metadata": {},
   "outputs": [],
   "source": [
    "X, Y, beta = generate_stdp_dataset(100, 100, 0, 1)"
   ]
  },
  {
   "cell_type": "markdown",
   "id": "cf69c26b",
   "metadata": {},
   "source": [
    "### Diabetes Dataset"
   ]
  },
  {
   "cell_type": "code",
   "execution_count": 235,
   "id": "618640dc",
   "metadata": {},
   "outputs": [],
   "source": [
    "X, Y = load_diabetes(return_X_y = True)"
   ]
  },
  {
   "cell_type": "code",
   "execution_count": 236,
   "id": "080e91d0",
   "metadata": {},
   "outputs": [
    {
     "name": "stdout",
     "output_type": "stream",
     "text": [
      "[[ 0.03807591  0.05068012  0.06169621  0.02187235 -0.0442235  -0.03482076\n",
      "  -0.04340085 -0.00259226  0.01990842 -0.01764613]\n",
      " [-0.00188202 -0.04464164 -0.05147406 -0.02632783 -0.00844872 -0.01916334\n",
      "   0.07441156 -0.03949338 -0.06832974 -0.09220405]\n",
      " [ 0.08529891  0.05068012  0.04445121 -0.00567061 -0.04559945 -0.03419447\n",
      "  -0.03235593 -0.00259226  0.00286377 -0.02593034]]\n",
      "3.1622776601684666\n",
      "[151.  75. 141.]\n",
      "152.13348416289594\n",
      "77.00574586945044\n"
     ]
    }
   ],
   "source": [
    "print(X[0:3])\n",
    "print(np.linalg.norm(X))\n",
    "print(Y[0:3])\n",
    "print(Y.mean())\n",
    "print(Y.std())"
   ]
  },
  {
   "cell_type": "markdown",
   "id": "2b086365",
   "metadata": {},
   "source": [
    "### Normalize X and Y"
   ]
  },
  {
   "cell_type": "code",
   "execution_count": 237,
   "id": "7fcb5682",
   "metadata": {},
   "outputs": [
    {
     "name": "stdout",
     "output_type": "stream",
     "text": [
      "[-0.01471948 -1.00165882 -0.14457991]\n",
      "[[ 0.01204066  0.01602646  0.01951005  0.00691665 -0.0139847  -0.01101129\n",
      "  -0.01372455 -0.00081975  0.0062956  -0.00558019]\n",
      " [-0.00059515 -0.01411692 -0.01627753 -0.00832559 -0.00267172 -0.00605998\n",
      "   0.023531   -0.0124889  -0.02160776 -0.02915748]\n",
      " [ 0.02697388  0.01602646  0.01405671 -0.0017932  -0.01441981 -0.01081324\n",
      "  -0.01023184 -0.00081975  0.0009056  -0.00819989]]\n"
     ]
    }
   ],
   "source": [
    "Y = (Y - Y.mean()) / Y.std()\n",
    "print(Y[0:3])\n",
    "X = X / np.linalg.norm(X)\n",
    "print(X[0:3])"
   ]
  },
  {
   "cell_type": "code",
   "execution_count": 238,
   "id": "904692c1",
   "metadata": {},
   "outputs": [
    {
     "name": "stdout",
     "output_type": "stream",
     "text": [
      "[[ 0.01204066  0.01602646  0.01951005 ... -0.00081975  0.0062956\n",
      "  -0.00558019]\n",
      " [-0.00059515 -0.01411692 -0.01627753 ... -0.0124889  -0.02160776\n",
      "  -0.02915748]\n",
      " [ 0.02697388  0.01602646  0.01405671 ... -0.00081975  0.0009056\n",
      "  -0.00819989]\n",
      " ...\n",
      " [ 0.01318937  0.01602646 -0.00503    ... -0.00350365 -0.01482459\n",
      "   0.0048986 ]\n",
      " [-0.01437966 -0.01411692  0.01235254 ...  0.00839889  0.01408111\n",
      "  -0.00819989]\n",
      " [-0.01437966 -0.01411692 -0.02309421 ... -0.0124889  -0.00133444\n",
      "   0.00096905]]\n",
      "[-1.47194752e-02 -1.00165882e+00 -1.44579915e-01  6.99512942e-01\n",
      " -2.22496178e-01 -7.15965848e-01 -1.83538046e-01 -1.15749134e+00\n",
      " -5.47147277e-01  2.05006151e+00 -6.64021672e-01 -1.07957508e+00\n",
      "  3.48889755e-01  4.26806019e-01 -4.43258925e-01  2.45001404e-01\n",
      "  1.80071184e-01 -1.05621783e-01 -7.15965848e-01  2.06043272e-01\n",
      " -1.09256112e+00 -1.33929596e+00 -1.09256112e+00  1.20596866e+00\n",
      "  4.13819975e-01  6.47568766e-01 -1.96524090e-01 -8.71798376e-01\n",
      " -2.74440354e-01  1.69943833e+00 -3.00412442e-01 -1.20943552e+00\n",
      "  2.45262887e+00 -8.45826288e-01 -1.13151925e+00 -6.51035629e-01\n",
      "  1.46568953e+00  1.60853602e+00  1.29687096e+00 -8.06868156e-01\n",
      " -6.77007716e-01 -1.26137969e+00 -1.18346343e+00 -7.80896068e-01\n",
      "  1.38777327e+00 -1.28735178e+00  4.91736239e-01 -1.31593871e-01\n",
      " -1.00165882e+00 -1.31593871e-01  3.72247006e-02  9.46247777e-01\n",
      " -1.20943552e+00 -6.25063541e-01  3.87847887e-01 -3.13398486e-01\n",
      " -1.30033783e+00 -1.49512849e+00  2.32015360e-01  2.32015360e-01\n",
      " -1.18346343e+00 -1.05621783e-01 -1.30033783e+00 -3.13398486e-01\n",
      " -1.05360299e+00  1.41113052e-01 -2.77055191e-02 -7.15965848e-01\n",
      "  1.02154920e-01  3.35903711e-01 -1.35228200e+00  1.53061975e+00\n",
      "  6.47568766e-01 -5.34161233e-01 -8.71798376e-01 -1.43019827e+00\n",
      "  2.32015360e-01  6.21596678e-01  1.29687096e+00 -5.08189145e-01\n",
      " -1.18607827e-01 -1.31332387e+00 -1.30033783e+00  7.51457118e-01\n",
      " -1.13151925e+00 -1.44579915e-01 -1.26137969e+00 -2.35482222e-01\n",
      " -1.43019827e+00 -5.34161233e-01 -7.02979804e-01  1.54099096e-01\n",
      " -1.35228200e+00 -7.28951892e-01 -8.06868156e-01  1.28127008e-01\n",
      " -2.77055191e-02  1.64749415e+00 -7.80896068e-01 -8.97770464e-01\n",
      " -3.13398486e-01 -6.51035629e-01  1.94617316e+00  5.95624590e-01\n",
      " -7.41937936e-01 -1.28735178e+00 -2.35482222e-01 -1.05621783e-01\n",
      "  1.03715008e+00 -9.23742551e-01 -6.25063541e-01 -1.20943552e+00\n",
      "  1.21895470e+00  1.88124294e+00  1.37478723e+00  9.98191953e-01\n",
      "  1.59554997e+00  1.67346624e+00  3.48889755e-01  6.21596678e-01\n",
      "  6.21596678e-01  2.70973492e-01  3.61875799e-01 -8.84784420e-01\n",
      " -4.04300794e-01  1.15140964e-01 -6.89993760e-01 -5.60133321e-01\n",
      " -4.82217057e-01  1.50464767e+00  1.58256393e+00  7.61828325e-02\n",
      " -5.86105409e-01 -8.97770464e-01 -6.38049585e-01  1.55659184e+00\n",
      " -8.71798376e-01  1.66048019e+00  2.38769865e+00  1.67346624e+00\n",
      " -4.43258925e-01  2.14096382e+00  1.07610822e+00 -1.19644947e+00\n",
      "  2.83959536e-01  1.38777327e+00  3.35903711e-01 -3.13398486e-01\n",
      " -7.28951892e-01 -3.39370574e-01  1.76436855e+00 -8.32840244e-01\n",
      "  1.81631272e+00 -1.05360299e+00  5.82638546e-01  4.39792063e-01\n",
      " -1.65096101e+00 -8.84784420e-01 -7.28951892e-01  5.56666458e-01\n",
      " -1.28735178e+00  8.42359425e-01  2.57987448e-01 -2.74440354e-01\n",
      "  8.03401293e-01 -1.20943552e+00 -1.06658903e+00  8.81317557e-01\n",
      "  1.50464767e+00 -1.73343121e-03 -1.36526805e+00 -1.01464486e+00\n",
      "  1.85527085e+00 -6.64021672e-01 -1.47194752e-02 -3.26384530e-01\n",
      "  1.10208030e+00  9.46247777e-01 -9.23742551e-01 -1.47194752e-02\n",
      " -5.86105409e-01 -1.14450530e+00 -1.83538046e-01  4.26806019e-01\n",
      "  1.46568953e+00 -6.64021672e-01 -1.96524090e-01 -1.18607827e-01\n",
      " -1.44579915e-01 -9.49714639e-01  1.81631272e+00  3.35903711e-01\n",
      " -7.93882112e-01 -4.69231013e-01 -8.58812332e-01 -3.91314750e-01\n",
      " -1.04061695e+00 -3.00412442e-01 -1.31593871e-01 -8.06868156e-01\n",
      "  7.61828325e-02 -1.46915640e+00  5.69652502e-01  9.07289645e-01\n",
      "  1.62152206e+00 -6.89993760e-01  5.69652502e-01  6.47568766e-01\n",
      "  3.72247006e-02 -9.75686727e-01  5.04722283e-01 -1.06658903e+00\n",
      " -1.02763090e+00 -1.33929596e+00 -1.13151925e+00  1.43971745e+00\n",
      "  1.24492679e+00  1.86825690e+00  8.03401293e-01  4.26806019e-01\n",
      " -9.62700683e-01 -7.67910024e-01  1.29687096e+00 -2.77055191e-02\n",
      " -9.75686727e-01  7.25485030e-01 -9.75686727e-01 -5.73119365e-01\n",
      "  1.02154920e-01 -1.28735178e+00  8.81317557e-01  2.42386567e-02\n",
      "  1.38777327e+00 -8.06868156e-01  1.21895470e+00 -3.65342662e-01\n",
      " -1.10554717e+00 -1.04061695e+00  1.36180118e+00  1.42673140e+00\n",
      "  1.59554997e+00  3.22917667e-01 -1.05360299e+00 -1.36526805e+00\n",
      "  4.52778107e-01 -3.52356618e-01 -9.62700683e-01 -1.31332387e+00\n",
      "  1.37478723e+00  8.16387337e-01  1.95915920e+00  1.17999657e+00\n",
      " -7.93882112e-01 -2.77055191e-02  2.05006151e+00  1.12526127e-02\n",
      "  2.51755909e+00 -1.15749134e+00 -8.19854200e-01 -1.32630991e+00\n",
      " -1.46915640e+00 -6.38049585e-01  2.02408942e+00 -4.69231013e-01\n",
      " -9.26357388e-02 -1.01464486e+00 -1.39124013e+00 -4.82217057e-01\n",
      "  1.45270349e+00 -8.45826288e-01  6.47568766e-01 -3.26384530e-01\n",
      "  3.87847887e-01  1.15402448e+00 -1.11853321e+00 -7.54923980e-01\n",
      "  1.69943833e+00 -1.14450530e+00 -6.51035629e-01  6.21596678e-01\n",
      "  1.46568953e+00 -7.54923980e-01  1.01117800e+00  3.74861843e-01\n",
      "  5.02107446e-02  1.05013613e+00 -1.19644947e+00  8.68331513e-01\n",
      " -9.36728595e-01 -1.09256112e+00  2.33575448e+00  1.24492679e+00\n",
      " -8.84784420e-01  6.21596678e-01 -1.26137969e+00 -8.71798376e-01\n",
      " -8.19854200e-01 -1.57304475e+00 -3.00412442e-01 -8.97770464e-01\n",
      "  1.59554997e+00 -1.13151925e+00  5.95624590e-01  1.08909426e+00\n",
      "  1.30985701e+00 -3.65342662e-01 -1.40422618e+00  2.57987448e-01\n",
      " -4.95203101e-01 -1.31593871e-01 -5.60133321e-01  3.61875799e-01\n",
      " -1.05621783e-01  1.41113052e-01 -6.66636509e-02 -7.15965848e-01\n",
      "  8.81317557e-01  4.91736239e-01 -5.60133321e-01  5.04722283e-01\n",
      " -3.91314750e-01  1.01117800e+00  1.16701052e+00  1.24492679e+00\n",
      "  1.25791283e+00  5.17708327e-01 -2.74440354e-01  1.10208030e+00\n",
      " -9.62700683e-01 -2.22496178e-01  1.19298261e+00  6.08610634e-01\n",
      "  1.53061975e+00  1.54099096e-01 -1.04061695e+00 -7.28951892e-01\n",
      "  1.99811734e+00 -7.93882112e-01  8.03401293e-01 -7.41937936e-01\n",
      "  8.29373381e-01  1.43971745e+00  3.35903711e-01 -5.08189145e-01\n",
      "  6.21596678e-01 -1.70552003e-01 -1.70552003e-01 -8.32840244e-01\n",
      " -5.36776070e-02 -8.32840244e-01  1.17999657e+00 -1.05360299e+00\n",
      " -9.75686727e-01 -5.60133321e-01  1.55659184e+00 -1.19644947e+00\n",
      " -1.27436574e+00  8.94303601e-01 -8.06868156e-01  2.06304756e+00\n",
      "  1.67346624e+00  3.87847887e-01  2.19290800e+00 -1.22242156e+00\n",
      "  1.42673140e+00  6.99512942e-01  1.05013613e+00  1.16701052e+00\n",
      " -3.78328706e-01  1.93057228e-01 -1.15749134e+00  5.82638546e-01\n",
      " -1.05360299e+00  2.06043272e-01 -1.57565959e-01  8.42359425e-01\n",
      " -4.04300794e-01  1.07610822e+00  1.20596866e+00 -1.45617035e+00\n",
      " -1.30033783e+00 -6.25063541e-01 -2.61454310e-01 -8.32840244e-01\n",
      " -1.07957508e+00  8.68331513e-01 -1.04061695e+00  6.34582722e-01\n",
      " -5.47147277e-01 -1.31332387e+00  1.62152206e+00 -1.15749134e+00\n",
      " -4.43258925e-01 -1.07957508e+00  1.56957789e+00  1.37478723e+00\n",
      " -1.41721222e+00  5.95624590e-01  1.16701052e+00  1.03715008e+00\n",
      "  2.96945580e-01 -7.67910024e-01  2.06043272e-01  1.59554997e+00\n",
      "  1.82929877e+00  1.67346624e+00 -1.04061695e+00 -1.57565959e-01\n",
      "  4.78750195e-01  3.74861843e-01  7.38471074e-01 -2.09510134e-01\n",
      "  1.41374536e+00 -5.08189145e-01 -2.74440354e-01  2.83959536e-01\n",
      "  1.36180118e+00 -1.26137969e+00 -8.84784420e-01 -1.43019827e+00\n",
      " -7.96496949e-02  7.77429206e-01  1.05013613e+00 -7.93882112e-01\n",
      " -5.34161233e-01 -1.73343121e-03 -4.17286837e-01 -1.10554717e+00\n",
      "  2.05006151e+00 -7.54923980e-01  4.00833931e-01 -1.11853321e+00\n",
      "  2.70973492e-01 -1.04061695e+00 -1.33929596e+00 -1.14450530e+00\n",
      " -1.35228200e+00  3.35903711e-01 -6.25063541e-01 -2.61454310e-01\n",
      "  8.81317557e-01 -1.23540761e+00]\n"
     ]
    }
   ],
   "source": [
    "print(X)\n",
    "print(Y)"
   ]
  },
  {
   "cell_type": "code",
   "execution_count": 239,
   "id": "74b56b9e",
   "metadata": {},
   "outputs": [
    {
     "name": "stdout",
     "output_type": "stream",
     "text": [
      "10\n"
     ]
    }
   ],
   "source": [
    "print(len(X[0]))"
   ]
  },
  {
   "cell_type": "markdown",
   "id": "beec7c5b",
   "metadata": {},
   "source": [
    "### Set up X, Y train"
   ]
  },
  {
   "cell_type": "code",
   "execution_count": 240,
   "id": "f901b099",
   "metadata": {},
   "outputs": [],
   "source": [
    "X_train = copy.deepcopy(X)\n",
    "Y_train = copy.deepcopy(Y[:len(Y) - 1])\n",
    "# X_train = [torch.tensor(member) for member in X_train]\n",
    "# Y_train = [torch.tensor(member) for member in Y_train]\n",
    "dim = len(X[0])"
   ]
  },
  {
   "cell_type": "code",
   "execution_count": 241,
   "id": "9d469a0f",
   "metadata": {},
   "outputs": [
    {
     "data": {
      "text/plain": [
       "0.9993992608297877"
      ]
     },
     "execution_count": 241,
     "metadata": {},
     "output_type": "execute_result"
    }
   ],
   "source": [
    "np.std(Y_train)"
   ]
  },
  {
   "cell_type": "markdown",
   "id": "2ab2dcb2",
   "metadata": {},
   "source": [
    "# Model and Guide Setup"
   ]
  },
  {
   "cell_type": "code",
   "execution_count": 242,
   "id": "c01a2886",
   "metadata": {},
   "outputs": [],
   "source": [
    "global prev_mu_q\n",
    "\n",
    "prev_mu_q = torch.zeros(dim, dtype=torch.float64)"
   ]
  },
  {
   "cell_type": "code",
   "execution_count": 243,
   "id": "3d61d587",
   "metadata": {},
   "outputs": [],
   "source": [
    "std0 = torch.eye(dim, dtype=torch.float64) * 0.3\n",
    "def model(data):\n",
    "    # define the hyperparameters that control the Beta prior\n",
    "    mu0 = torch.zeros(dim, dtype=torch.float64)\n",
    "    # sample f from the Beta prior\n",
    "    f = pyro.sample(\"latent_fairness\", dist.MultivariateNormal(mu0, std0))\n",
    "    # loop over the observed data\n",
    "    subset = random.sample(data, int(len(data) / dim))\n",
    "    for i in range(len(subset)):\n",
    "        pyro.sample(\"obs_{}\".format(i), dist.Normal(f.dot(data[i][0]), 0.3), obs=data[i][1])\n",
    "\n",
    "def guide(data):\n",
    "    # register the two variational parameters with Pyro\n",
    "    # - both parameters will have initial value 15.0.\n",
    "    # - because we invoke constraints.positive, the optimizer\n",
    "    # will take gradients on the unconstrained parameters\n",
    "    # (which are related to the constrained parameters by a log)\n",
    "    mu_q = pyro.param(\"mu_q\", copy.deepcopy(prev_mu_q))\n",
    "    # sample latent_fairness from the distribution Beta(alpha_q, beta_q)\n",
    "    pyro.sample(\"latent_fairness\", dist.MultivariateNormal(mu_q, std0))"
   ]
  },
  {
   "cell_type": "code",
   "execution_count": 244,
   "id": "fa57e2f1",
   "metadata": {},
   "outputs": [],
   "source": [
    "def train_SVI(D_hat, n_steps):\n",
    "    # setup the optimizer\n",
    "    adam_params = {\"lr\": 0.005, \"betas\": (0.90, 0.999)}\n",
    "    optimizer = Adam(adam_params)\n",
    "\n",
    "    # setup the inference algorithm\n",
    "    svi = SVI(model, guide, optimizer, loss=Trace_ELBO())\n",
    "\n",
    "    # do gradient steps\n",
    "    for step in range(n_steps):\n",
    "        loss = svi.step(D_hat)\n",
    "        if loss < 1e-5:\n",
    "            break\n",
    "    \n",
    "    breakpoint()\n",
    "    mu_q = pyro.param(\"mu_q\")\n",
    "    return mu_q"
   ]
  },
  {
   "cell_type": "markdown",
   "id": "094040c8",
   "metadata": {},
   "source": [
    "# Run Sklearn on Data"
   ]
  },
  {
   "cell_type": "code",
   "execution_count": 245,
   "id": "27211527",
   "metadata": {},
   "outputs": [],
   "source": [
    "rank_proportions = []"
   ]
  },
  {
   "cell_type": "code",
   "execution_count": 246,
   "id": "50c78830",
   "metadata": {},
   "outputs": [
    {
     "name": "stdout",
     "output_type": "stream",
     "text": [
      "2.5175590944313466\n",
      "-1.6509610124214391\n",
      "2.5175590944313466 Not added\n",
      "2.4175590944313465 Not added\n",
      "2.3175590944313464 Not added\n",
      "2.2175590944313464 Not added\n",
      "2.1175590944313463 Not added\n",
      "2.017559094431346 Not added\n",
      "1.917559094431346 Not added\n",
      "1.817559094431346 Not added\n",
      "1.717559094431346 Not added\n",
      "1.6175590944313458 Not added\n",
      "1.5175590944313457 Not added\n",
      "1.4175590944313456 Not added\n",
      "1.3175590944313456 Not added\n",
      "1.2175590944313455 Added\n",
      "1.1175590944313454 Added\n",
      "1.0175590944313453 Added\n",
      "0.9175590944313453 Added\n",
      "0.8175590944313453 Added\n",
      "0.7175590944313454 Added\n",
      "0.6175590944313454 Added\n",
      "0.5175590944313454 Added\n",
      "0.4175590944313454 Added\n",
      "0.31755909443134545 Added\n",
      "0.21755909443134544 Added\n",
      "0.11755909443134543 Added\n",
      "0.01755909443134543 Added\n",
      "-0.08244090556865458 Added\n",
      "-0.18244090556865458 Added\n",
      "-0.2824409055686546 Added\n",
      "-0.3824409055686546 Added\n",
      "-0.4824409055686546 Added\n",
      "-0.5824409055686546 Added\n",
      "-0.6824409055686546 Added\n",
      "-0.7824409055686545 Added\n",
      "-0.8824409055686545 Added\n",
      "-0.9824409055686545 Added\n",
      "-1.0824409055686546 Added\n",
      "-1.1824409055686547 Added\n",
      "-1.2824409055686548 Added\n",
      "-1.3824409055686548 Not added\n",
      "-1.482440905568655 Not added\n",
      "-1.582440905568655 Not added\n"
     ]
    }
   ],
   "source": [
    "y_hat = max(Y_train)\n",
    "y_bottom = min(Y_train)\n",
    "print(y_hat)\n",
    "print(y_bottom)\n",
    "conformal_set = []\n",
    "decrease_size = 0.1\n",
    "start = time.time()\n",
    "while y_hat >= y_bottom:\n",
    "    pyro.clear_param_store()\n",
    "    # Create D_hat\n",
    "    # SVI shape: [(tensor(X), tensor(Y)), (tensor(X), tensor(Y)) ...]\n",
    "    # Sklearn: [[array X1, array X2, array X3 .. ], [array Y1, array Y2, array Y3 ...]]\n",
    "    D_hat[0] = X_train\n",
    "    D_hat[1] = np.append(Y_train, y_hat)\n",
    "    \n",
    "    # Train sklearn model\n",
    "    clf = linear_model.Lasso(alpha=0.1, tol=1e-8)\n",
    "    clf.fit(D_hat[0], D_hat[1])\n",
    "    mu_q = clf.coef_\n",
    "    prev_mu_q = mu_q\n",
    "    \n",
    "    # Calculate rank of y_hat\n",
    "    rank = [(abs(sum(D_hat[0][i] * mu_q) - D_hat[1][i])) for i in range(len(D_hat[0]))]\n",
    "    y_hat_rank = rank[-1]\n",
    "    \n",
    "    # Add to conformal set if in not in bottom 10 percent of probabilities\n",
    "    rank_proportions.append(np.count_nonzero(y_hat_rank > rank) / len(rank))\n",
    "    if np.count_nonzero(y_hat_rank > rank) / len(rank) < 0.8:\n",
    "        conformal_set.append(copy.deepcopy(y_hat))\n",
    "        print(f\"{y_hat} Added\")\n",
    "    else:\n",
    "        print(f\"{y_hat} Not added\")\n",
    "        \n",
    "    y_hat -= decrease_size\n",
    "conformal_set = [min(conformal_set), max(conformal_set)]\n",
    "end = time.time()"
   ]
  },
  {
   "cell_type": "code",
   "execution_count": 247,
   "id": "755e7a77",
   "metadata": {},
   "outputs": [
    {
     "name": "stdout",
     "output_type": "stream",
     "text": [
      "Conformal Set: [-1.2824409055686548, 1.2175590944313455]\n",
      "Length: 2.5\n",
      "Y[-1]: -1.2354076061308186\n",
      "Y[-1] is covered\n",
      "Elapsed Time: 0.05364990234375\n"
     ]
    }
   ],
   "source": [
    "print(f\"Conformal Set: [{float(conformal_set[0])}, {float(conformal_set[1])}]\")\n",
    "print(f\"Length: {float(conformal_set[1] - conformal_set[0])}\")\n",
    "print(f\"Y[-1]: {Y[-1]}\")\n",
    "if Y[-1] >= conformal_set[0] and Y[-1] <= conformal_set[1]:\n",
    "    print(f\"Y[-1] is covered\")\n",
    "else:\n",
    "    print(\"Y[-1] is Not covered\")\n",
    "print(f\"Elapsed Time: {end - start}\")"
   ]
  },
  {
   "cell_type": "code",
   "execution_count": 248,
   "id": "f7b25ef5",
   "metadata": {},
   "outputs": [
    {
     "data": {
      "text/plain": [
       "42"
      ]
     },
     "execution_count": 248,
     "metadata": {},
     "output_type": "execute_result"
    }
   ],
   "source": [
    "len(rank_proportions)"
   ]
  },
  {
   "cell_type": "code",
   "execution_count": 249,
   "id": "1e308375",
   "metadata": {},
   "outputs": [
    {
     "data": {
      "text/plain": [
       "<matplotlib.collections.PathCollection at 0x7f96a8b54310>"
      ]
     },
     "execution_count": 249,
     "metadata": {},
     "output_type": "execute_result"
    },
    {
     "data": {
      "image/png": "[encoded data removed]",
      "text/plain": [
       "<Figure size 640x480 with 1 Axes>"
      ]
     },
     "metadata": {},
     "output_type": "display_data"
    }
   ],
   "source": [
    "import matplotlib.pyplot as plt\n",
    "plt.scatter(range(len(rank_proportions)), rank_proportions)"
   ]
  },
  {
   "cell_type": "code",
   "execution_count": null,
   "id": "fc9a2917",
   "metadata": {},
   "outputs": [],
   "source": []
  }
 ],
 "metadata": {
  "kernelspec": {
   "display_name": "Python 3 (ipykernel)",
   "language": "python",
   "name": "python3"
  },
  "language_info": {
   "codemirror_mode": {
    "name": "ipython",
    "version": 3
   },
   "file_extension": ".py",
   "mimetype": "text/x-python",
   "name": "python",
   "nbconvert_exporter": "python",
   "pygments_lexer": "ipython3",
   "version": "3.9.13"
  }
 },
 "nbformat": 4,
 "nbformat_minor": 5
}
