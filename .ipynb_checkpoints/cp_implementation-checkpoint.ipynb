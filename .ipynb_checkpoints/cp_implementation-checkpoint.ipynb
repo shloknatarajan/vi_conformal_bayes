{
 "cells": [
  {
   "cell_type": "code",
   "execution_count": 15,
   "id": "77c87c39",
   "metadata": {},
   "outputs": [],
   "source": [
    "import numpy as np\n",
    "import copy\n",
    "import time"
   ]
  },
  {
   "cell_type": "code",
   "execution_count": 16,
   "id": "760eb5e7",
   "metadata": {},
   "outputs": [],
   "source": [
    "import math\n",
    "import os\n",
    "import torch\n",
    "import torch.distributions.constraints as constraints\n",
    "import pyro\n",
    "from pyro.optim import Adam\n",
    "from pyro.infer import SVI, Trace_ELBO\n",
    "import pyro.distributions as dist\n",
    "\n",
    "assert pyro.__version__.startswith('1.8.4')\n",
    "\n",
    "# clear the param store in case we're in a REPL\n",
    "pyro.clear_param_store()"
   ]
  },
  {
   "cell_type": "code",
   "execution_count": 17,
   "id": "c6427873",
   "metadata": {},
   "outputs": [],
   "source": [
    "def generate_stdp_dataset(dim, num_examples, min_value, max_value):\n",
    "    X = np.random.random((num_examples + 1, dim)) * (max_value - min_value) + min_value\n",
    "    beta = np.random.random((dim)) * (max_value - min_value) + min_value\n",
    "\n",
    "    noise = np.random.normal(0, np.sqrt(max_value - min_value), num_examples + 1)\n",
    "    Y = X[:num_examples + 1] @ beta + noise\n",
    "\n",
    "    X = np.asfortranarray(X)\n",
    "    Y = np.asfortranarray(Y)\n",
    "    X /= np.linalg.norm(X, axis=0)\n",
    "    Y = (Y - Y.mean()) / Y.std()\n",
    "    Y = Y * max_value\n",
    "\n",
    "    Y = Y/np.linalg.norm(Y)\n",
    "\n",
    "    return X, Y, beta"
   ]
  },
  {
   "cell_type": "code",
   "execution_count": 18,
   "id": "3d61d587",
   "metadata": {},
   "outputs": [],
   "source": [
    "std0 = torch.eye(3, dtype=torch.float64) * 0.3\n",
    "def model(data):\n",
    "    # define the hyperparameters that control the Beta prior\n",
    "    mu0 = torch.zeros(3, dtype=torch.float64)\n",
    "    # sample f from the Beta prior\n",
    "    f = pyro.sample(\"latent_fairness\", dist.MultivariateNormal(mu0, std0))\n",
    "    # loop over the observed data\n",
    "    for i in range(len(data)):\n",
    "        pyro.sample(\"obs_{}\".format(i), dist.Normal(f.dot(data[i][0]), 0.3), obs=data[i][1])\n",
    "\n",
    "def guide(data):\n",
    "    # register the two variational parameters with Pyro\n",
    "    # - both parameters will have initial value 15.0.\n",
    "    # - because we invoke constraints.positive, the optimizer\n",
    "    # will take gradients on the unconstrained parameters\n",
    "    # (which are related to the constrained parameters by a log)\n",
    "    mu_q = pyro.param(\"mu_q\", torch.zeros(3, dtype=torch.float64))\n",
    "    # sample latent_fairness from the distribution Beta(alpha_q, beta_q)\n",
    "    pyro.sample(\"latent_fairness\", dist.MultivariateNormal(mu_q, std0))"
   ]
  },
  {
   "cell_type": "code",
   "execution_count": 19,
   "id": "4d7206b9",
   "metadata": {},
   "outputs": [],
   "source": [
    "X, Y, beta = generate_stdp_dataset(3, 10, 0, 1)"
   ]
  },
  {
   "cell_type": "code",
   "execution_count": 20,
   "id": "904692c1",
   "metadata": {},
   "outputs": [
    {
     "name": "stdout",
     "output_type": "stream",
     "text": [
      "[[0.3950927  0.26475833 0.41903177]\n",
      " [0.15963839 0.13877035 0.26150433]\n",
      " [0.41235541 0.15113216 0.31388267]\n",
      " [0.21691161 0.52206789 0.25087405]\n",
      " [0.37211851 0.32573614 0.28399499]\n",
      " [0.2129499  0.06527808 0.1759707 ]\n",
      " [0.21401056 0.4501296  0.33155747]\n",
      " [0.40461219 0.38800996 0.48304865]\n",
      " [0.2519371  0.25214012 0.055028  ]\n",
      " [0.1125349  0.28416341 0.23336701]\n",
      " [0.36312796 0.08598181 0.28669549]]\n",
      "[-0.08364357  0.06255037 -0.39046677  0.033367   -0.29591183  0.53736997\n",
      "  0.37315465  0.01698733 -0.43632332 -0.14575816  0.32867433]\n",
      "[0.35871393 0.22740962 0.72049021]\n"
     ]
    }
   ],
   "source": [
    "print(X)\n",
    "print(Y)\n",
    "print(beta)"
   ]
  },
  {
   "cell_type": "code",
   "execution_count": 21,
   "id": "144f4291",
   "metadata": {},
   "outputs": [],
   "source": [
    "X_train = copy.deepcopy(X)\n",
    "Y_train = copy.deepcopy(Y[:len(Y) - 1])\n",
    "X_train = [torch.tensor(member) for member in X_train]\n",
    "Y_train = [torch.tensor(member) for member in Y_train]"
   ]
  },
  {
   "cell_type": "code",
   "execution_count": 22,
   "id": "9d469a0f",
   "metadata": {},
   "outputs": [
    {
     "data": {
      "text/plain": [
       "0.29684516194022675"
      ]
     },
     "execution_count": 22,
     "metadata": {},
     "output_type": "execute_result"
    }
   ],
   "source": [
    "np.std(Y_train)"
   ]
  },
  {
   "cell_type": "code",
   "execution_count": 23,
   "id": "fa57e2f1",
   "metadata": {},
   "outputs": [],
   "source": [
    "def train_SVI(D_hat, n_steps):\n",
    "    # setup the optimizer\n",
    "    adam_params = {\"lr\": 0.0005, \"betas\": (0.90, 0.999)}\n",
    "    optimizer = Adam(adam_params)\n",
    "\n",
    "    # setup the inference algorithm\n",
    "    svi = SVI(model, guide, optimizer, loss=Trace_ELBO())\n",
    "\n",
    "    # do gradient steps\n",
    "    for step in range(n_steps):\n",
    "        svi.step(D_hat)\n",
    "    \n",
    "    breakpoint()\n",
    "    mu_q = pyro.param(\"mu_q\")\n",
    "    return mu_q"
   ]
  },
  {
   "cell_type": "code",
   "execution_count": 61,
   "id": "434f513a",
   "metadata": {},
   "outputs": [
    {
     "name": "stdout",
     "output_type": "stream",
     "text": [
      "[0, 0, 0, 0, 0, 0, 0, 0, 0, 0, 0]\n"
     ]
    }
   ],
   "source": [
    "z = [0 for i in range(len(Y_train) + 1)]\n",
    "print(z)"
   ]
  },
  {
   "cell_type": "code",
   "execution_count": 70,
   "id": "75c8441a",
   "metadata": {},
   "outputs": [
    {
     "name": "stdout",
     "output_type": "stream",
     "text": [
      "tensor(0.0626, dtype=torch.float64)\n",
      "tensor(-0.4468, dtype=torch.float64)\n",
      "-0.06282159137211661\n",
      "0.06255036718925816 Not added\n",
      "-0.055349825551785345\n",
      "0.05255036718925816 Not added\n",
      "-0.04566407573185357\n",
      "0.042550367189258156 Not added\n",
      "-0.033001894228819835\n",
      "-0.023912125929862065\n",
      "0.022550367189258153 Not added\n",
      "-0.012419845459448806\n",
      "-0.004892563380688018\n",
      "0.004973816558684405\n",
      "0.017713203832395743\n",
      "0.025539890309748937\n",
      "0.034537308503451346\n",
      "0.04428484595790244\n",
      "0.05536438662860119\n",
      "0.06725599185282209\n",
      "0.07707765046835352\n",
      "0.08556598583919614\n",
      "0.09688624475257018\n",
      "0.1055783867055374\n",
      "0.11833726540198883\n",
      "0.12639616248550403\n",
      "0.13457353391557758\n",
      "0.14495663741332046\n",
      "0.1573228829461317\n",
      "0.1647085720209954\n",
      "0.1751378484840737\n",
      "0.18605369725825086\n",
      "0.19697329029357286\n",
      "0.20467493248843524\n",
      "0.21477587409857954\n",
      "0.2258417926067008\n",
      "0.23443932315631005\n",
      "0.2452853410469389\n",
      "0.2543795157926451\n",
      "0.26609810525991406\n",
      "0.2779476780741758\n",
      "0.2862963205857311\n",
      "0.29455360646951356\n",
      "0.3043883849482408\n",
      "0.31483450068187374\n",
      "0.3251422090262377\n",
      "0.3348032156131869\n",
      "0.34430760663122756\n",
      "0.3543146236115612\n",
      "0.36472279155455917\n",
      "0.3773699274477498\n",
      "0.3866669900833093\n",
      "0.39406053629283405\n",
      "0.40481866668496486\n",
      "0.41496210609190504\n",
      "0.4245878131863673\n",
      "0.4357748083202826\n"
     ]
    }
   ],
   "source": [
    "y_hat = max(Y_train)\n",
    "y_bottom = min(Y_train)\n",
    "print(y_hat)\n",
    "print(y_bottom)\n",
    "conformal_set = []\n",
    "step_size = 0.1\n",
    "start = time.time()\n",
    "while y_hat >= y_bottom:\n",
    "    pyro.clear_param_store()\n",
    "    # Create D_hat\n",
    "    D_hat = list(zip(X_train[:-1], Y_train))\n",
    "    D_hat.append((X_train[-1], y_hat))\n",
    "    \n",
    "    # Train SVI\n",
    "    mu_q = train_SVI(D_hat, 10)\n",
    "    \n",
    "    # Calculate rank of y_hat\n",
    "    rank = [(sum(D_hat[i][0] * mu_q) - D_hat[i][1]).detach().numpy() for i in range(len(D_hat))]\n",
    "    y_hat_rank = rank[-1]\n",
    "    \n",
    "    # Add to conformal set if in not in bottom 10 percent of probabilities\n",
    "    if np.count_nonzero(y_hat_rank > rank) / len(rank) > 0.1:\n",
    "        conformal_set.append(copy.deepcopy(y_hat))\n",
    "    else:\n",
    "        print(f\"{y_hat} Not added\")\n",
    "        \n",
    "    y_hat -= step_size\n",
    "conformal_set = [min(conformal_set), max(conformal_set)]\n",
    "end = time.time()"
   ]
  },
  {
   "cell_type": "code",
   "execution_count": 26,
   "id": "755e7a77",
   "metadata": {},
   "outputs": [
    {
     "name": "stdout",
     "output_type": "stream",
     "text": [
      "[tensor(-0.4326, dtype=torch.float64), tensor(0.5374, dtype=torch.float64)]\n",
      "Y[-1]: 0.3286743322207144\n",
      "Y[-1] is covered\n",
      "Elapsed Time: 5.532639980316162\n"
     ]
    }
   ],
   "source": [
    "print(conformal_set)\n",
    "print(f\"Y[-1]: {Y[-1]}\")\n",
    "if Y[-1] >= conformal_set[0] and Y[-1] <= conformal_set[1]:\n",
    "    print(f\"Y[-1] is covered\")\n",
    "else:\n",
    "    print(\"Y[-1] is Not covered\")\n",
    "print(f\"Elapsed Time: {end - start}\")"
   ]
  },
  {
   "cell_type": "code",
   "execution_count": 30,
   "id": "6ee3025a",
   "metadata": {},
   "outputs": [
    {
     "name": "stdout",
     "output_type": "stream",
     "text": [
      "6\n"
     ]
    }
   ],
   "source": [
    "# Optimize counting\n",
    "y_hat = 1\n",
    "rank = list(range(-5, 5))\n",
    "print(np.count_nonzero(y_hat > np.array(rank)))"
   ]
  },
  {
   "cell_type": "code",
   "execution_count": 40,
   "id": "1e88a91f",
   "metadata": {},
   "outputs": [],
   "source": [
    "# optimize d_hat\n",
    "D_hat = [(X_train[i], Y_train[i]) for i in range(len(Y_train))]\n",
    "D_hat.append((X_train[-1], y_hat))"
   ]
  },
  {
   "cell_type": "code",
   "execution_count": 41,
   "id": "d7fec9e0",
   "metadata": {},
   "outputs": [
    {
     "name": "stdout",
     "output_type": "stream",
     "text": [
      "(tensor([0.3951, 0.2648, 0.4190], dtype=torch.float64), tensor(-0.0836, dtype=torch.float64))\n",
      "(tensor([0.1596, 0.1388, 0.2615], dtype=torch.float64), tensor(0.0626, dtype=torch.float64))\n",
      "(tensor([0.4124, 0.1511, 0.3139], dtype=torch.float64), tensor(-0.3905, dtype=torch.float64))\n",
      "(tensor([0.2169, 0.5221, 0.2509], dtype=torch.float64), tensor(0.0334, dtype=torch.float64))\n",
      "(tensor([0.3721, 0.3257, 0.2840], dtype=torch.float64), tensor(-0.2959, dtype=torch.float64))\n",
      "(tensor([0.2129, 0.0653, 0.1760], dtype=torch.float64), tensor(-0.4426, dtype=torch.float64))\n",
      "(tensor([0.2140, 0.4501, 0.3316], dtype=torch.float64), tensor(0.3732, dtype=torch.float64))\n",
      "(tensor([0.4046, 0.3880, 0.4830], dtype=torch.float64), tensor(0.0170, dtype=torch.float64))\n",
      "(tensor([0.2519, 0.2521, 0.0550], dtype=torch.float64), tensor(-0.4363, dtype=torch.float64))\n",
      "(tensor([0.1125, 0.2842, 0.2334], dtype=torch.float64), tensor(-0.1458, dtype=torch.float64))\n",
      "(tensor([0.3631, 0.0860, 0.2867], dtype=torch.float64), 1)\n"
     ]
    }
   ],
   "source": [
    "for member in D_hat:\n",
    "    print(member)"
   ]
  },
  {
   "cell_type": "code",
   "execution_count": 46,
   "id": "d9e4d357",
   "metadata": {},
   "outputs": [
    {
     "name": "stdout",
     "output_type": "stream",
     "text": [
      "[(tensor([0.3951, 0.2648, 0.4190], dtype=torch.float64), tensor(-0.0836, dtype=torch.float64)), (tensor([0.1596, 0.1388, 0.2615], dtype=torch.float64), tensor(0.0626, dtype=torch.float64)), (tensor([0.4124, 0.1511, 0.3139], dtype=torch.float64), tensor(-0.3905, dtype=torch.float64)), (tensor([0.2169, 0.5221, 0.2509], dtype=torch.float64), tensor(0.0334, dtype=torch.float64)), (tensor([0.3721, 0.3257, 0.2840], dtype=torch.float64), tensor(-0.2959, dtype=torch.float64)), (tensor([0.2129, 0.0653, 0.1760], dtype=torch.float64), tensor(-0.4426, dtype=torch.float64)), (tensor([0.2140, 0.4501, 0.3316], dtype=torch.float64), tensor(0.3732, dtype=torch.float64)), (tensor([0.4046, 0.3880, 0.4830], dtype=torch.float64), tensor(0.0170, dtype=torch.float64)), (tensor([0.2519, 0.2521, 0.0550], dtype=torch.float64), tensor(-0.4363, dtype=torch.float64)), (tensor([0.1125, 0.2842, 0.2334], dtype=torch.float64), tensor(-0.1458, dtype=torch.float64)), (tensor([0.3631, 0.0860, 0.2867], dtype=torch.float64), 1)]\n"
     ]
    }
   ],
   "source": [
    "D_hat = list(zip(X_train[:-1], Y_train))\n",
    "D_hat.append((X_train[-1], y_hat))\n",
    "print(D_hat)"
   ]
  },
  {
   "cell_type": "code",
   "execution_count": 54,
   "id": "dbfeab7b",
   "metadata": {},
   "outputs": [],
   "source": [
    "x = torch.tensor([1, 2, 3])"
   ]
  },
  {
   "cell_type": "code",
   "execution_count": 56,
   "id": "405e8700",
   "metadata": {},
   "outputs": [
    {
     "data": {
      "text/plain": [
       "array([1, 2, 3])"
      ]
     },
     "execution_count": 56,
     "metadata": {},
     "output_type": "execute_result"
    }
   ],
   "source": [
    "x.detach().numpy()"
   ]
  },
  {
   "cell_type": "code",
   "execution_count": 57,
   "id": "29015c16",
   "metadata": {},
   "outputs": [
    {
     "data": {
      "text/plain": [
       "tensor([1, 2, 3])"
      ]
     },
     "execution_count": 57,
     "metadata": {},
     "output_type": "execute_result"
    }
   ],
   "source": []
  },
  {
   "cell_type": "code",
   "execution_count": null,
   "id": "8ab0e1bb",
   "metadata": {},
   "outputs": [],
   "source": []
  }
 ],
 "metadata": {
  "kernelspec": {
   "display_name": "Python 3 (ipykernel)",
   "language": "python",
   "name": "python3"
  },
  "language_info": {
   "codemirror_mode": {
    "name": "ipython",
    "version": 3
   },
   "file_extension": ".py",
   "mimetype": "text/x-python",
   "name": "python",
   "nbconvert_exporter": "python",
   "pygments_lexer": "ipython3",
   "version": "3.9.13"
  }
 },
 "nbformat": 4,
 "nbformat_minor": 5
}
