{
 "cells": [
  {
   "cell_type": "markdown",
   "id": "04035a62",
   "metadata": {},
   "source": [
    "# Imports"
   ]
  },
  {
   "cell_type": "code",
   "execution_count": 220,
   "id": "760eb5e7",
   "metadata": {},
   "outputs": [],
   "source": [
    "import math\n",
    "import os\n",
    "import torch\n",
    "from pyro.infer.autoguide.initialization import init_to_value\n",
    "import torch.distributions.constraints as constraints\n",
    "import pyro\n",
    "from pyro import poutine\n",
    "import pickle\n",
    "import numpy as np\n",
    "import copy\n",
    "import time\n",
    "import snakeviz\n",
    "from pyro.optim import Adam\n",
    "from pyro.infer import SVI, Trace_ELBO\n",
    "import pyro.distributions as dist\n",
    "import random\n",
    "from sklearn.datasets import load_diabetes\n",
    "assert pyro.__version__.startswith('1.8.4')\n",
    "\n",
    "# clear the param store in case we're in a REPL\n",
    "pyro.clear_param_store()"
   ]
  },
  {
   "cell_type": "markdown",
   "id": "3404a136",
   "metadata": {},
   "source": [
    "# Load Datasets"
   ]
  },
  {
   "cell_type": "markdown",
   "id": "55ef8d32",
   "metadata": {},
   "source": [
    "### Random Dataset"
   ]
  },
  {
   "cell_type": "code",
   "execution_count": 195,
   "id": "c6427873",
   "metadata": {},
   "outputs": [],
   "source": [
    "def generate_stdp_dataset(dim, num_examples, min_value, max_value):\n",
    "    X = np.random.random((num_examples + 1, dim)) * (max_value - min_value) + min_value\n",
    "    beta = np.random.random((dim)) * (max_value - min_value) + min_value\n",
    "\n",
    "    noise = np.random.normal(0, np.sqrt(max_value - min_value), num_examples + 1)\n",
    "    Y = X[:num_examples + 1] @ beta + noise\n",
    "\n",
    "    X = np.asfortranarray(X)\n",
    "    Y = np.asfortranarray(Y)\n",
    "    X /= np.linalg.norm(X, axis=0)\n",
    "    Y = (Y - Y.mean()) / Y.std()\n",
    "    Y = Y * max_value\n",
    "\n",
    "    Y = Y/np.linalg.norm(Y)\n",
    "\n",
    "    return X, Y, beta"
   ]
  },
  {
   "cell_type": "code",
   "execution_count": 196,
   "id": "5eb99929",
   "metadata": {},
   "outputs": [],
   "source": [
    "X, Y, beta = generate_stdp_dataset(10, 442, 0, 1)"
   ]
  },
  {
   "cell_type": "markdown",
   "id": "cf69c26b",
   "metadata": {},
   "source": [
    "### Diabetes Dataset"
   ]
  },
  {
   "cell_type": "markdown",
   "id": "54cdd898",
   "metadata": {},
   "source": [
    "X, Y = load_diabetes(return_X_y = True)"
   ]
  },
  {
   "cell_type": "markdown",
   "id": "76bf12e4",
   "metadata": {},
   "source": [
    "print(Y[0:3])\n",
    "Y = (Y - Y.mean()) / Y.std()\n",
    "print(Y[0:3])\n",
    "X = X / np.linalg.norm(X)\n",
    "print(X[0:3])"
   ]
  },
  {
   "cell_type": "markdown",
   "id": "beec7c5b",
   "metadata": {},
   "source": [
    "### Set up X, Y train"
   ]
  },
  {
   "cell_type": "code",
   "execution_count": 231,
   "id": "f901b099",
   "metadata": {},
   "outputs": [],
   "source": [
    "X_train = copy.deepcopy(X)\n",
    "Y_train = copy.deepcopy(Y[:len(Y) - 1])\n",
    "X_train = [torch.tensor(member) for member in X_train]\n",
    "Y_train = [torch.tensor(member) for member in Y_train]\n",
    "last_y = Y[-1]\n",
    "dim = len(X[0])"
   ]
  },
  {
   "cell_type": "markdown",
   "id": "7c750c4d",
   "metadata": {},
   "source": [
    "### Load dataset from pre-generated folder"
   ]
  },
  {
   "cell_type": "code",
   "execution_count": 232,
   "id": "6c66ac39",
   "metadata": {},
   "outputs": [],
   "source": [
    "with open('random_datasets/dataset_0.pkl', 'rb') as infile:\n",
    "    variables = pickle.load(infile)\n",
    "    X_train = variables['x_train']\n",
    "    Y_train = variables['y_train']\n",
    "    last_y = variables['last_y']\n",
    "    dim = variables['dim']"
   ]
  },
  {
   "cell_type": "code",
   "execution_count": 233,
   "id": "9d469a0f",
   "metadata": {},
   "outputs": [
    {
     "name": "stdout",
     "output_type": "stream",
     "text": [
      "[tensor(-0.0396, dtype=torch.float64), tensor(0.0560, dtype=torch.float64), tensor(0.0254, dtype=torch.float64), tensor(-0.0548, dtype=torch.float64), tensor(0.0105, dtype=torch.float64), tensor(-0.0536, dtype=torch.float64), tensor(0.0930, dtype=torch.float64), tensor(0.1202, dtype=torch.float64), tensor(0.0638, dtype=torch.float64), tensor(-0.0368, dtype=torch.float64), tensor(-0.1037, dtype=torch.float64), tensor(0.0125, dtype=torch.float64), tensor(-2.7243e-05, dtype=torch.float64), tensor(0.0224, dtype=torch.float64), tensor(0.0337, dtype=torch.float64), tensor(-0.0851, dtype=torch.float64), tensor(0.0305, dtype=torch.float64), tensor(-0.0274, dtype=torch.float64), tensor(0.0310, dtype=torch.float64), tensor(-0.0121, dtype=torch.float64), tensor(0.0402, dtype=torch.float64), tensor(0.0625, dtype=torch.float64), tensor(0.0798, dtype=torch.float64), tensor(-0.0841, dtype=torch.float64), tensor(-0.0498, dtype=torch.float64), tensor(0.0431, dtype=torch.float64), tensor(-0.0310, dtype=torch.float64), tensor(-0.0140, dtype=torch.float64), tensor(-0.0365, dtype=torch.float64), tensor(-0.1012, dtype=torch.float64), tensor(0.0232, dtype=torch.float64), tensor(-0.0061, dtype=torch.float64), tensor(-0.0551, dtype=torch.float64), tensor(-0.0192, dtype=torch.float64), tensor(-0.0392, dtype=torch.float64), tensor(-0.0619, dtype=torch.float64), tensor(0.0265, dtype=torch.float64), tensor(-0.0347, dtype=torch.float64), tensor(-0.0489, dtype=torch.float64), tensor(0.0169, dtype=torch.float64), tensor(-0.0439, dtype=torch.float64), tensor(0.0115, dtype=torch.float64), tensor(-0.1077, dtype=torch.float64), tensor(0.0181, dtype=torch.float64), tensor(0.1160, dtype=torch.float64), tensor(0.0251, dtype=torch.float64), tensor(-0.0236, dtype=torch.float64), tensor(-0.0056, dtype=torch.float64), tensor(-0.0796, dtype=torch.float64), tensor(-0.0032, dtype=torch.float64), tensor(0.0336, dtype=torch.float64), tensor(-0.0664, dtype=torch.float64), tensor(-0.0209, dtype=torch.float64), tensor(-0.0271, dtype=torch.float64), tensor(0.0058, dtype=torch.float64), tensor(0.0216, dtype=torch.float64), tensor(0.0532, dtype=torch.float64), tensor(0.0416, dtype=torch.float64), tensor(0.0305, dtype=torch.float64), tensor(0.0213, dtype=torch.float64), tensor(0.0095, dtype=torch.float64), tensor(0.0007, dtype=torch.float64), tensor(-0.0230, dtype=torch.float64), tensor(0.0457, dtype=torch.float64), tensor(-0.0425, dtype=torch.float64), tensor(-0.0101, dtype=torch.float64), tensor(-0.1009, dtype=torch.float64), tensor(-0.0212, dtype=torch.float64), tensor(-0.0841, dtype=torch.float64), tensor(0.0031, dtype=torch.float64), tensor(-0.0628, dtype=torch.float64), tensor(-0.0020, dtype=torch.float64), tensor(0.0444, dtype=torch.float64), tensor(0.0811, dtype=torch.float64), tensor(0.0461, dtype=torch.float64), tensor(0.0608, dtype=torch.float64), tensor(-0.0359, dtype=torch.float64), tensor(-0.0312, dtype=torch.float64), tensor(0.0604, dtype=torch.float64), tensor(-0.0054, dtype=torch.float64), tensor(-0.0640, dtype=torch.float64), tensor(0.0622, dtype=torch.float64), tensor(0.0150, dtype=torch.float64), tensor(0.0584, dtype=torch.float64), tensor(-0.0299, dtype=torch.float64), tensor(0.0310, dtype=torch.float64), tensor(-0.0075, dtype=torch.float64), tensor(0.0227, dtype=torch.float64), tensor(0.0029, dtype=torch.float64), tensor(-0.0399, dtype=torch.float64), tensor(0.0179, dtype=torch.float64), tensor(0.0094, dtype=torch.float64), tensor(-0.0048, dtype=torch.float64), tensor(-0.0660, dtype=torch.float64), tensor(-0.0270, dtype=torch.float64), tensor(0.0416, dtype=torch.float64), tensor(-0.0023, dtype=torch.float64), tensor(0.0105, dtype=torch.float64), tensor(-0.0257, dtype=torch.float64), tensor(0.0746, dtype=torch.float64), tensor(0.0072, dtype=torch.float64), tensor(0.0325, dtype=torch.float64), tensor(-0.0007, dtype=torch.float64), tensor(0.0556, dtype=torch.float64), tensor(-0.0100, dtype=torch.float64), tensor(0.0626, dtype=torch.float64), tensor(-0.0374, dtype=torch.float64), tensor(0.0160, dtype=torch.float64), tensor(0.0348, dtype=torch.float64), tensor(0.0268, dtype=torch.float64), tensor(0.0362, dtype=torch.float64), tensor(-0.0290, dtype=torch.float64), tensor(-0.0425, dtype=torch.float64), tensor(0.0623, dtype=torch.float64), tensor(-0.0328, dtype=torch.float64), tensor(-0.0358, dtype=torch.float64), tensor(-0.0509, dtype=torch.float64), tensor(-0.0588, dtype=torch.float64), tensor(-0.0010, dtype=torch.float64), tensor(-0.0241, dtype=torch.float64), tensor(-0.0102, dtype=torch.float64), tensor(-0.0120, dtype=torch.float64), tensor(0.0094, dtype=torch.float64), tensor(0.0880, dtype=torch.float64), tensor(-0.0464, dtype=torch.float64), tensor(0.0455, dtype=torch.float64), tensor(0.0614, dtype=torch.float64), tensor(0.0131, dtype=torch.float64), tensor(-0.0140, dtype=torch.float64), tensor(0.0057, dtype=torch.float64), tensor(-0.0591, dtype=torch.float64), tensor(0.0098, dtype=torch.float64), tensor(0.0202, dtype=torch.float64), tensor(0.0529, dtype=torch.float64), tensor(0.0868, dtype=torch.float64), tensor(-0.0191, dtype=torch.float64), tensor(0.0521, dtype=torch.float64), tensor(0.0858, dtype=torch.float64), tensor(-0.0131, dtype=torch.float64), tensor(-0.0723, dtype=torch.float64), tensor(0.0105, dtype=torch.float64), tensor(0.0811, dtype=torch.float64), tensor(-0.0115, dtype=torch.float64), tensor(0.0422, dtype=torch.float64), tensor(0.0142, dtype=torch.float64), tensor(-0.0142, dtype=torch.float64), tensor(-0.0349, dtype=torch.float64), tensor(0.0067, dtype=torch.float64), tensor(0.0589, dtype=torch.float64), tensor(-0.0234, dtype=torch.float64), tensor(-0.0204, dtype=torch.float64), tensor(-0.0829, dtype=torch.float64), tensor(-0.0272, dtype=torch.float64), tensor(0.0654, dtype=torch.float64), tensor(-0.0194, dtype=torch.float64), tensor(0.0109, dtype=torch.float64), tensor(-0.0210, dtype=torch.float64), tensor(-0.0047, dtype=torch.float64), tensor(-0.0797, dtype=torch.float64), tensor(-0.0058, dtype=torch.float64), tensor(-0.0100, dtype=torch.float64), tensor(-0.0129, dtype=torch.float64), tensor(-0.0032, dtype=torch.float64), tensor(-0.0271, dtype=torch.float64), tensor(-0.0452, dtype=torch.float64), tensor(-0.0255, dtype=torch.float64), tensor(0.0295, dtype=torch.float64), tensor(-0.0757, dtype=torch.float64), tensor(0.0065, dtype=torch.float64), tensor(-0.1235, dtype=torch.float64), tensor(0.0008, dtype=torch.float64), tensor(-0.0496, dtype=torch.float64), tensor(-0.0383, dtype=torch.float64), tensor(0.0033, dtype=torch.float64), tensor(0.0129, dtype=torch.float64), tensor(-0.0019, dtype=torch.float64), tensor(-0.0140, dtype=torch.float64), tensor(0.0491, dtype=torch.float64), tensor(0.0067, dtype=torch.float64), tensor(-0.0123, dtype=torch.float64), tensor(-0.0145, dtype=torch.float64), tensor(-0.0504, dtype=torch.float64), tensor(-0.0149, dtype=torch.float64), tensor(-0.0073, dtype=torch.float64), tensor(-0.0352, dtype=torch.float64), tensor(0.0878, dtype=torch.float64), tensor(-0.0336, dtype=torch.float64), tensor(-0.0634, dtype=torch.float64), tensor(-0.0216, dtype=torch.float64), tensor(0.0112, dtype=torch.float64), tensor(-0.0187, dtype=torch.float64), tensor(0.0006, dtype=torch.float64), tensor(-0.0078, dtype=torch.float64), tensor(-0.0107, dtype=torch.float64), tensor(0.0170, dtype=torch.float64), tensor(-0.0296, dtype=torch.float64), tensor(-0.0045, dtype=torch.float64), tensor(-0.0504, dtype=torch.float64), tensor(-0.0476, dtype=torch.float64), tensor(0.0217, dtype=torch.float64), tensor(0.0301, dtype=torch.float64), tensor(0.0112, dtype=torch.float64), tensor(0.0475, dtype=torch.float64), tensor(0.0002, dtype=torch.float64), tensor(0.0599, dtype=torch.float64), tensor(-0.0005, dtype=torch.float64), tensor(0.0347, dtype=torch.float64), tensor(-0.0078, dtype=torch.float64), tensor(0.0644, dtype=torch.float64), tensor(-0.0402, dtype=torch.float64), tensor(-0.0374, dtype=torch.float64), tensor(0.0941, dtype=torch.float64), tensor(-0.0340, dtype=torch.float64), tensor(0.0358, dtype=torch.float64), tensor(0.0632, dtype=torch.float64), tensor(-0.0013, dtype=torch.float64), tensor(-0.0561, dtype=torch.float64), tensor(-0.0245, dtype=torch.float64), tensor(-0.0719, dtype=torch.float64), tensor(-0.0125, dtype=torch.float64), tensor(-0.0449, dtype=torch.float64), tensor(0.0667, dtype=torch.float64), tensor(-0.0570, dtype=torch.float64), tensor(-0.0039, dtype=torch.float64), tensor(-0.0266, dtype=torch.float64), tensor(0.0248, dtype=torch.float64), tensor(0.0487, dtype=torch.float64), tensor(0.0689, dtype=torch.float64), tensor(-0.0825, dtype=torch.float64), tensor(-0.0425, dtype=torch.float64), tensor(-0.0189, dtype=torch.float64), tensor(0.0513, dtype=torch.float64), tensor(-0.0627, dtype=torch.float64), tensor(0.0239, dtype=torch.float64), tensor(-0.0152, dtype=torch.float64), tensor(-0.0316, dtype=torch.float64), tensor(-0.0061, dtype=torch.float64), tensor(0.0389, dtype=torch.float64), tensor(0.0422, dtype=torch.float64), tensor(-0.0675, dtype=torch.float64), tensor(0.0166, dtype=torch.float64), tensor(0.0216, dtype=torch.float64), tensor(0.1431, dtype=torch.float64), tensor(0.0313, dtype=torch.float64), tensor(-0.0023, dtype=torch.float64), tensor(0.0735, dtype=torch.float64), tensor(-0.0799, dtype=torch.float64), tensor(-0.0112, dtype=torch.float64), tensor(-0.0312, dtype=torch.float64), tensor(0.0096, dtype=torch.float64), tensor(0.0140, dtype=torch.float64), tensor(0.0373, dtype=torch.float64), tensor(0.0587, dtype=torch.float64), tensor(0.0817, dtype=torch.float64), tensor(-0.0499, dtype=torch.float64), tensor(-0.0077, dtype=torch.float64), tensor(-0.0103, dtype=torch.float64), tensor(-0.0215, dtype=torch.float64), tensor(-0.0046, dtype=torch.float64), tensor(0.0122, dtype=torch.float64), tensor(-0.0846, dtype=torch.float64), tensor(0.0086, dtype=torch.float64), tensor(-0.0584, dtype=torch.float64), tensor(0.0326, dtype=torch.float64), tensor(-0.0524, dtype=torch.float64), tensor(0.0514, dtype=torch.float64), tensor(-0.0153, dtype=torch.float64), tensor(-0.0394, dtype=torch.float64), tensor(-0.1039, dtype=torch.float64), tensor(0.0860, dtype=torch.float64), tensor(0.0252, dtype=torch.float64), tensor(-0.0023, dtype=torch.float64), tensor(0.0924, dtype=torch.float64), tensor(-0.0077, dtype=torch.float64), tensor(0.0583, dtype=torch.float64), tensor(0.0030, dtype=torch.float64), tensor(-0.0788, dtype=torch.float64), tensor(0.0469, dtype=torch.float64), tensor(0.0023, dtype=torch.float64), tensor(-0.0325, dtype=torch.float64), tensor(0.0415, dtype=torch.float64), tensor(0.0342, dtype=torch.float64), tensor(-0.0606, dtype=torch.float64), tensor(0.0239, dtype=torch.float64), tensor(-0.1068, dtype=torch.float64), tensor(-0.0261, dtype=torch.float64), tensor(-0.0199, dtype=torch.float64), tensor(-0.0691, dtype=torch.float64), tensor(-0.0234, dtype=torch.float64), tensor(0.0530, dtype=torch.float64), tensor(-0.0372, dtype=torch.float64), tensor(0.0533, dtype=torch.float64), tensor(-0.0465, dtype=torch.float64), tensor(-0.0411, dtype=torch.float64), tensor(0.0053, dtype=torch.float64), tensor(0.0411, dtype=torch.float64), tensor(-0.0060, dtype=torch.float64), tensor(-0.1187, dtype=torch.float64), tensor(0.0276, dtype=torch.float64), tensor(-0.0014, dtype=torch.float64), tensor(0.0501, dtype=torch.float64), tensor(0.0163, dtype=torch.float64), tensor(-0.0315, dtype=torch.float64), tensor(-0.0834, dtype=torch.float64), tensor(-0.0146, dtype=torch.float64), tensor(-0.0213, dtype=torch.float64), tensor(0.0593, dtype=torch.float64), tensor(-0.0277, dtype=torch.float64), tensor(0.1137, dtype=torch.float64), tensor(-0.0300, dtype=torch.float64), tensor(0.0151, dtype=torch.float64), tensor(-0.0068, dtype=torch.float64), tensor(0.0604, dtype=torch.float64), tensor(-0.0432, dtype=torch.float64), tensor(-0.0386, dtype=torch.float64), tensor(-0.0148, dtype=torch.float64), tensor(-0.0226, dtype=torch.float64), tensor(-0.0652, dtype=torch.float64), tensor(0.0610, dtype=torch.float64), tensor(0.0074, dtype=torch.float64), tensor(0.0367, dtype=torch.float64), tensor(0.0807, dtype=torch.float64), tensor(0.0536, dtype=torch.float64), tensor(-0.0368, dtype=torch.float64), tensor(0.0422, dtype=torch.float64), tensor(0.0013, dtype=torch.float64), tensor(-0.0586, dtype=torch.float64), tensor(-0.0606, dtype=torch.float64), tensor(0.0170, dtype=torch.float64), tensor(0.0662, dtype=torch.float64), tensor(0.0107, dtype=torch.float64), tensor(0.0750, dtype=torch.float64), tensor(0.0038, dtype=torch.float64), tensor(-0.0918, dtype=torch.float64), tensor(0.0682, dtype=torch.float64), tensor(0.1214, dtype=torch.float64), tensor(-0.0927, dtype=torch.float64), tensor(-0.0245, dtype=torch.float64), tensor(0.0145, dtype=torch.float64), tensor(0.0236, dtype=torch.float64), tensor(-0.0912, dtype=torch.float64), tensor(0.0122, dtype=torch.float64), tensor(0.0109, dtype=torch.float64), tensor(0.0100, dtype=torch.float64), tensor(-0.0036, dtype=torch.float64), tensor(0.0612, dtype=torch.float64), tensor(-0.0198, dtype=torch.float64), tensor(-0.0713, dtype=torch.float64), tensor(-0.0033, dtype=torch.float64), tensor(0.0250, dtype=torch.float64), tensor(0.0609, dtype=torch.float64), tensor(0.0448, dtype=torch.float64), tensor(0.0445, dtype=torch.float64), tensor(-0.0346, dtype=torch.float64), tensor(0.0572, dtype=torch.float64), tensor(0.0622, dtype=torch.float64), tensor(0.0093, dtype=torch.float64), tensor(0.0485, dtype=torch.float64), tensor(0.0101, dtype=torch.float64), tensor(-0.0658, dtype=torch.float64), tensor(0.0097, dtype=torch.float64), tensor(0.0275, dtype=torch.float64), tensor(-0.0195, dtype=torch.float64), tensor(0.0148, dtype=torch.float64), tensor(-0.0827, dtype=torch.float64), tensor(-0.0027, dtype=torch.float64), tensor(-0.0364, dtype=torch.float64), tensor(0.0482, dtype=torch.float64), tensor(0.0541, dtype=torch.float64), tensor(0.0179, dtype=torch.float64), tensor(0.0109, dtype=torch.float64), tensor(0.0165, dtype=torch.float64), tensor(-0.0046, dtype=torch.float64), tensor(0.1026, dtype=torch.float64), tensor(0.0146, dtype=torch.float64), tensor(0.0440, dtype=torch.float64), tensor(0.0841, dtype=torch.float64), tensor(-0.0091, dtype=torch.float64), tensor(0.0093, dtype=torch.float64), tensor(0.0504, dtype=torch.float64), tensor(-0.0525, dtype=torch.float64), tensor(-0.0624, dtype=torch.float64), tensor(0.0077, dtype=torch.float64), tensor(-0.0087, dtype=torch.float64), tensor(-0.0127, dtype=torch.float64), tensor(-0.0713, dtype=torch.float64), tensor(0.0673, dtype=torch.float64), tensor(-0.0044, dtype=torch.float64), tensor(-0.0580, dtype=torch.float64), tensor(0.0149, dtype=torch.float64), tensor(-0.0142, dtype=torch.float64), tensor(-0.0114, dtype=torch.float64), tensor(0.0907, dtype=torch.float64), tensor(0.0908, dtype=torch.float64), tensor(0.0984, dtype=torch.float64), tensor(-0.1089, dtype=torch.float64), tensor(0.0258, dtype=torch.float64), tensor(-0.0457, dtype=torch.float64), tensor(-0.0076, dtype=torch.float64), tensor(0.0092, dtype=torch.float64), tensor(-0.0408, dtype=torch.float64), tensor(-0.0020, dtype=torch.float64), tensor(-0.0745, dtype=torch.float64), tensor(0.0212, dtype=torch.float64), tensor(0.0328, dtype=torch.float64), tensor(-0.0028, dtype=torch.float64), tensor(-0.0893, dtype=torch.float64), tensor(-0.1012, dtype=torch.float64), tensor(0.0002, dtype=torch.float64), tensor(0.0541, dtype=torch.float64), tensor(0.0470, dtype=torch.float64), tensor(0.0903, dtype=torch.float64), tensor(-0.0057, dtype=torch.float64), tensor(0.0131, dtype=torch.float64), tensor(-0.0577, dtype=torch.float64), tensor(-0.0136, dtype=torch.float64), tensor(-0.0178, dtype=torch.float64), tensor(-0.0656, dtype=torch.float64), tensor(0.0535, dtype=torch.float64), tensor(-0.0093, dtype=torch.float64), tensor(-0.0506, dtype=torch.float64), tensor(-0.0298, dtype=torch.float64), tensor(0.0857, dtype=torch.float64), tensor(0.0534, dtype=torch.float64), tensor(0.0047, dtype=torch.float64), tensor(0.0181, dtype=torch.float64), tensor(0.0221, dtype=torch.float64), tensor(0.0160, dtype=torch.float64), tensor(0.0445, dtype=torch.float64), tensor(-0.0545, dtype=torch.float64), tensor(0.0152, dtype=torch.float64), tensor(0.0034, dtype=torch.float64), tensor(0.0035, dtype=torch.float64), tensor(0.0827, dtype=torch.float64), tensor(-0.0409, dtype=torch.float64), tensor(0.0234, dtype=torch.float64), tensor(-0.0120, dtype=torch.float64), tensor(0.0361, dtype=torch.float64), tensor(-0.0914, dtype=torch.float64), tensor(0.0205, dtype=torch.float64), tensor(-0.0494, dtype=torch.float64), tensor(-0.0147, dtype=torch.float64)]\n"
     ]
    }
   ],
   "source": [
    "print(Y_train)"
   ]
  },
  {
   "cell_type": "markdown",
   "id": "2ab2dcb2",
   "metadata": {},
   "source": [
    "# Model and Guide Setup"
   ]
  },
  {
   "cell_type": "code",
   "execution_count": 202,
   "id": "7365859f",
   "metadata": {},
   "outputs": [],
   "source": [
    "def is_converged(arr):\n",
    "    if len(arr) < 2:\n",
    "        return False\n",
    "    # check if last values have changed by 1% or less\n",
    "    return (max(arr) - min(arr)) / max(arr) < 0.01"
   ]
  },
  {
   "cell_type": "code",
   "execution_count": 203,
   "id": "3c9ca124",
   "metadata": {},
   "outputs": [
    {
     "data": {
      "text/plain": [
       "True"
      ]
     },
     "execution_count": 203,
     "metadata": {},
     "output_type": "execute_result"
    }
   ],
   "source": [
    "is_converged([3, 3.01])"
   ]
  },
  {
   "cell_type": "markdown",
   "id": "ccb588b8",
   "metadata": {},
   "source": [
    "Warm starting can be done by replacing anything that's a hard coded value:\n",
    "- mu0: torch.zeros\n",
    "- b: torch.ones\n",
    "- beta: mu (torch.zeroes), 0\n",
    "- std: the 1 in dist.HalfNormal(1)"
   ]
  },
  {
   "cell_type": "code",
   "execution_count": 204,
   "id": "3d61d587",
   "metadata": {},
   "outputs": [],
   "source": [
    "def model(data):\n",
    "    # define the hyperparameters that control the Beta prior\n",
    "    mu0 = torch.zeros(dim, dtype=torch.float64)\n",
    "    bmean = torch.ones(dim, dtype=torch.float64)\n",
    "    bscale = torch.ones(dim, dtype=torch.float64)\n",
    "    b = pyro.sample(\"b\", dist.Gamma(bmean, bscale).to_event(1))\n",
    "    # sample f from the Beta prior\n",
    "    beta = pyro.sample(\"beta\", dist.Laplace(mu0, b).to_event(1))\n",
    "    std_scale = 1\n",
    "    std = pyro.sample(\"sigma\", dist.HalfNormal(std_scale))\n",
    "    # loop over the observed data\n",
    "    # subset = random.sample(data, int(len(data) / dim))\n",
    "    # for i in range(len(subset)):\n",
    "    # data goes list tuple tensor\n",
    "          \n",
    "    with pyro.plate(\"data\", len(data), subsample_size=100) as ind:\n",
    "        data = np.asarray(data)[ind]\n",
    "        for i in range(len(data)):\n",
    "            sampler = dist.Normal(beta.dot(data[i][0]).item(), std)\n",
    "            pyro.sample(\"obs_{}\".format(i), sampler.to_event(0), obs=data[i][1])\n",
    "\n",
    "# Global guide\n",
    "guide = pyro.infer.autoguide.AutoLaplaceApproximation(poutine.block(model, expose=['b', 'beta', 'sigma']))"
   ]
  },
  {
   "cell_type": "code",
   "execution_count": 205,
   "id": "fa57e2f1",
   "metadata": {},
   "outputs": [],
   "source": [
    "def train_SVI(D_hat, n_steps, warm_dict = None):    \n",
    "    losses = []\n",
    "    # setup the optimizer\n",
    "    adam_params = {\"lr\": 0.005, \"betas\": (0.90, 0.999)}\n",
    "    optimizer = Adam(adam_params)\n",
    "\n",
    "    # setup the inference algorithm\n",
    "    guide = pyro.infer.autoguide.AutoLaplaceApproximation(poutine.block(model, expose=['b', 'beta', 'sigma']))\n",
    "    if warm_dict is not None:\n",
    "        guide = pyro.infer.autoguide.AutoLaplaceApproximation(poutine.block(model, expose=['b', 'beta', 'sigma']), init_loc_fn=init_to_value(values=warm_dict))\n",
    "    svi = SVI(model, guide, optimizer, loss=Trace_ELBO())\n",
    "    # do gradient steps\n",
    "    for step in range(n_steps):\n",
    "        loss = svi.step(D_hat)\n",
    "        losses.append(loss)\n",
    "        if is_converged(losses[-1:-6:-1]):\n",
    "            print(f\"Converged on step {step} -- breaking\")\n",
    "            break\n",
    "        if loss < 1e-5:\n",
    "            print(f\"Early Loss Stopping on step {step}\")\n",
    "            break\n",
    "    beta = guide(D_hat)['beta']\n",
    "    print(f\"Ended on step {step}\")\n",
    "    return beta, losses"
   ]
  },
  {
   "cell_type": "code",
   "execution_count": 206,
   "id": "53da63d5",
   "metadata": {},
   "outputs": [],
   "source": [
    "pyro.clear_param_store()"
   ]
  },
  {
   "cell_type": "code",
   "execution_count": 207,
   "id": "93847df5",
   "metadata": {},
   "outputs": [
    {
     "name": "stderr",
     "output_type": "stream",
     "text": [
      "/var/folders/1s/1mkc4t8137lbs9x8hhg9q8940000gp/T/ipykernel_86325/3602142821.py:17: FutureWarning: The input object of type 'Tensor' is an array-like implementing one of the corresponding protocols (`__array__`, `__array_interface__` or `__array_struct__`); but not a sequence (or 0-D). In the future, this object will be coerced as if it was first converted using `np.array(obj)`. To retain the old behaviour, you have to either modify the type 'Tensor', or assign to an empty array created with `np.empty(correct_shape, dtype=object)`.\n",
      "  data = np.asarray(data)[ind]\n",
      "/var/folders/1s/1mkc4t8137lbs9x8hhg9q8940000gp/T/ipykernel_86325/3602142821.py:17: VisibleDeprecationWarning: Creating an ndarray from ragged nested sequences (which is a list-or-tuple of lists-or-tuples-or ndarrays with different lengths or shapes) is deprecated. If you meant to do this, you must specify 'dtype=object' when creating the ndarray.\n",
      "  data = np.asarray(data)[ind]\n"
     ]
    },
    {
     "data": {
      "text/plain": [
       "{'b': tensor([0.6519, 0.6946, 0.9197, 0.9505, 0.7291, 0.3914, 0.7772, 0.4084, 0.7029,\n",
       "         0.9446], dtype=torch.float64, grad_fn=<ExpandBackward0>),\n",
       " 'beta': tensor([ 0.1011, -0.2394,  0.1339,  0.0180, -0.1239, -0.2752, -0.2277,  0.1728,\n",
       "         -0.1173, -0.0470], dtype=torch.float64, grad_fn=<ExpandBackward0>),\n",
       " 'sigma': tensor(0.6690, dtype=torch.float64, grad_fn=<ExpandBackward0>)}"
      ]
     },
     "execution_count": 207,
     "metadata": {},
     "output_type": "execute_result"
    }
   ],
   "source": [
    "guide(D_hat)"
   ]
  },
  {
   "cell_type": "markdown",
   "id": "094040c8",
   "metadata": {},
   "source": [
    "# Run VI on Data "
   ]
  },
  {
   "cell_type": "code",
   "execution_count": 208,
   "id": "75c8441a",
   "metadata": {
    "scrolled": true
   },
   "outputs": [
    {
     "name": "stdout",
     "output_type": "stream",
     "text": [
      "tensor(0.1290, dtype=torch.float64)\n",
      "tensor(-0.1548, dtype=torch.float64)\n",
      "tensor(0.1290, dtype=torch.float64)\n",
      "tensor(-0.1548, dtype=torch.float64)\n"
     ]
    },
    {
     "name": "stderr",
     "output_type": "stream",
     "text": [
      "/var/folders/1s/1mkc4t8137lbs9x8hhg9q8940000gp/T/ipykernel_86325/3602142821.py:17: FutureWarning: The input object of type 'Tensor' is an array-like implementing one of the corresponding protocols (`__array__`, `__array_interface__` or `__array_struct__`); but not a sequence (or 0-D). In the future, this object will be coerced as if it was first converted using `np.array(obj)`. To retain the old behaviour, you have to either modify the type 'Tensor', or assign to an empty array created with `np.empty(correct_shape, dtype=object)`.\n",
      "  data = np.asarray(data)[ind]\n",
      "/var/folders/1s/1mkc4t8137lbs9x8hhg9q8940000gp/T/ipykernel_86325/3602142821.py:17: VisibleDeprecationWarning: Creating an ndarray from ragged nested sequences (which is a list-or-tuple of lists-or-tuples-or ndarrays with different lengths or shapes) is deprecated. If you meant to do this, you must specify 'dtype=object' when creating the ndarray.\n",
      "  data = np.asarray(data)[ind]\n"
     ]
    },
    {
     "name": "stdout",
     "output_type": "stream",
     "text": [
      "Ended on step 99\n",
      "0.12899003328897318 Not added\n",
      "Early Loss Stopping on step 5\n",
      "Ended on step 5\n",
      "0.11899003328897319 Not added\n",
      "Early Loss Stopping on step 0\n",
      "Ended on step 0\n",
      "0.10899003328897319 Not added\n",
      "Early Loss Stopping on step 0\n",
      "Ended on step 0\n",
      "0.0989900332889732 Not added\n",
      "Early Loss Stopping on step 0\n",
      "Ended on step 0\n",
      "0.0889900332889732 Not added\n",
      "Early Loss Stopping on step 0\n",
      "Ended on step 0\n",
      "0.07899003328897321 Added\n",
      "Early Loss Stopping on step 0\n",
      "Ended on step 0\n",
      "0.06899003328897321 Added\n",
      "Early Loss Stopping on step 0\n",
      "Ended on step 0\n",
      "0.05899003328897321 Added\n",
      "Early Loss Stopping on step 0\n",
      "Ended on step 0\n",
      "0.04899003328897321 Added\n",
      "Early Loss Stopping on step 0\n",
      "Ended on step 0\n",
      "0.03899003328897321 Added\n",
      "Early Loss Stopping on step 0\n",
      "Ended on step 0\n",
      "0.028990033288973205 Added\n",
      "Early Loss Stopping on step 0\n",
      "Ended on step 0\n",
      "0.018990033288973203 Added\n",
      "Early Loss Stopping on step 0\n",
      "Ended on step 0\n",
      "0.008990033288973203 Added\n",
      "Early Loss Stopping on step 0\n",
      "Ended on step 0\n",
      "-0.0010099667110267975 Added\n",
      "Early Loss Stopping on step 0\n",
      "Ended on step 0\n",
      "-0.011009966711026798 Added\n",
      "Early Loss Stopping on step 0\n",
      "Ended on step 0\n",
      "-0.021009966711026798 Added\n",
      "Early Loss Stopping on step 0\n",
      "Ended on step 0\n",
      "-0.0310099667110268 Added\n",
      "Early Loss Stopping on step 0\n",
      "Ended on step 0\n",
      "-0.0410099667110268 Added\n",
      "Early Loss Stopping on step 0\n",
      "Ended on step 0\n",
      "-0.051009966711026804 Added\n",
      "Early Loss Stopping on step 0\n",
      "Ended on step 0\n",
      "-0.061009966711026806 Added\n",
      "Early Loss Stopping on step 0\n",
      "Ended on step 0\n",
      "-0.0710099667110268 Added\n",
      "Early Loss Stopping on step 0\n",
      "Ended on step 0\n",
      "-0.0810099667110268 Not added\n",
      "Early Loss Stopping on step 0\n",
      "Ended on step 0\n",
      "-0.09100996671102679 Not added\n",
      "Early Loss Stopping on step 0\n",
      "Ended on step 0\n",
      "-0.10100996671102679 Not added\n",
      "Early Loss Stopping on step 0\n",
      "Ended on step 0\n",
      "-0.11100996671102678 Not added\n",
      "Early Loss Stopping on step 0\n",
      "Ended on step 0\n",
      "-0.12100996671102678 Not added\n",
      "Early Loss Stopping on step 0\n",
      "Ended on step 0\n",
      "-0.13100996671102677 Not added\n",
      "Early Loss Stopping on step 0\n",
      "Ended on step 0\n",
      "-0.14100996671102678 Not added\n",
      "Early Loss Stopping on step 0\n",
      "Ended on step 0\n",
      "-0.1510099667110268 Not added\n"
     ]
    }
   ],
   "source": [
    "rank_proportions = []\n",
    "y_hat = max(Y_train)\n",
    "y_bottom = min(Y_train)\n",
    "print(y_hat)\n",
    "print(y_bottom)\n",
    "conformal_set = []\n",
    "decrease_size = 0.01\n",
    "start = time.time()\n",
    "print(max(Y_train))\n",
    "print(min(Y_train))\n",
    "prev_d_hat = None\n",
    "all_losses = []\n",
    "while y_hat >= y_bottom:\n",
    "    pyro.clear_param_store()\n",
    "    # Create D_hat\n",
    "    D_hat = list(zip(X_train[:-1], Y_train))\n",
    "    D_hat.append((X_train[-1], y_hat))\n",
    "    \n",
    "    # Train SVI\n",
    "    warm_dict = guide(D_hat)\n",
    "    if warm_dict is not None:\n",
    "        beta, losses = train_SVI(D_hat, 100, warm_dict)\n",
    "    else:\n",
    "        print(\"Warm dict was none\")\n",
    "        beta, losses = train_SVI(D_hat, 100)\n",
    "    all_losses.append(losses)\n",
    "    \n",
    "    \n",
    "    # Calculate rank of y_hat\n",
    "    rank = [(abs(sum(D_hat[i][0] * beta) - D_hat[i][1]).detach().numpy()) for i in range(len(D_hat))]\n",
    "    y_hat_rank = rank[-1]\n",
    "    \n",
    "    # Add to conformal set if in not in bottom 10 percent of probabilities\n",
    "    current_rank_proportion = np.count_nonzero(y_hat_rank > rank) / len(rank)\n",
    "    rank_proportions.append(current_rank_proportion)\n",
    "    if current_rank_proportion < 0.9:\n",
    "        conformal_set.append(copy.deepcopy(y_hat))\n",
    "        print(f\"{y_hat} Added\")\n",
    "    else:\n",
    "        print(f\"{y_hat} Not added\")\n",
    "    y_hat -= decrease_size\n",
    "conformal_set = [min(conformal_set), max(conformal_set)]\n",
    "end = time.time()"
   ]
  },
  {
   "cell_type": "code",
   "execution_count": 209,
   "id": "755e7a77",
   "metadata": {},
   "outputs": [
    {
     "name": "stdout",
     "output_type": "stream",
     "text": [
      "Conformal Set: [-0.0710099667110268, 0.07899003328897321]\n",
      "Length: 0.15000000000000002\n",
      "Y[-1]: -0.06333268566531168\n",
      "Y[-1] is covered\n",
      "Elapsed Time: 5.692325830459595\n"
     ]
    }
   ],
   "source": [
    "print(f\"Conformal Set: [{float(conformal_set[0])}, {float(conformal_set[1])}]\")\n",
    "print(f\"Length: {float(conformal_set[1] - conformal_set[0])}\")\n",
    "print(f\"Y[-1]: {last_y}\")\n",
    "if Y[-1] >= conformal_set[0] and Y[-1] <= conformal_set[1]:\n",
    "    print(f\"Y[-1] is covered\")\n",
    "else:\n",
    "    print(\"Y[-1] is Not covered\")\n",
    "print(f\"Elapsed Time: {end - start}\")"
   ]
  },
  {
   "cell_type": "code",
   "execution_count": 210,
   "id": "f2ed7e86",
   "metadata": {},
   "outputs": [
    {
     "name": "stdout",
     "output_type": "stream",
     "text": [
      "[23120.853266492224, 22851.71527529486, 22640.494219306533, 22434.32974161592, 22192.010076785842, 21985.35133724296, 21760.128015530896, 21536.985067065907, 21298.854902772135, 21072.633514318386, 20837.33023343881, 20666.59964201703, 20422.833740241047, 20204.024907136543, 19980.60332735298, 19784.805203473457, 19517.670695150908, 19343.509417553563, 19129.241519647934, 18898.936111342686, 18658.280939220116, 18416.80924872754, 18228.904888265693, 18003.447480338913, 17766.683939985607, 17538.849631543253, 17311.455075234724, 17083.562017670447, 16888.05573128119, 16645.137686446946, 16442.58316380719, 16224.353733827053, 16035.018562901323, 15758.64612960534, 15583.588122704563, 15349.311550069538, 15110.785225751464, 14889.663241142647, 14630.563456915808, 14436.958723786596, 14213.04776680513, 13998.33693104886, 13778.859339473558, 13574.159466216024, 13402.23272103334, 13114.560912885632, 12887.879588185146, 12710.28800395898, 12460.061808344923, 12223.901810371903, 12030.612494856094, 11826.03497104419, 11612.261926426298, 11357.908811807529, 11126.651349805808, 10974.758454450937, 10692.442197521936, 10486.189503156327, 10282.099004493188, 9978.854032663836, 9871.476310231232, 9612.777224354211, 9396.572844884338, 9134.647239672366, 8951.58645132314, 8750.189091446382, 8503.094591099589, 8297.694256013134, 8097.2231295972815, 7876.811076742634, 7637.297929028023, 7395.476956993216, 7209.5305104033605, 7002.64964299086, 6744.388433093672, 6585.1223187093065, 6293.712378393064, 6092.01657131298, 5874.073809956237, 5681.67586783604, 5448.891265788936, 5194.234624895914, 4996.203052866411, 4769.6215082980425, 4602.141323932956, 4320.404060111583, 4126.263843692454, 3934.3919863081815, 3737.570471815002, 3461.036609129298, 3260.221475580248, 3012.695592323189, 2876.2040527593786, 2564.7184178576017, 2396.585886786788, 2187.781174646071, 1941.3793234842396, 1687.246960333674, 1573.198264305535, 1316.1514589031563]\n"
     ]
    }
   ],
   "source": [
    "print(all_losses[0])"
   ]
  },
  {
   "cell_type": "code",
   "execution_count": 211,
   "id": "f8e9ba5d",
   "metadata": {},
   "outputs": [
    {
     "data": {
      "text/plain": [
       "[0.9932279909706546,\n",
       " 0.9864559819413092,\n",
       " 0.9751693002257337,\n",
       " 0.9661399548532731,\n",
       " 0.9413092550790068,\n",
       " 0.8871331828442438,\n",
       " 0.8555304740406321,\n",
       " 0.7765237020316027,\n",
       " 0.6975169300225733,\n",
       " 0.5936794582392777,\n",
       " 0.4785553047404063,\n",
       " 0.327313769751693,\n",
       " 0.17607223476297967,\n",
       " 0.013544018058690745,\n",
       " 0.1986455981941309,\n",
       " 0.3611738148984199,\n",
       " 0.4966139954853273,\n",
       " 0.6139954853273137,\n",
       " 0.7065462753950339,\n",
       " 0.7945823927765236,\n",
       " 0.8577878103837472,\n",
       " 0.9006772009029346,\n",
       " 0.9480812641083521,\n",
       " 0.9661399548532731,\n",
       " 0.9841986455981941,\n",
       " 0.9887133182844243,\n",
       " 0.9932279909706546,\n",
       " 0.9909706546275395,\n",
       " 0.9954853273137697]"
      ]
     },
     "execution_count": 211,
     "metadata": {},
     "output_type": "execute_result"
    }
   ],
   "source": [
    "rank_proportions"
   ]
  },
  {
   "cell_type": "code",
   "execution_count": 212,
   "id": "ba3d2fd9",
   "metadata": {
    "scrolled": false
   },
   "outputs": [
    {
     "data": {
      "image/png": "[encoded data removed]",
      "text/plain": [
       "<Figure size 640x480 with 1 Axes>"
      ]
     },
     "metadata": {},
     "output_type": "display_data"
    }
   ],
   "source": [
    "import matplotlib.pyplot as plt\n",
    "plt.scatter(range(len(rank_proportions)), rank_proportions)\n",
    "plt.show()"
   ]
  },
  {
   "cell_type": "code",
   "execution_count": 213,
   "id": "386fe75f",
   "metadata": {},
   "outputs": [],
   "source": [
    "D_hat = list(zip(X_train[:-1], Y_train))\n",
    "D_hat.append((X_train[-1], y_hat))"
   ]
  },
  {
   "cell_type": "code",
   "execution_count": 214,
   "id": "964e7727",
   "metadata": {},
   "outputs": [
    {
     "name": "stdout",
     "output_type": "stream",
     "text": [
      "(tensor([0.0168, 0.0460, 0.0575, 0.0287, 0.0530, 0.0415, 0.0002, 0.0078, 0.0458,\n",
      "        0.0029], dtype=torch.float64), tensor(-0.1610, dtype=torch.float64))\n"
     ]
    }
   ],
   "source": [
    "print(D_hat[-1])"
   ]
  },
  {
   "cell_type": "code",
   "execution_count": 215,
   "id": "296c6586",
   "metadata": {},
   "outputs": [
    {
     "data": {
      "text/plain": [
       "{'b': tensor([0.3424, 0.3483, 0.4851, 0.5083, 0.3823, 0.2447, 0.3970, 0.2013, 0.3687,\n",
       "         0.5043], dtype=torch.float64, grad_fn=<ExpandBackward0>),\n",
       " 'beta': tensor([ 0.0035, -0.0041,  0.0036,  0.0039, -0.0038, -0.0044, -0.0034, -0.0041,\n",
       "         -0.0039, -0.0034], dtype=torch.float64, grad_fn=<ExpandBackward0>),\n",
       " 'sigma': tensor(0.3442, dtype=torch.float64, grad_fn=<ExpandBackward0>)}"
      ]
     },
     "execution_count": 215,
     "metadata": {},
     "output_type": "execute_result"
    }
   ],
   "source": [
    "guide(D_hat)"
   ]
  },
  {
   "cell_type": "code",
   "execution_count": 216,
   "id": "739f29a6",
   "metadata": {},
   "outputs": [
    {
     "data": {
      "text/plain": [
       "AutoLaplaceApproximation()"
      ]
     },
     "execution_count": 216,
     "metadata": {},
     "output_type": "execute_result"
    }
   ],
   "source": [
    "guide"
   ]
  },
  {
   "cell_type": "code",
   "execution_count": 217,
   "id": "139bd289",
   "metadata": {},
   "outputs": [
    {
     "data": {
      "text/plain": [
       "{'b': tensor([0.3424, 0.3483, 0.4851, 0.5083, 0.3823, 0.2447, 0.3970, 0.2013, 0.3687,\n",
       "         0.5043], dtype=torch.float64, grad_fn=<ExpandBackward0>),\n",
       " 'beta': tensor([ 0.0035, -0.0041,  0.0036,  0.0039, -0.0038, -0.0044, -0.0034, -0.0041,\n",
       "         -0.0039, -0.0034], dtype=torch.float64, grad_fn=<ExpandBackward0>),\n",
       " 'sigma': tensor(0.3442, dtype=torch.float64, grad_fn=<ExpandBackward0>)}"
      ]
     },
     "execution_count": 217,
     "metadata": {},
     "output_type": "execute_result"
    }
   ],
   "source": [
    "guide(D_hat)"
   ]
  },
  {
   "cell_type": "code",
   "execution_count": null,
   "id": "a4eb1f91",
   "metadata": {},
   "outputs": [],
   "source": []
  }
 ],
 "metadata": {
  "kernelspec": {
   "display_name": "Python 3 (ipykernel)",
   "language": "python",
   "name": "python3"
  },
  "language_info": {
   "codemirror_mode": {
    "name": "ipython",
    "version": 3
   },
   "file_extension": ".py",
   "mimetype": "text/x-python",
   "name": "python",
   "nbconvert_exporter": "python",
   "pygments_lexer": "ipython3",
   "version": "3.9.13"
  }
 },
 "nbformat": 4,
 "nbformat_minor": 5
}
