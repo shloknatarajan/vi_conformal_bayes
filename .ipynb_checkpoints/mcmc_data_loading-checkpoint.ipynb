{
 "cells": [
  {
   "cell_type": "code",
   "execution_count": 1,
   "id": "f24f00b5",
   "metadata": {},
   "outputs": [],
   "source": [
    "from sklearn.datasets import load_diabetes,load_breast_cancer\n",
    "from sklearn.model_selection import train_test_split\n",
    "import time\n",
    "import numpy as np\n",
    "from tqdm import tqdm\n",
    "import pandas as pd\n",
    "import scipy as sp"
   ]
  },
  {
   "cell_type": "code",
   "execution_count": 16,
   "id": "65260fbe",
   "metadata": {},
   "outputs": [],
   "source": [
    "import matplotlib.pyplot as plt"
   ]
  },
  {
   "cell_type": "code",
   "execution_count": 11,
   "id": "f4658c09",
   "metadata": {},
   "outputs": [],
   "source": [
    "## Sparse Regression ##\n",
    "#Well specified?\n",
    "# train_frac either 1 or 0.7 in their testing\n",
    "# dataset = \"diabetes\"\n",
    "# seed = 100 plus some number that changes with iterations\n",
    "train_frac = 0.7\n",
    "dataset = 'diabetes'\n",
    "seed = 100\n",
    "def load_traintest_sparsereg(train_frac, dataset,seed):\n",
    "    #Load dataset\n",
    "    if dataset ==\"diabetes\":\n",
    "        x,y = load_diabetes(return_X_y = True)\n",
    "    elif dataset ==\"boston\":\n",
    "        x,y = load_boston(return_X_y = True)\n",
    "    else:\n",
    "        print('Invalid dataset')\n",
    "        return\n",
    "\n",
    "    n = np.shape(x)[0]\n",
    "    d = np.shape(x)[1]\n",
    "\n",
    "    #Standardize beforehand (for validity)\n",
    "    x = (x - np.mean(x,axis = 0))/np.std(x,axis = 0)\n",
    "    y = (y - np.mean(y))/np.std(y)\n",
    "\n",
    "    #Train test split\n",
    "    ind_train, ind_test = train_test_split(np.arange(n), train_size = int(train_frac*n),random_state = seed)\n",
    "    x_train = x[ind_train]\n",
    "    y_train = y[ind_train]\n",
    "    x_test = x[ind_test]\n",
    "    y_test = y[ind_test]\n",
    "    \n",
    "    ### what is y_plot / what is it used for / where do -2 and +2100 come from?\n",
    "    y_plot = np.linspace(np.min(y_train) - 2, np.max(y_train) + 2,100)\n",
    "    \n",
    "    return x_train,y_train,x_test,y_test,y_plot,n,d"
   ]
  },
  {
   "cell_type": "code",
   "execution_count": 12,
   "id": "0327af5a",
   "metadata": {},
   "outputs": [],
   "source": [
    "#Lasso split method\n",
    "def conformal_split(y,x,x_test,alpha,y_plot,seed=100):\n",
    "    n = np.shape(y)[0]\n",
    "    n_test = np.shape(x_test)[0]\n",
    "    #Fit lasso to training set\n",
    "    ls = LassoCV(cv = 5,random_state = seed)\n",
    "    n_train = int(n/2)\n",
    "    ls.fit(x[0:n_train],y[0:n_train])\n",
    "    #Predict lasso on validation set\n",
    "    y_pred_val = ls.predict(x[n_train:])\n",
    "    resid = np.abs(y_pred_val - y[n_train:])\n",
    "    k = int(np.ceil((n/2 + 1)*(1-alpha)))\n",
    "    d = np.sort(resid)[k-1]\n",
    "    #Compute split conformal interval\n",
    "    band_split = np.zeros((n_test,2))\n",
    "    y_pred_test = ls.predict(x_test) #predict lasso on test\n",
    "    band_split[:,0] = y_pred_test - d\n",
    "    band_split[:,1] = y_pred_test + d\n",
    "    return band_split\n",
    "    \n",
    "#Lasso full method\n",
    "def conformal_full(y,x,x_test,alpha,y_plot,C,seed=100):\n",
    "    n = np.shape(y)[0]\n",
    "    rank_full = np.zeros(np.shape(y_plot)[0])\n",
    "    for i in range(np.shape(y_plot)[0]):\n",
    "        y_new = y_plot[i]\n",
    "        x_aug = np.concatenate((x,x_test),axis = 0)\n",
    "        y_aug = np.append(y,y_new)\n",
    "        ls = Lasso(alpha = C,random_state = seed)\n",
    "        ls.fit(x_aug,y_aug)\n",
    "        y_pred_val = ls.predict(x_aug)\n",
    "        resid = np.abs(y_pred_val - y_aug)\n",
    "        rank_full[i] = np.sum(resid>=resid[-1])/(n+1)\n",
    "    region_full = rank_full > alpha \n",
    "    return region_full"
   ]
  },
  {
   "cell_type": "code",
   "execution_count": 13,
   "id": "e5a1ae50",
   "metadata": {},
   "outputs": [],
   "source": [
    "x,y,x_test,y_test,y_plot,n,d = load_traintest_sparsereg(train_frac,dataset,seed)"
   ]
  },
  {
   "cell_type": "code",
   "execution_count": 17,
   "id": "bbff67de",
   "metadata": {},
   "outputs": [
    {
     "data": {
      "image/png": "[encoded data removed]",
      "text/plain": [
       "<Figure size 640x480 with 1 Axes>"
      ]
     },
     "metadata": {},
     "output_type": "display_data"
    }
   ],
   "source": [
    "plt.plot(range(len(y_plot)), y_plot)\n",
    "plt.show()"
   ]
  },
  {
   "cell_type": "code",
   "execution_count": null,
   "id": "0640de82",
   "metadata": {},
   "outputs": [],
   "source": []
  }
 ],
 "metadata": {
  "kernelspec": {
   "display_name": "Python 3 (ipykernel)",
   "language": "python",
   "name": "python3"
  },
  "language_info": {
   "codemirror_mode": {
    "name": "ipython",
    "version": 3
   },
   "file_extension": ".py",
   "mimetype": "text/x-python",
   "name": "python",
   "nbconvert_exporter": "python",
   "pygments_lexer": "ipython3",
   "version": "3.9.13"
  }
 },
 "nbformat": 4,
 "nbformat_minor": 5
}
