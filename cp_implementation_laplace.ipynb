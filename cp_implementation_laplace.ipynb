{
 "cells": [
  {
   "cell_type": "markdown",
   "id": "04035a62",
   "metadata": {},
   "source": [
    "# Imports"
   ]
  },
  {
   "cell_type": "code",
   "execution_count": 15,
   "id": "760eb5e7",
   "metadata": {},
   "outputs": [],
   "source": [
    "import math\n",
    "import os\n",
    "import torch\n",
    "import torch.distributions.constraints as constraints\n",
    "import pyro\n",
    "import numpy as np\n",
    "import copy\n",
    "import time\n",
    "import snakeviz\n",
    "from pyro.optim import Adam\n",
    "from pyro.infer import SVI, Trace_ELBO\n",
    "import pyro.distributions as dist\n",
    "import random\n",
    "from sklearn.datasets import load_diabetes\n",
    "assert pyro.__version__.startswith('1.8.4')\n",
    "\n",
    "# clear the param store in case we're in a REPL\n",
    "pyro.clear_param_store()"
   ]
  },
  {
   "cell_type": "markdown",
   "id": "3404a136",
   "metadata": {},
   "source": [
    "# Load Datasets"
   ]
  },
  {
   "cell_type": "markdown",
   "id": "55ef8d32",
   "metadata": {},
   "source": [
    "### Random Dataset"
   ]
  },
  {
   "cell_type": "code",
   "execution_count": 16,
   "id": "c6427873",
   "metadata": {},
   "outputs": [],
   "source": [
    "def generate_stdp_dataset(dim, num_examples, min_value, max_value):\n",
    "    X = np.random.random((num_examples + 1, dim)) * (max_value - min_value) + min_value\n",
    "    beta = np.random.random((dim)) * (max_value - min_value) + min_value\n",
    "\n",
    "    noise = np.random.normal(0, np.sqrt(max_value - min_value), num_examples + 1)\n",
    "    Y = X[:num_examples + 1] @ beta + noise\n",
    "\n",
    "    X = np.asfortranarray(X)\n",
    "    Y = np.asfortranarray(Y)\n",
    "    X /= np.linalg.norm(X, axis=0)\n",
    "    Y = (Y - Y.mean()) / Y.std()\n",
    "    Y = Y * max_value\n",
    "\n",
    "    Y = Y/np.linalg.norm(Y)\n",
    "\n",
    "    return X, Y, beta"
   ]
  },
  {
   "cell_type": "code",
   "execution_count": 17,
   "id": "5eb99929",
   "metadata": {},
   "outputs": [],
   "source": [
    "X, Y, beta = generate_stdp_dataset(10, 442, 0, 1)"
   ]
  },
  {
   "cell_type": "markdown",
   "id": "cf69c26b",
   "metadata": {},
   "source": [
    "### Diabetes Dataset"
   ]
  },
  {
   "cell_type": "markdown",
   "id": "54cdd898",
   "metadata": {},
   "source": [
    "X, Y = load_diabetes(return_X_y = True)"
   ]
  },
  {
   "cell_type": "markdown",
   "id": "76bf12e4",
   "metadata": {},
   "source": [
    "print(Y[0:3])\n",
    "Y = (Y - Y.mean()) / Y.std()\n",
    "print(Y[0:3])\n",
    "X = X / np.linalg.norm(X)\n",
    "print(X[0:3])"
   ]
  },
  {
   "cell_type": "code",
   "execution_count": 18,
   "id": "7f8fe7c4",
   "metadata": {},
   "outputs": [
    {
     "name": "stdout",
     "output_type": "stream",
     "text": [
      "[[0.01612398 0.04158464 0.07746244 ... 0.03498206 0.02095555 0.04236454]\n",
      " [0.01605905 0.04527719 0.07404861 ... 0.05604785 0.00128957 0.06493875]\n",
      " [0.01929939 0.04572011 0.02101049 ... 0.06714217 0.04359674 0.07518022]\n",
      " ...\n",
      " [0.02848631 0.04489719 0.07742571 ... 0.06421913 0.03564968 0.06717425]\n",
      " [0.06420379 0.08492299 0.02663652 ... 0.06847802 0.01271459 0.03142911]\n",
      " [0.07088772 0.00124826 0.05961029 ... 0.07227652 0.07289808 0.07222616]]\n",
      "[ 0.10507839 -0.04747196  0.03105699  0.02568808  0.02804387 -0.05533747\n",
      "  0.03328622 -0.04039671 -0.01771471 -0.02467857 -0.00096428 -0.05590712\n",
      " -0.05880182 -0.01092552  0.01193904  0.00734534  0.06541654 -0.03333717\n",
      " -0.00267866  0.00992587 -0.05686197  0.02617897  0.08011135  0.00761401\n",
      "  0.02006333 -0.03767134  0.04421853 -0.03023551  0.03999766  0.01656581\n",
      "  0.02797752  0.04405204 -0.00138823 -0.05668539  0.05178921 -0.01079294\n",
      "  0.00527193  0.04752734 -0.03364545 -0.02525739 -0.01153545  0.00570534\n",
      "  0.02031529  0.02662051 -0.09891087  0.0503735  -0.02461605 -0.0178817\n",
      " -0.09065043 -0.04236355 -0.04761602  0.01463095 -0.02716478  0.03843622\n",
      "  0.0083608  -0.00524613  0.0507109  -0.02274063 -0.060316   -0.03767572\n",
      "  0.04755286 -0.10364829  0.07190616 -0.014988    0.05599172 -0.05979687\n",
      " -0.0065323   0.08916249 -0.00395169  0.04299482 -0.06326615  0.03974635\n",
      " -0.04568343 -0.03668394 -0.01993259 -0.0210076  -0.08887847  0.02853298\n",
      "  0.01423706 -0.03406405 -0.08463369  0.00612968  0.00562686 -0.0255409\n",
      " -0.0179838   0.09244557  0.00157636 -0.01461527 -0.0474359  -0.08694171\n",
      " -0.07697269 -0.02483474 -0.0124825  -0.02340367  0.07708734  0.00993034\n",
      "  0.01671177  0.11523249  0.1122565  -0.01498074  0.02596722  0.00640244\n",
      " -0.00908716  0.02572832 -0.09301537  0.0595891   0.05700459  0.04043175\n",
      "  0.00583382 -0.02683041 -0.06390457 -0.06613962  0.11180427 -0.0108333\n",
      " -0.01498253 -0.01953522 -0.03849141 -0.01538564  0.00273431  0.07258681\n",
      "  0.07886964 -0.00681429 -0.00651064  0.05187593 -0.00613295  0.01692494\n",
      " -0.03446883 -0.01074159  0.03547439  0.0254986  -0.00037147 -0.02013497\n",
      " -0.04319058 -0.00287023  0.03472511  0.03746939  0.02839632 -0.00687654\n",
      "  0.02737894  0.06011929 -0.0075321  -0.02121959  0.01575694 -0.05484215\n",
      "  0.00903673  0.02361704  0.09469159  0.02955101  0.04367101 -0.01590939\n",
      "  0.0267494   0.07760241 -0.09111359 -0.04503534  0.01866766 -0.11745085\n",
      "  0.07400033 -0.00912792 -0.01985239  0.04026468  0.0257578  -0.04467075\n",
      "  0.07733018 -0.08357075  0.04495178 -0.02116354  0.11102274 -0.02085738\n",
      " -0.02858966  0.01823299  0.0072184   0.01215063  0.00940402 -0.00185597\n",
      " -0.10718618 -0.00309328  0.00918755 -0.06920589 -0.00057971 -0.01129828\n",
      " -0.0757358   0.04400571 -0.08882232  0.02707173  0.0777106   0.01097704\n",
      "  0.05283466 -0.03881554  0.00762789  0.01449627  0.02381786  0.00747121\n",
      " -0.05652736  0.02799159 -0.03008725 -0.00106861 -0.02329001  0.02991032\n",
      " -0.02472411 -0.05588698 -0.03173898  0.03696647  0.0370549  -0.00428327\n",
      " -0.01529591 -0.02711241  0.01965948 -0.01256772 -0.10913472  0.07837357\n",
      "  0.05780932 -0.03165779 -0.03099276  0.01199454 -0.06034935 -0.02070712\n",
      "  0.00609502 -0.02394149 -0.03515266 -0.01814789 -0.12396436 -0.01311516\n",
      "  0.02791354  0.0235248   0.07411984  0.01629277 -0.00892646  0.0351755\n",
      " -0.01427986 -0.02796839 -0.02336037  0.10152489 -0.03389537  0.04573114\n",
      "  0.03330235  0.0368289   0.03250821 -0.04870554  0.00696436 -0.03098287\n",
      "  0.00989771 -0.04465456 -0.03371432 -0.04571732 -0.03593367 -0.08336251\n",
      " -0.00612257 -0.02786027  0.04836589 -0.0823478   0.03502264  0.01676855\n",
      "  0.00317751  0.0165333  -0.03304514  0.01423725  0.00027364  0.04299927\n",
      "  0.03529406  0.00880143  0.00756608  0.02051984  0.03496719  0.01289415\n",
      "  0.05893624  0.0686029  -0.09234859  0.03607031 -0.00530856 -0.02696584\n",
      " -0.02183043  0.00323605 -0.0198677  -0.0427244  -0.01989521 -0.01567614\n",
      "  0.00640749  0.01935629  0.07288191 -0.05831863 -0.01517469  0.04785774\n",
      "  0.14187069  0.00142859 -0.04089391 -0.05472533  0.01651453 -0.08562078\n",
      " -0.0028798  -0.01592117  0.04791452  0.00467706 -0.00023109 -0.03478353\n",
      "  0.01536021 -0.01906054  0.00507389  0.09429345  0.00046329  0.05875483\n",
      "  0.03040967 -0.06647508  0.03526064  0.06377827 -0.00927923 -0.0054996\n",
      "  0.13830251  0.03459129 -0.05029748 -0.06377032  0.04982122 -0.10272049\n",
      "  0.04058254 -0.07886706 -0.00544543 -0.03814988  0.039527   -0.03242452\n",
      "  0.01234831 -0.03693673  0.069403    0.01284723  0.04393415  0.02662531\n",
      "  0.05844815 -0.00796367 -0.00594622 -0.02676311  0.0441341   0.03642697\n",
      " -0.01268572  0.08013624  0.07992606 -0.02512703 -0.05805837  0.02652838\n",
      " -0.04709803 -0.05379621 -0.00553017  0.04375176 -0.03450377  0.07717619\n",
      "  0.03083929  0.03827993  0.0489327  -0.06240327 -0.05176053 -0.04632445\n",
      " -0.01872447  0.0630281  -0.01832547 -0.06795389  0.00174616  0.00618456\n",
      " -0.01713317  0.00744648 -0.05102943 -0.01426178  0.01021767 -0.0525728\n",
      " -0.08109     0.02977092  0.04043158  0.05067482  0.05854312 -0.00159132\n",
      "  0.02029508 -0.11394595 -0.0031929   0.01308536 -0.00887023 -0.03310233\n",
      "  0.0136165  -0.01077707 -0.04395349  0.02004226  0.03924132  0.04422206\n",
      " -0.03024749 -0.02679827  0.01839665 -0.02915565 -0.07946573  0.07631976\n",
      " -0.00643259  0.00177265 -0.00138426 -0.02475463 -0.00858772 -0.04664359\n",
      "  0.11546724 -0.03891629  0.04667108  0.10364144 -0.03406444  0.06730387\n",
      " -0.02275396 -0.05099317 -0.06390692  0.08964563 -0.006148   -0.02011941\n",
      "  0.05299147  0.05024279 -0.00722813 -0.02455482 -0.08063654 -0.09705107\n",
      " -0.10392562  0.03391805  0.0048634   0.10545055  0.00615607 -0.03307094\n",
      "  0.06349724 -0.06809659 -0.09472404 -0.06906472 -0.05608923 -0.0404358\n",
      " -0.0067258  -0.00708636 -0.09721163  0.05345529 -0.03610151  0.00766557\n",
      " -0.02468575 -0.0301924  -0.02184437  0.06942718  0.02759479 -0.03795674\n",
      "  0.04518225  0.05851811  0.03121258  0.08432008  0.07088947  0.03112665\n",
      " -0.01155164 -0.05156026 -0.0231846   0.05632117  0.05964098]\n"
     ]
    }
   ],
   "source": [
    "print(X)\n",
    "print(Y)"
   ]
  },
  {
   "cell_type": "code",
   "execution_count": 19,
   "id": "74b56b9e",
   "metadata": {},
   "outputs": [
    {
     "name": "stdout",
     "output_type": "stream",
     "text": [
      "10\n"
     ]
    }
   ],
   "source": [
    "print(len(X[0]))"
   ]
  },
  {
   "cell_type": "code",
   "execution_count": 20,
   "id": "83170120",
   "metadata": {},
   "outputs": [],
   "source": [
    "# Clip the dataset\n",
    "# X = X[0:100]\n",
    "# Y = Y[0:100]"
   ]
  },
  {
   "cell_type": "markdown",
   "id": "beec7c5b",
   "metadata": {},
   "source": [
    "### Set up X, Y train"
   ]
  },
  {
   "cell_type": "code",
   "execution_count": 21,
   "id": "f901b099",
   "metadata": {},
   "outputs": [],
   "source": [
    "X_train = copy.deepcopy(X)\n",
    "Y_train = copy.deepcopy(Y[:len(Y) - 1])\n",
    "X_train = [torch.tensor(member) for member in X_train]\n",
    "Y_train = [torch.tensor(member) for member in Y_train]\n",
    "dim = len(X[0])"
   ]
  },
  {
   "cell_type": "code",
   "execution_count": 22,
   "id": "9d469a0f",
   "metadata": {},
   "outputs": [
    {
     "data": {
      "text/plain": [
       "0.04748028659696564"
      ]
     },
     "execution_count": 22,
     "metadata": {},
     "output_type": "execute_result"
    }
   ],
   "source": [
    "np.std(Y_train)"
   ]
  },
  {
   "cell_type": "markdown",
   "id": "2ab2dcb2",
   "metadata": {},
   "source": [
    "# Model and Guide Setup"
   ]
  },
  {
   "cell_type": "code",
   "execution_count": 23,
   "id": "c01a2886",
   "metadata": {},
   "outputs": [],
   "source": [
    "global prev_mu_q\n",
    "\n",
    "prev_mu_q = torch.zeros(dim, dtype=torch.float64)"
   ]
  },
  {
   "cell_type": "code",
   "execution_count": 24,
   "id": "3d61d587",
   "metadata": {},
   "outputs": [],
   "source": [
    "def model(data):\n",
    "    # define the hyperparameters that control the Beta prior\n",
    "    mu0 = torch.zeros(dim, dtype=torch.float64)\n",
    "    b = pyro.sample(\"b\", dist.Gamma(torch.ones(dim, dtype=torch.float64), torch.ones(dim, dtype=torch.float64)).to_event(1))\n",
    "    # sample f from the Beta prior\n",
    "    beta = pyro.sample(\"beta\", dist.Laplace(mu0, b).to_event(1))\n",
    "    std = pyro.sample(\"sigma\", dist.HalfNormal(1))\n",
    "    # loop over the observed data\n",
    "    # subset = random.sample(data, int(len(data) / dim))\n",
    "    # for i in range(len(subset)):\n",
    "    # data goes list tuple tensor\n",
    "          \n",
    "    with pyro.plate(\"data\", len(data), subsample_size=100) as ind:\n",
    "        data = np.asarray(data)[ind]\n",
    "        for i in range(len(data)):\n",
    "            sampler = dist.Normal(beta.dot(data[i][0]).item(), std)\n",
    "            pyro.sample(\"obs_{}\".format(i), sampler.to_event(0), obs=data[i][1])\n",
    "\n",
    "# NOT being used in favor of autoguide\n",
    "def guide(data):\n",
    "    return pyro.infer.autoguide.AutoLaplaceApproximation(model)"
   ]
  },
  {
   "cell_type": "code",
   "execution_count": 25,
   "id": "fa57e2f1",
   "metadata": {},
   "outputs": [],
   "source": [
    "def train_SVI(D_hat, n_steps):\n",
    "    losses = []\n",
    "    # setup the optimizer\n",
    "    adam_params = {\"lr\": 0.005, \"betas\": (0.90, 0.999)}\n",
    "    optimizer = Adam(adam_params)\n",
    "\n",
    "    # setup the inference algorithm\n",
    "    guide = pyro.infer.autoguide.AutoLaplaceApproximation(model)\n",
    "    svi = SVI(model, guide, optimizer, loss=Trace_ELBO())\n",
    "    # do gradient steps\n",
    "    for step in range(n_steps):\n",
    "        loss = svi.step(D_hat)\n",
    "        losses.append(loss)\n",
    "        if loss < 1e-5:\n",
    "            break\n",
    "    breakpoint()\n",
    "    mu_q = guide.state_dict()['loc'][10:20]\n",
    "    return mu_q, losses"
   ]
  },
  {
   "cell_type": "markdown",
   "id": "094040c8",
   "metadata": {},
   "source": [
    "# Run VI on Data "
   ]
  },
  {
   "cell_type": "code",
   "execution_count": 26,
   "id": "75c8441a",
   "metadata": {
    "scrolled": true
   },
   "outputs": [
    {
     "name": "stdout",
     "output_type": "stream",
     "text": [
      "tensor(0.1419, dtype=torch.float64)\n",
      "tensor(-0.1240, dtype=torch.float64)\n",
      "tensor(0.1419, dtype=torch.float64)\n",
      "tensor(-0.1240, dtype=torch.float64)\n"
     ]
    },
    {
     "name": "stderr",
     "output_type": "stream",
     "text": [
      "/var/folders/1s/1mkc4t8137lbs9x8hhg9q8940000gp/T/ipykernel_13566/500303095.py:14: FutureWarning: The input object of type 'Tensor' is an array-like implementing one of the corresponding protocols (`__array__`, `__array_interface__` or `__array_struct__`); but not a sequence (or 0-D). In the future, this object will be coerced as if it was first converted using `np.array(obj)`. To retain the old behaviour, you have to either modify the type 'Tensor', or assign to an empty array created with `np.empty(correct_shape, dtype=object)`.\n",
      "  data = np.asarray(data)[ind]\n",
      "/var/folders/1s/1mkc4t8137lbs9x8hhg9q8940000gp/T/ipykernel_13566/500303095.py:14: VisibleDeprecationWarning: Creating an ndarray from ragged nested sequences (which is a list-or-tuple of lists-or-tuples-or ndarrays with different lengths or shapes) is deprecated. If you meant to do this, you must specify 'dtype=object' when creating the ndarray.\n",
      "  data = np.asarray(data)[ind]\n"
     ]
    },
    {
     "name": "stdout",
     "output_type": "stream",
     "text": [
      "0.1418706916720681 Not added\n",
      "0.13187069167206808 Not added\n",
      "0.12187069167206808 Not added\n",
      "0.11187069167206809 Not added\n",
      "0.1018706916720681 Not added\n",
      "0.0918706916720681 Added\n",
      "0.0818706916720681 Added\n",
      "0.07187069167206811 Added\n",
      "0.06187069167206811 Added\n",
      "0.051870691672068106 Added\n",
      "0.041870691672068104 Added\n",
      "0.0318706916720681 Added\n",
      "0.0218706916720681 Added\n",
      "0.0118706916720681 Added\n",
      "0.0018706916720680998 Added\n",
      "-0.0081293083279319 Added\n",
      "-0.0181293083279319 Added\n",
      "-0.028129308327931903 Added\n",
      "-0.038129308327931904 Added\n",
      "-0.048129308327931906 Added\n",
      "-0.05812930832793191 Added\n",
      "-0.0681293083279319 Added\n",
      "-0.0781293083279319 Added\n",
      "-0.0881293083279319 Not added\n",
      "-0.09812930832793189 Not added\n",
      "-0.10812930832793188 Not added\n",
      "-0.11812930832793188 Not added\n"
     ]
    }
   ],
   "source": [
    "rank_proportions = []\n",
    "y_hat = max(Y_train)\n",
    "y_bottom = min(Y_train)\n",
    "print(y_hat)\n",
    "print(y_bottom)\n",
    "conformal_set = []\n",
    "decrease_size = 0.01\n",
    "start = time.time()\n",
    "print(max(Y_train))\n",
    "print(min(Y_train))\n",
    "\n",
    "all_losses = []\n",
    "while y_hat >= y_bottom:\n",
    "    pyro.clear_param_store()\n",
    "    # Create D_hat\n",
    "    D_hat = list(zip(X_train[:-1], Y_train))\n",
    "    D_hat.append((X_train[-1], y_hat))\n",
    "    \n",
    "    # Train SVI\n",
    "    mu_q, losses = train_SVI(D_hat, 200)\n",
    "    all_losses.append(losses)\n",
    "    prev_mu_q = mu_q\n",
    "    \n",
    "    # Calculate rank of y_hat\n",
    "    rank = [(abs(sum(D_hat[i][0] * mu_q) - D_hat[i][1]).detach().numpy()) for i in range(len(D_hat))]\n",
    "    y_hat_rank = rank[-1]\n",
    "    \n",
    "    # Add to conformal set if in not in bottom 10 percent of probabilities\n",
    "    current_rank_proportion = np.count_nonzero(y_hat_rank > rank) / len(rank)\n",
    "    rank_proportions.append(current_rank_proportion)\n",
    "    if current_rank_proportion < 0.9:\n",
    "        conformal_set.append(copy.deepcopy(y_hat))\n",
    "        print(f\"{y_hat} Added\")\n",
    "    else:\n",
    "        print(f\"{y_hat} Not added\")\n",
    "    y_hat -= decrease_size\n",
    "conformal_set = [min(conformal_set), max(conformal_set)]\n",
    "end = time.time()"
   ]
  },
  {
   "cell_type": "code",
   "execution_count": 27,
   "id": "755e7a77",
   "metadata": {},
   "outputs": [
    {
     "name": "stdout",
     "output_type": "stream",
     "text": [
      "Conformal Set: [-0.0781293083279319, 0.0918706916720681]\n",
      "Length: 0.16999999999999998\n",
      "Y[-1]: 0.05964097926622981\n",
      "Y[-1] is covered\n",
      "Elapsed Time: 88.12924289703369\n"
     ]
    }
   ],
   "source": [
    "print(f\"Conformal Set: [{float(conformal_set[0])}, {float(conformal_set[1])}]\")\n",
    "print(f\"Length: {float(conformal_set[1] - conformal_set[0])}\")\n",
    "print(f\"Y[-1]: {Y[-1]}\")\n",
    "if Y[-1] >= conformal_set[0] and Y[-1] <= conformal_set[1]:\n",
    "    print(f\"Y[-1] is covered\")\n",
    "else:\n",
    "    print(\"Y[-1] is Not covered\")\n",
    "print(f\"Elapsed Time: {end - start}\")"
   ]
  },
  {
   "cell_type": "code",
   "execution_count": 28,
   "id": "f2ed7e86",
   "metadata": {},
   "outputs": [
    {
     "name": "stdout",
     "output_type": "stream",
     "text": [
      "[47661.99328416252, 47441.035040902585, 47218.55972980891, 46994.923088916345, 46781.83283576046, 46550.70033684787, 46337.409872675395, 46116.40381412186, 45889.92158381861, 45673.22857431617, 45435.60564174207, 45220.1359103474, 44994.79677402221, 44785.81525895179, 44567.89630853105, 44341.40363412309, 44123.903124088894, 43894.61504846625, 43680.41822141253, 43450.7133369652, 43228.695790795406, 43005.93923162551, 42780.71538746437, 42573.83511089968, 42349.953990009126, 42126.774944938974, 41909.073295373186, 41683.72195909084, 41457.09305365548, 41242.88568764709, 41017.21129991587, 40792.65224454017, 40589.19218010839, 40357.22243185499, 40131.57551462411, 39921.322294727936, 39693.630133743354, 39486.42158400618, 39253.93581321011, 39038.03751548858, 38800.14985866673, 38584.610365494584, 38383.19563499177, 38136.30838745117, 37934.99078813498, 37696.07288463612, 37489.24262294975, 37256.73403890034, 37051.409927684144, 36816.46860623992, 36603.84284250657, 36385.7518095519, 36167.85181694779, 35931.404610583726, 35720.69509024339, 35497.752526015815, 35282.26405215972, 35064.669578255336, 34842.81264026509, 34612.256488568884, 34398.47252352682, 34183.47493864064, 33940.92580736901, 33723.30320504055, 33504.4476841604, 33280.66753493698, 33069.121259545536, 32842.40867198468, 32633.225838355127, 32398.565983812958, 32191.520766676775, 31960.66797880696, 31736.82331706588, 31519.6168916316, 31298.094396568104, 31085.80635435265, 30864.865709066293, 30633.731700806977, 30445.325635229114, 30201.56689117775, 29993.015729691044, 29776.899253187526, 29558.043401747913, 29322.170036946485, 29103.786043442335, 28862.90669551163, 28630.296868593377, 28439.221789515548, 28194.581061905617, 27999.8657802937, 27760.72540847455, 27553.9614341918, 27346.93941179818, 27105.89876568097, 26890.287178001436, 26678.541065407408, 26460.075067004494, 26230.48983288084, 25997.207545921294, 25774.48583021844, 25584.186702771618, 25356.004250793754, 25125.40831136696, 24918.65990428121, 24704.58277522764, 24465.398467481267, 24239.647370475213, 24006.076121973867, 23837.865932820107, 23591.872988986048, 23386.601679750525, 23168.40043146614, 22955.78193594359, 22715.114926678896, 22497.23688965757, 22278.037639296912, 22045.132168824788, 21854.482284601385, 21621.60036299857, 21395.21384510113, 21189.30974254717, 20948.15948848968, 20743.91969741265, 20529.77286021447, 20314.646546841122, 20048.521365302997, 19872.348111673244, 19644.24212535013, 19402.546804015077, 19178.3505469838, 18947.498124041045, 18728.920385957605, 18535.614288144327, 18307.148737172607, 18074.10999559561, 17874.101377782503, 17678.849022720955, 17421.502922052627, 17208.519034048277, 16976.286742339973, 16816.420313852297, 16572.635147306093, 16333.772626454169, 16096.369621812317, 15859.688971380247, 15679.272293703725, 15479.203208127343, 15219.464905310922, 14991.72108713307, 14805.486352283782, 14595.96058372567, 14359.22001125524, 14146.34343236343, 13913.36292973459, 13744.640556681305, 13458.335294849474, 13286.104436958607, 13020.307834855368, 12850.003580977436, 12607.074883241734, 12361.298486219745, 12189.641282892779, 11952.534455113326, 11687.88720062387, 11534.97868277745, 11277.90459733757, 11080.445953186827, 10844.858646936942, 10641.87961776517, 10421.387730369961, 10182.069525403096, 9980.865776866127, 9735.970109403144, 9554.189171488673, 9327.283259884369, 9097.061935847387, 8890.710902554816, 8677.707602314402, 8452.44346727304, 8223.468225908238, 8022.93905551024, 7801.417002380128, 7545.812362844696, 7391.088882892966, 7090.49845362262, 6983.197425650793, 6655.513224661414, 6520.92608951842, 6316.515860889743, 6050.489248935992, 5855.866751272053, 5608.430549947238, 5391.608279473775, 5206.329850122086, 4969.142780562371, 4786.044055763723, 4519.74337219564, 4303.912144512614, 4125.245634405664, 3834.0743765152465]\n"
     ]
    }
   ],
   "source": [
    "print(all_losses[0])"
   ]
  },
  {
   "cell_type": "code",
   "execution_count": 33,
   "id": "ba3d2fd9",
   "metadata": {
    "scrolled": true
   },
   "outputs": [
    {
     "data": {
      "image/png": "[encoded data removed]",
      "text/plain": [
       "<Figure size 640x480 with 1 Axes>"
      ]
     },
     "metadata": {},
     "output_type": "display_data"
    }
   ],
   "source": [
    "import matplotlib.pyplot as plt\n",
    "plt.scatter(range(len(all_losses[0])), all_losses[0])\n",
    "plt.show()"
   ]
  },
  {
   "cell_type": "code",
   "execution_count": 34,
   "id": "86ad1082",
   "metadata": {},
   "outputs": [
    {
     "name": "stdout",
     "output_type": "stream",
     "text": [
      "tensor([-4.3821e-02,  1.1268e-04,  5.8331e-04,  6.6335e-04, -4.0176e-04,\n",
      "         1.0043e-03,  6.4395e-04, -3.5384e-05,  8.7944e-05, -4.7360e-04],\n",
      "       dtype=torch.float64)\n"
     ]
    }
   ],
   "source": [
    "print(mu_q)"
   ]
  },
  {
   "cell_type": "code",
   "execution_count": 31,
   "id": "9b01aa89",
   "metadata": {},
   "outputs": [
    {
     "data": {
      "text/plain": [
       "dict_keys(['AutoLaplaceApproximation.loc'])"
      ]
     },
     "execution_count": 31,
     "metadata": {},
     "output_type": "execute_result"
    }
   ],
   "source": [
    "pyro.get_param_store().keys()"
   ]
  },
  {
   "cell_type": "code",
   "execution_count": null,
   "id": "15bfb962",
   "metadata": {},
   "outputs": [],
   "source": []
  }
 ],
 "metadata": {
  "kernelspec": {
   "display_name": "Python 3 (ipykernel)",
   "language": "python",
   "name": "python3"
  },
  "language_info": {
   "codemirror_mode": {
    "name": "ipython",
    "version": 3
   },
   "file_extension": ".py",
   "mimetype": "text/x-python",
   "name": "python",
   "nbconvert_exporter": "python",
   "pygments_lexer": "ipython3",
   "version": "3.9.13"
  }
 },
 "nbformat": 4,
 "nbformat_minor": 5
}
