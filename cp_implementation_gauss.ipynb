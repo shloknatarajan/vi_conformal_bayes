{
 "cells": [
  {
   "cell_type": "markdown",
   "id": "04035a62",
   "metadata": {},
   "source": [
    "# Imports"
   ]
  },
  {
   "cell_type": "code",
   "execution_count": 16,
   "id": "760eb5e7",
   "metadata": {},
   "outputs": [],
   "source": [
    "import math\n",
    "import os\n",
    "import torch\n",
    "import torch.distributions.constraints as constraints\n",
    "import pyro\n",
    "import numpy as np\n",
    "import copy\n",
    "import time\n",
    "import snakeviz\n",
    "from pyro.optim import Adam\n",
    "from pyro.infer import SVI, Trace_ELBO\n",
    "import pyro.distributions as dist\n",
    "import random\n",
    "from sklearn.datasets import load_diabetes\n",
    "assert pyro.__version__.startswith('1.8.4')\n",
    "\n",
    "# clear the param store in case we're in a REPL\n",
    "pyro.clear_param_store()"
   ]
  },
  {
   "cell_type": "markdown",
   "id": "3404a136",
   "metadata": {},
   "source": [
    "# Load Datasets"
   ]
  },
  {
   "cell_type": "markdown",
   "id": "55ef8d32",
   "metadata": {},
   "source": [
    "### Random Dataset"
   ]
  },
  {
   "cell_type": "code",
   "execution_count": 17,
   "id": "c6427873",
   "metadata": {},
   "outputs": [],
   "source": [
    "def generate_stdp_dataset(dim, num_examples, min_value, max_value):\n",
    "    X = np.random.random((num_examples + 1, dim)) * (max_value - min_value) + min_value\n",
    "    beta = np.random.random((dim)) * (max_value - min_value) + min_value\n",
    "\n",
    "    noise = np.random.normal(0, np.sqrt(max_value - min_value), num_examples + 1)\n",
    "    Y = X[:num_examples + 1] @ beta + noise\n",
    "\n",
    "    X = np.asfortranarray(X)\n",
    "    Y = np.asfortranarray(Y)\n",
    "    X /= np.linalg.norm(X, axis=0)\n",
    "    Y = (Y - Y.mean()) / Y.std()\n",
    "    Y = Y * max_value\n",
    "\n",
    "    Y = Y/np.linalg.norm(Y)\n",
    "\n",
    "    return X, Y, beta"
   ]
  },
  {
   "cell_type": "code",
   "execution_count": 18,
   "id": "5eb99929",
   "metadata": {},
   "outputs": [],
   "source": [
    "X, Y, beta = generate_stdp_dataset(3, 10, 0, 1)"
   ]
  },
  {
   "cell_type": "markdown",
   "id": "cf69c26b",
   "metadata": {},
   "source": [
    "### Diabetes Dataset"
   ]
  },
  {
   "cell_type": "code",
   "execution_count": 19,
   "id": "618640dc",
   "metadata": {},
   "outputs": [],
   "source": [
    "X, Y = load_diabetes(return_X_y = True)"
   ]
  },
  {
   "cell_type": "code",
   "execution_count": 20,
   "id": "7fcb5682",
   "metadata": {},
   "outputs": [
    {
     "name": "stdout",
     "output_type": "stream",
     "text": [
      "[151.  75. 141.]\n",
      "[-0.01471948 -1.00165882 -0.14457991]\n",
      "[[ 0.01204066  0.01602646  0.01951005  0.00691665 -0.0139847  -0.01101129\n",
      "  -0.01372455 -0.00081975  0.0062956  -0.00558019]\n",
      " [-0.00059515 -0.01411692 -0.01627753 -0.00832559 -0.00267172 -0.00605998\n",
      "   0.023531   -0.0124889  -0.02160776 -0.02915748]\n",
      " [ 0.02697388  0.01602646  0.01405671 -0.0017932  -0.01441981 -0.01081324\n",
      "  -0.01023184 -0.00081975  0.0009056  -0.00819989]]\n"
     ]
    }
   ],
   "source": [
    "print(Y[0:3])\n",
    "Y = (Y - Y.mean()) / Y.std()\n",
    "print(Y[0:3])\n",
    "X = X / np.linalg.norm(X)\n",
    "print(X[0:3])"
   ]
  },
  {
   "cell_type": "code",
   "execution_count": 21,
   "id": "904692c1",
   "metadata": {},
   "outputs": [
    {
     "name": "stdout",
     "output_type": "stream",
     "text": [
      "[[ 0.01204066  0.01602646  0.01951005 ... -0.00081975  0.0062956\n",
      "  -0.00558019]\n",
      " [-0.00059515 -0.01411692 -0.01627753 ... -0.0124889  -0.02160776\n",
      "  -0.02915748]\n",
      " [ 0.02697388  0.01602646  0.01405671 ... -0.00081975  0.0009056\n",
      "  -0.00819989]\n",
      " ...\n",
      " [ 0.01318937  0.01602646 -0.00503    ... -0.00350365 -0.01482459\n",
      "   0.0048986 ]\n",
      " [-0.01437966 -0.01411692  0.01235254 ...  0.00839889  0.01408111\n",
      "  -0.00819989]\n",
      " [-0.01437966 -0.01411692 -0.02309421 ... -0.0124889  -0.00133444\n",
      "   0.00096905]]\n",
      "[-1.47194752e-02 -1.00165882e+00 -1.44579915e-01  6.99512942e-01\n",
      " -2.22496178e-01 -7.15965848e-01 -1.83538046e-01 -1.15749134e+00\n",
      " -5.47147277e-01  2.05006151e+00 -6.64021672e-01 -1.07957508e+00\n",
      "  3.48889755e-01  4.26806019e-01 -4.43258925e-01  2.45001404e-01\n",
      "  1.80071184e-01 -1.05621783e-01 -7.15965848e-01  2.06043272e-01\n",
      " -1.09256112e+00 -1.33929596e+00 -1.09256112e+00  1.20596866e+00\n",
      "  4.13819975e-01  6.47568766e-01 -1.96524090e-01 -8.71798376e-01\n",
      " -2.74440354e-01  1.69943833e+00 -3.00412442e-01 -1.20943552e+00\n",
      "  2.45262887e+00 -8.45826288e-01 -1.13151925e+00 -6.51035629e-01\n",
      "  1.46568953e+00  1.60853602e+00  1.29687096e+00 -8.06868156e-01\n",
      " -6.77007716e-01 -1.26137969e+00 -1.18346343e+00 -7.80896068e-01\n",
      "  1.38777327e+00 -1.28735178e+00  4.91736239e-01 -1.31593871e-01\n",
      " -1.00165882e+00 -1.31593871e-01  3.72247006e-02  9.46247777e-01\n",
      " -1.20943552e+00 -6.25063541e-01  3.87847887e-01 -3.13398486e-01\n",
      " -1.30033783e+00 -1.49512849e+00  2.32015360e-01  2.32015360e-01\n",
      " -1.18346343e+00 -1.05621783e-01 -1.30033783e+00 -3.13398486e-01\n",
      " -1.05360299e+00  1.41113052e-01 -2.77055191e-02 -7.15965848e-01\n",
      "  1.02154920e-01  3.35903711e-01 -1.35228200e+00  1.53061975e+00\n",
      "  6.47568766e-01 -5.34161233e-01 -8.71798376e-01 -1.43019827e+00\n",
      "  2.32015360e-01  6.21596678e-01  1.29687096e+00 -5.08189145e-01\n",
      " -1.18607827e-01 -1.31332387e+00 -1.30033783e+00  7.51457118e-01\n",
      " -1.13151925e+00 -1.44579915e-01 -1.26137969e+00 -2.35482222e-01\n",
      " -1.43019827e+00 -5.34161233e-01 -7.02979804e-01  1.54099096e-01\n",
      " -1.35228200e+00 -7.28951892e-01 -8.06868156e-01  1.28127008e-01\n",
      " -2.77055191e-02  1.64749415e+00 -7.80896068e-01 -8.97770464e-01\n",
      " -3.13398486e-01 -6.51035629e-01  1.94617316e+00  5.95624590e-01\n",
      " -7.41937936e-01 -1.28735178e+00 -2.35482222e-01 -1.05621783e-01\n",
      "  1.03715008e+00 -9.23742551e-01 -6.25063541e-01 -1.20943552e+00\n",
      "  1.21895470e+00  1.88124294e+00  1.37478723e+00  9.98191953e-01\n",
      "  1.59554997e+00  1.67346624e+00  3.48889755e-01  6.21596678e-01\n",
      "  6.21596678e-01  2.70973492e-01  3.61875799e-01 -8.84784420e-01\n",
      " -4.04300794e-01  1.15140964e-01 -6.89993760e-01 -5.60133321e-01\n",
      " -4.82217057e-01  1.50464767e+00  1.58256393e+00  7.61828325e-02\n",
      " -5.86105409e-01 -8.97770464e-01 -6.38049585e-01  1.55659184e+00\n",
      " -8.71798376e-01  1.66048019e+00  2.38769865e+00  1.67346624e+00\n",
      " -4.43258925e-01  2.14096382e+00  1.07610822e+00 -1.19644947e+00\n",
      "  2.83959536e-01  1.38777327e+00  3.35903711e-01 -3.13398486e-01\n",
      " -7.28951892e-01 -3.39370574e-01  1.76436855e+00 -8.32840244e-01\n",
      "  1.81631272e+00 -1.05360299e+00  5.82638546e-01  4.39792063e-01\n",
      " -1.65096101e+00 -8.84784420e-01 -7.28951892e-01  5.56666458e-01\n",
      " -1.28735178e+00  8.42359425e-01  2.57987448e-01 -2.74440354e-01\n",
      "  8.03401293e-01 -1.20943552e+00 -1.06658903e+00  8.81317557e-01\n",
      "  1.50464767e+00 -1.73343121e-03 -1.36526805e+00 -1.01464486e+00\n",
      "  1.85527085e+00 -6.64021672e-01 -1.47194752e-02 -3.26384530e-01\n",
      "  1.10208030e+00  9.46247777e-01 -9.23742551e-01 -1.47194752e-02\n",
      " -5.86105409e-01 -1.14450530e+00 -1.83538046e-01  4.26806019e-01\n",
      "  1.46568953e+00 -6.64021672e-01 -1.96524090e-01 -1.18607827e-01\n",
      " -1.44579915e-01 -9.49714639e-01  1.81631272e+00  3.35903711e-01\n",
      " -7.93882112e-01 -4.69231013e-01 -8.58812332e-01 -3.91314750e-01\n",
      " -1.04061695e+00 -3.00412442e-01 -1.31593871e-01 -8.06868156e-01\n",
      "  7.61828325e-02 -1.46915640e+00  5.69652502e-01  9.07289645e-01\n",
      "  1.62152206e+00 -6.89993760e-01  5.69652502e-01  6.47568766e-01\n",
      "  3.72247006e-02 -9.75686727e-01  5.04722283e-01 -1.06658903e+00\n",
      " -1.02763090e+00 -1.33929596e+00 -1.13151925e+00  1.43971745e+00\n",
      "  1.24492679e+00  1.86825690e+00  8.03401293e-01  4.26806019e-01\n",
      " -9.62700683e-01 -7.67910024e-01  1.29687096e+00 -2.77055191e-02\n",
      " -9.75686727e-01  7.25485030e-01 -9.75686727e-01 -5.73119365e-01\n",
      "  1.02154920e-01 -1.28735178e+00  8.81317557e-01  2.42386567e-02\n",
      "  1.38777327e+00 -8.06868156e-01  1.21895470e+00 -3.65342662e-01\n",
      " -1.10554717e+00 -1.04061695e+00  1.36180118e+00  1.42673140e+00\n",
      "  1.59554997e+00  3.22917667e-01 -1.05360299e+00 -1.36526805e+00\n",
      "  4.52778107e-01 -3.52356618e-01 -9.62700683e-01 -1.31332387e+00\n",
      "  1.37478723e+00  8.16387337e-01  1.95915920e+00  1.17999657e+00\n",
      " -7.93882112e-01 -2.77055191e-02  2.05006151e+00  1.12526127e-02\n",
      "  2.51755909e+00 -1.15749134e+00 -8.19854200e-01 -1.32630991e+00\n",
      " -1.46915640e+00 -6.38049585e-01  2.02408942e+00 -4.69231013e-01\n",
      " -9.26357388e-02 -1.01464486e+00 -1.39124013e+00 -4.82217057e-01\n",
      "  1.45270349e+00 -8.45826288e-01  6.47568766e-01 -3.26384530e-01\n",
      "  3.87847887e-01  1.15402448e+00 -1.11853321e+00 -7.54923980e-01\n",
      "  1.69943833e+00 -1.14450530e+00 -6.51035629e-01  6.21596678e-01\n",
      "  1.46568953e+00 -7.54923980e-01  1.01117800e+00  3.74861843e-01\n",
      "  5.02107446e-02  1.05013613e+00 -1.19644947e+00  8.68331513e-01\n",
      " -9.36728595e-01 -1.09256112e+00  2.33575448e+00  1.24492679e+00\n",
      " -8.84784420e-01  6.21596678e-01 -1.26137969e+00 -8.71798376e-01\n",
      " -8.19854200e-01 -1.57304475e+00 -3.00412442e-01 -8.97770464e-01\n",
      "  1.59554997e+00 -1.13151925e+00  5.95624590e-01  1.08909426e+00\n",
      "  1.30985701e+00 -3.65342662e-01 -1.40422618e+00  2.57987448e-01\n",
      " -4.95203101e-01 -1.31593871e-01 -5.60133321e-01  3.61875799e-01\n",
      " -1.05621783e-01  1.41113052e-01 -6.66636509e-02 -7.15965848e-01\n",
      "  8.81317557e-01  4.91736239e-01 -5.60133321e-01  5.04722283e-01\n",
      " -3.91314750e-01  1.01117800e+00  1.16701052e+00  1.24492679e+00\n",
      "  1.25791283e+00  5.17708327e-01 -2.74440354e-01  1.10208030e+00\n",
      " -9.62700683e-01 -2.22496178e-01  1.19298261e+00  6.08610634e-01\n",
      "  1.53061975e+00  1.54099096e-01 -1.04061695e+00 -7.28951892e-01\n",
      "  1.99811734e+00 -7.93882112e-01  8.03401293e-01 -7.41937936e-01\n",
      "  8.29373381e-01  1.43971745e+00  3.35903711e-01 -5.08189145e-01\n",
      "  6.21596678e-01 -1.70552003e-01 -1.70552003e-01 -8.32840244e-01\n",
      " -5.36776070e-02 -8.32840244e-01  1.17999657e+00 -1.05360299e+00\n",
      " -9.75686727e-01 -5.60133321e-01  1.55659184e+00 -1.19644947e+00\n",
      " -1.27436574e+00  8.94303601e-01 -8.06868156e-01  2.06304756e+00\n",
      "  1.67346624e+00  3.87847887e-01  2.19290800e+00 -1.22242156e+00\n",
      "  1.42673140e+00  6.99512942e-01  1.05013613e+00  1.16701052e+00\n",
      " -3.78328706e-01  1.93057228e-01 -1.15749134e+00  5.82638546e-01\n",
      " -1.05360299e+00  2.06043272e-01 -1.57565959e-01  8.42359425e-01\n",
      " -4.04300794e-01  1.07610822e+00  1.20596866e+00 -1.45617035e+00\n",
      " -1.30033783e+00 -6.25063541e-01 -2.61454310e-01 -8.32840244e-01\n",
      " -1.07957508e+00  8.68331513e-01 -1.04061695e+00  6.34582722e-01\n",
      " -5.47147277e-01 -1.31332387e+00  1.62152206e+00 -1.15749134e+00\n",
      " -4.43258925e-01 -1.07957508e+00  1.56957789e+00  1.37478723e+00\n",
      " -1.41721222e+00  5.95624590e-01  1.16701052e+00  1.03715008e+00\n",
      "  2.96945580e-01 -7.67910024e-01  2.06043272e-01  1.59554997e+00\n",
      "  1.82929877e+00  1.67346624e+00 -1.04061695e+00 -1.57565959e-01\n",
      "  4.78750195e-01  3.74861843e-01  7.38471074e-01 -2.09510134e-01\n",
      "  1.41374536e+00 -5.08189145e-01 -2.74440354e-01  2.83959536e-01\n",
      "  1.36180118e+00 -1.26137969e+00 -8.84784420e-01 -1.43019827e+00\n",
      " -7.96496949e-02  7.77429206e-01  1.05013613e+00 -7.93882112e-01\n",
      " -5.34161233e-01 -1.73343121e-03 -4.17286837e-01 -1.10554717e+00\n",
      "  2.05006151e+00 -7.54923980e-01  4.00833931e-01 -1.11853321e+00\n",
      "  2.70973492e-01 -1.04061695e+00 -1.33929596e+00 -1.14450530e+00\n",
      " -1.35228200e+00  3.35903711e-01 -6.25063541e-01 -2.61454310e-01\n",
      "  8.81317557e-01 -1.23540761e+00]\n"
     ]
    }
   ],
   "source": [
    "print(X)\n",
    "print(Y)"
   ]
  },
  {
   "cell_type": "code",
   "execution_count": 22,
   "id": "74b56b9e",
   "metadata": {},
   "outputs": [
    {
     "name": "stdout",
     "output_type": "stream",
     "text": [
      "10\n"
     ]
    }
   ],
   "source": [
    "print(len(X[0]))"
   ]
  },
  {
   "cell_type": "markdown",
   "id": "beec7c5b",
   "metadata": {},
   "source": [
    "### Set up X, Y train"
   ]
  },
  {
   "cell_type": "code",
   "execution_count": 23,
   "id": "f901b099",
   "metadata": {},
   "outputs": [],
   "source": [
    "X_train = copy.deepcopy(X)\n",
    "Y_train = copy.deepcopy(Y[:len(Y) - 1])\n",
    "X_train = [torch.tensor(member) for member in X_train]\n",
    "Y_train = [torch.tensor(member) for member in Y_train]\n",
    "dim = len(X[0])"
   ]
  },
  {
   "cell_type": "code",
   "execution_count": 24,
   "id": "9d469a0f",
   "metadata": {},
   "outputs": [
    {
     "data": {
      "text/plain": [
       "0.9993992608297877"
      ]
     },
     "execution_count": 24,
     "metadata": {},
     "output_type": "execute_result"
    }
   ],
   "source": [
    "np.std(Y_train)"
   ]
  },
  {
   "cell_type": "markdown",
   "id": "2ab2dcb2",
   "metadata": {},
   "source": [
    "# Model and Guide Setup"
   ]
  },
  {
   "cell_type": "code",
   "execution_count": 25,
   "id": "c01a2886",
   "metadata": {},
   "outputs": [],
   "source": [
    "global prev_mu_q\n",
    "\n",
    "prev_mu_q = torch.zeros(dim, dtype=torch.float64)"
   ]
  },
  {
   "cell_type": "code",
   "execution_count": 26,
   "id": "3d61d587",
   "metadata": {},
   "outputs": [],
   "source": [
    "std0 = torch.eye(dim, dtype=torch.float64) * 0.3\n",
    "def model(data):\n",
    "    # define the hyperparameters that control the Beta prior\n",
    "    mu0 = torch.zeros(dim, dtype=torch.float64)\n",
    "    std0 = torch.eye(dim, dtype=torch.float64) * 0.3\n",
    "    # sample f from the Beta prior\n",
    "    std = pyro.sample(\"sigma\", dist.HalfNormal(1))\n",
    "\n",
    "    f = pyro.sample(\"latent_fairness\", dist.MultivariateNormal(mu0, std0))\n",
    "    # loop over the observed data\n",
    "    # int(len(data) / dim) was using this as sample count\n",
    "    subset = random.sample(data, 200)\n",
    "    for i in range(len(subset)):\n",
    "        pyro.sample(\"obs_{}\".format(i), dist.Normal(f.dot(subset[i][0]), std), obs=subset[i][1])\n",
    "        \n",
    "def guide(data):\n",
    "    # register the two variational parameters with Pyro\n",
    "    # - both parameters will have initial value 15.0.\n",
    "    # - because we invoke constraints.positive, the optimizer\n",
    "    # will take gradients on the unconstrained parameters\n",
    "    # (which are related to the constrained parameters by a log)\n",
    "    mu_q = pyro.param(\"mu_q\", copy.deepcopy(prev_mu_q))\n",
    "    # sample latent_fairness from the distribution Beta(alpha_q, beta_q)\n",
    "    pyro.sample(\"latent_fairness\", dist.MultivariateNormal(mu_q, std0))"
   ]
  },
  {
   "cell_type": "code",
   "execution_count": 27,
   "id": "fa57e2f1",
   "metadata": {},
   "outputs": [],
   "source": [
    "def train_SVI(D_hat, n_steps):\n",
    "    # setup the optimizer\n",
    "    adam_params = {\"lr\": 0.005, \"betas\": (0.90, 0.999)}\n",
    "    optimizer = Adam(adam_params)\n",
    "\n",
    "    # setup the inference algorithm\n",
    "    guide = pyro.infer.autoguide.AutoMultivariateNormal(model)\n",
    "    svi = SVI(model, guide, optimizer, loss=Trace_ELBO())\n",
    "    losses = []\n",
    "    # do gradient steps\n",
    "    for step in range(n_steps):\n",
    "        loss = svi.step(D_hat)\n",
    "        losses.append(loss)\n",
    "        if loss < 1e-5:\n",
    "            break\n",
    "    \n",
    "    mu_q = guide.state_dict()[\"loc\"]\n",
    "    return mu_q[0:10], losses"
   ]
  },
  {
   "cell_type": "markdown",
   "id": "094040c8",
   "metadata": {},
   "source": [
    "# Run VI on Data "
   ]
  },
  {
   "cell_type": "code",
   "execution_count": 28,
   "id": "0ecc0a42",
   "metadata": {},
   "outputs": [],
   "source": [
    "all_losses = []"
   ]
  },
  {
   "cell_type": "code",
   "execution_count": 29,
   "id": "75c8441a",
   "metadata": {
    "scrolled": true
   },
   "outputs": [
    {
     "name": "stdout",
     "output_type": "stream",
     "text": [
      "tensor(2.5176, dtype=torch.float64)\n",
      "tensor(-1.6510, dtype=torch.float64)\n",
      "tensor(2.5176, dtype=torch.float64)\n",
      "tensor(-1.6510, dtype=torch.float64)\n",
      "2.5175590944313466 Not added\n"
     ]
    },
    {
     "ename": "ValueError",
     "evalue": "min() arg is an empty sequence",
     "output_type": "error",
     "traceback": [
      "\u001b[0;31m---------------------------------------------------------------------------\u001b[0m",
      "\u001b[0;31mValueError\u001b[0m                                Traceback (most recent call last)",
      "\u001b[0;32m/var/folders/1s/1mkc4t8137lbs9x8hhg9q8940000gp/T/ipykernel_71993/2155309628.py\u001b[0m in \u001b[0;36m<module>\u001b[0;34m\u001b[0m\n\u001b[1;32m     34\u001b[0m     \u001b[0;32mbreak\u001b[0m\u001b[0;34m\u001b[0m\u001b[0;34m\u001b[0m\u001b[0m\n\u001b[1;32m     35\u001b[0m     \u001b[0my_hat\u001b[0m \u001b[0;34m-=\u001b[0m \u001b[0mdecrease_size\u001b[0m\u001b[0;34m\u001b[0m\u001b[0;34m\u001b[0m\u001b[0m\n\u001b[0;32m---> 36\u001b[0;31m \u001b[0mconformal_set\u001b[0m \u001b[0;34m=\u001b[0m \u001b[0;34m[\u001b[0m\u001b[0mmin\u001b[0m\u001b[0;34m(\u001b[0m\u001b[0mconformal_set\u001b[0m\u001b[0;34m)\u001b[0m\u001b[0;34m,\u001b[0m \u001b[0mmax\u001b[0m\u001b[0;34m(\u001b[0m\u001b[0mconformal_set\u001b[0m\u001b[0;34m)\u001b[0m\u001b[0;34m]\u001b[0m\u001b[0;34m\u001b[0m\u001b[0;34m\u001b[0m\u001b[0m\n\u001b[0m\u001b[1;32m     37\u001b[0m \u001b[0mend\u001b[0m \u001b[0;34m=\u001b[0m \u001b[0mtime\u001b[0m\u001b[0;34m.\u001b[0m\u001b[0mtime\u001b[0m\u001b[0;34m(\u001b[0m\u001b[0;34m)\u001b[0m\u001b[0;34m\u001b[0m\u001b[0;34m\u001b[0m\u001b[0m\n",
      "\u001b[0;31mValueError\u001b[0m: min() arg is an empty sequence"
     ]
    }
   ],
   "source": [
    "rank_proportions = []\n",
    "y_hat = max(Y_train)\n",
    "y_bottom = min(Y_train)\n",
    "print(y_hat)\n",
    "print(y_bottom)\n",
    "conformal_set = []\n",
    "decrease_size = 0.1\n",
    "start = time.time()\n",
    "print(max(Y_train))\n",
    "print(min(Y_train))\n",
    "while y_hat >= y_bottom:\n",
    "    pyro.clear_param_store()\n",
    "    # Create D_hat\n",
    "    D_hat = list(zip(X_train[:-1], Y_train))\n",
    "    D_hat.append((X_train[-1], y_hat))\n",
    "    \n",
    "    # Train SVI\n",
    "    mu_q, losses = train_SVI(D_hat, 1000)\n",
    "    all_losses.append(losses)\n",
    "    prev_mu_q = mu_q\n",
    "    \n",
    "    # Calculate rank of y_hat\n",
    "    rank = [(abs(sum(D_hat[i][0] * mu_q) - D_hat[i][1]).detach().numpy()) for i in range(len(D_hat))]\n",
    "    y_hat_rank = rank[-1]\n",
    "    \n",
    "    # Add to conformal set if in not in bottom 10 percent of probabilities\n",
    "    current_rank_proportion = np.count_nonzero(y_hat_rank > rank) / len(rank)\n",
    "    rank_proportions.append(current_rank_proportion)\n",
    "    if current_rank_proportion < 0.8:\n",
    "        conformal_set.append(copy.deepcopy(y_hat))\n",
    "        print(f\"{y_hat} Added\")\n",
    "    else:\n",
    "        print(f\"{y_hat} Not added\")\n",
    "    y_hat -= decrease_size\n",
    "conformal_set = [min(conformal_set), max(conformal_set)]\n",
    "end = time.time()"
   ]
  },
  {
   "cell_type": "code",
   "execution_count": null,
   "id": "755e7a77",
   "metadata": {},
   "outputs": [],
   "source": [
    "print(f\"Conformal Set: [{float(conformal_set[0])}, {float(conformal_set[1])}]\")\n",
    "print(f\"Length: {float(conformal_set[1] - conformal_set[0])}\")\n",
    "print(f\"Y[-1]: {Y[-1]}\")\n",
    "if Y[-1] >= conformal_set[0] and Y[-1] <= conformal_set[1]:\n",
    "    print(f\"Y[-1] is covered\")\n",
    "else:\n",
    "    print(\"Y[-1] is Not covered\")\n",
    "print(f\"Elapsed Time: {end - start}\")"
   ]
  },
  {
   "cell_type": "code",
   "execution_count": null,
   "id": "cf5b623a",
   "metadata": {},
   "outputs": [],
   "source": [
    "import matplotlib.pyplot as plt\n",
    "plt.scatter(range(len(rank_proportions)), rank_proportions)"
   ]
  },
  {
   "cell_type": "code",
   "execution_count": null,
   "id": "9b5db460",
   "metadata": {},
   "outputs": [],
   "source": [
    "import matplotlib.pyplot as plt\n",
    "plt.scatter(range(len(all_losses[0])), all_losses[0])\n",
    "plt.show()"
   ]
  },
  {
   "cell_type": "code",
   "execution_count": null,
   "id": "a2d8de0f",
   "metadata": {},
   "outputs": [],
   "source": [
    "print(svi.state_dict())"
   ]
  },
  {
   "cell_type": "code",
   "execution_count": null,
   "id": "bc5210c8",
   "metadata": {},
   "outputs": [],
   "source": [
    "mu_q"
   ]
  },
  {
   "cell_type": "code",
   "execution_count": null,
   "id": "be53958e",
   "metadata": {},
   "outputs": [],
   "source": []
  }
 ],
 "metadata": {
  "kernelspec": {
   "display_name": "Python 3 (ipykernel)",
   "language": "python",
   "name": "python3"
  },
  "language_info": {
   "codemirror_mode": {
    "name": "ipython",
    "version": 3
   },
   "file_extension": ".py",
   "mimetype": "text/x-python",
   "name": "python",
   "nbconvert_exporter": "python",
   "pygments_lexer": "ipython3",
   "version": "3.9.13"
  }
 },
 "nbformat": 4,
 "nbformat_minor": 5
}
