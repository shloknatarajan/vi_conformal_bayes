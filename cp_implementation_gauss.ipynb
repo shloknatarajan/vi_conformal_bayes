{
 "cells": [
  {
   "cell_type": "markdown",
   "id": "04035a62",
   "metadata": {},
   "source": [
    "# Imports"
   ]
  },
  {
   "cell_type": "code",
   "execution_count": 187,
   "id": "760eb5e7",
   "metadata": {},
   "outputs": [],
   "source": [
    "import math\n",
    "import os\n",
    "import torch\n",
    "import torch.distributions.constraints as constraints\n",
    "import pyro\n",
    "import numpy as np\n",
    "import copy\n",
    "import time\n",
    "import snakeviz\n",
    "from pyro.optim import Adam\n",
    "from pyro.infer import SVI, Trace_ELBO\n",
    "import pyro.distributions as dist\n",
    "import random\n",
    "from sklearn.datasets import load_diabetes\n",
    "assert pyro.__version__.startswith('1.8.4')\n",
    "\n",
    "# clear the param store in case we're in a REPL\n",
    "pyro.clear_param_store()"
   ]
  },
  {
   "cell_type": "markdown",
   "id": "3404a136",
   "metadata": {},
   "source": [
    "# Load Datasets"
   ]
  },
  {
   "cell_type": "markdown",
   "id": "55ef8d32",
   "metadata": {},
   "source": [
    "### Random Dataset"
   ]
  },
  {
   "cell_type": "code",
   "execution_count": 188,
   "id": "c6427873",
   "metadata": {},
   "outputs": [],
   "source": [
    "def generate_stdp_dataset(dim, num_examples, min_value, max_value):\n",
    "    X = np.random.random((num_examples + 1, dim)) * (max_value - min_value) + min_value\n",
    "    beta = np.random.random((dim)) * (max_value - min_value) + min_value\n",
    "\n",
    "    noise = np.random.normal(0, np.sqrt(max_value - min_value), num_examples + 1)\n",
    "    Y = X[:num_examples + 1] @ beta + noise\n",
    "\n",
    "    X = np.asfortranarray(X)\n",
    "    Y = np.asfortranarray(Y)\n",
    "    X /= np.linalg.norm(X, axis=0)\n",
    "    Y = (Y - Y.mean()) / Y.std()\n",
    "    Y = Y * max_value\n",
    "\n",
    "    Y = Y/np.linalg.norm(Y)\n",
    "\n",
    "    return X, Y, beta"
   ]
  },
  {
   "cell_type": "code",
   "execution_count": 189,
   "id": "5eb99929",
   "metadata": {},
   "outputs": [],
   "source": [
    "X, Y, beta = generate_stdp_dataset(10, 442, 0, 1)"
   ]
  },
  {
   "cell_type": "markdown",
   "id": "cf69c26b",
   "metadata": {},
   "source": [
    "### Diabetes Dataset"
   ]
  },
  {
   "cell_type": "markdown",
   "id": "95e7828f",
   "metadata": {},
   "source": [
    "X, Y = load_diabetes(return_X_y = True)"
   ]
  },
  {
   "cell_type": "markdown",
   "id": "bc85689d",
   "metadata": {},
   "source": [
    "print(Y[0:3])\n",
    "Y = (Y - Y.mean()) / Y.std()\n",
    "print(Y[0:3])\n",
    "X = X / np.linalg.norm(X)\n",
    "print(X[0:3])"
   ]
  },
  {
   "cell_type": "code",
   "execution_count": 190,
   "id": "904692c1",
   "metadata": {},
   "outputs": [
    {
     "name": "stdout",
     "output_type": "stream",
     "text": [
      "[[0.00561282 0.06082592 0.02156838 ... 0.07802452 0.03633695 0.03362975]\n",
      " [0.000233   0.06210752 0.02815031 ... 0.02293757 0.07352793 0.00964205]\n",
      " [0.05718343 0.04962301 0.05925292 ... 0.05748705 0.06020583 0.06923634]\n",
      " ...\n",
      " [0.05479487 0.00682738 0.04542745 ... 0.06556626 0.044984   0.05443746]\n",
      " [0.05258681 0.03120526 0.02851217 ... 0.06054289 0.01872964 0.02592906]\n",
      " [0.02002188 0.04966799 0.01877354 ... 0.06236154 0.03172936 0.03697273]]\n",
      "[ 5.16588960e-02 -9.14983851e-02 -1.20201899e-02 -3.45136761e-02\n",
      "  2.02948996e-02  8.72682894e-02  3.25098100e-02  4.77639565e-02\n",
      " -4.13571891e-02  5.28840213e-02 -5.77765435e-02  8.31430833e-02\n",
      " -9.67235554e-02  8.84555578e-03 -8.10329796e-02  3.07044224e-02\n",
      " -2.93058485e-03  1.80136747e-02 -8.16805652e-02 -3.67532272e-02\n",
      " -2.35135826e-02 -1.83812232e-02  3.83151071e-02 -2.06728823e-02\n",
      "  2.79844917e-02  2.38419675e-02 -8.10797126e-02 -6.61011257e-02\n",
      "  3.26733995e-02  4.92200219e-02 -3.86764175e-02 -3.42485726e-02\n",
      "  1.11714005e-02  1.75137499e-03 -1.20886210e-01 -8.24566915e-02\n",
      " -2.94280347e-02  1.09013611e-02 -8.82478028e-02 -3.45896638e-03\n",
      "  3.01163667e-02 -2.45974196e-02  5.19633394e-02  2.43830886e-02\n",
      "  7.79794150e-02  6.77836326e-02 -2.65882823e-02  3.12071592e-02\n",
      "  1.27946778e-01 -2.63987306e-02  3.92319154e-02  2.80935163e-02\n",
      " -5.22911112e-02  5.41306340e-02 -5.17534918e-02 -6.02468862e-02\n",
      "  4.21661206e-02 -2.19160571e-03 -1.01640753e-02 -7.05341844e-02\n",
      " -7.66899311e-03 -1.74505987e-02  5.91123086e-02  1.77540943e-03\n",
      " -1.09940891e-02  3.64641998e-02  7.51027949e-02 -5.43279878e-02\n",
      " -1.57818881e-02  1.17615036e-02  1.88595850e-02 -1.33801378e-01\n",
      "  2.67803063e-02  5.64918300e-02 -1.21694179e-03  6.50582032e-03\n",
      " -2.79337637e-02 -3.57126125e-02  3.90915761e-02  6.57901148e-02\n",
      " -1.68928971e-02 -6.32272567e-02 -8.22805103e-02 -1.28803584e-02\n",
      " -4.73890146e-02 -5.24110441e-02 -5.36324834e-02 -9.34463357e-03\n",
      "  9.67635428e-03 -5.50578385e-02  3.75175703e-02  1.08866739e-01\n",
      "  1.08101570e-01 -2.25910473e-02 -2.53222269e-02  4.99593519e-03\n",
      " -1.89354274e-02 -8.52541302e-02 -3.36822988e-02  4.58289592e-02\n",
      " -4.92852492e-02 -2.17061026e-02  2.42464603e-02 -1.83170958e-02\n",
      " -3.07117094e-02  4.12963663e-02  7.53945558e-03 -4.37784957e-02\n",
      "  4.55076384e-02  7.75054029e-02 -5.77793895e-02 -6.71195335e-02\n",
      "  1.68627004e-02 -1.19178011e-02 -1.84346089e-02  5.06552542e-02\n",
      " -1.36631796e-03  5.15352365e-02 -2.57965109e-02  1.93636132e-02\n",
      " -5.57566918e-02  8.80054949e-02 -1.09684890e-01  1.41027394e-02\n",
      "  8.47910599e-03  8.68954401e-02  1.95718876e-02  2.55338417e-03\n",
      " -5.90645151e-02  9.13124843e-02  2.57784218e-02  3.72963692e-02\n",
      "  8.10856493e-02  2.83863874e-02  5.44035036e-02  8.28533991e-03\n",
      " -1.05119221e-02 -4.09652813e-02  2.82718704e-02 -5.60044610e-02\n",
      " -3.90346823e-02 -9.81386037e-02 -2.90914628e-02 -4.74040004e-02\n",
      " -1.19028999e-02  6.32680377e-02 -1.30132162e-02  3.88355173e-02\n",
      " -2.23007763e-02  1.11555325e-01  1.70457678e-02 -4.91099761e-02\n",
      "  4.12995112e-03  1.30764942e-02 -4.06072093e-02 -9.31355170e-03\n",
      " -1.06178325e-01  4.44010585e-02 -5.14283213e-03 -7.51489011e-02\n",
      " -4.20381386e-03 -5.37572193e-02 -5.52806145e-02  7.08385799e-02\n",
      " -1.12332010e-02 -7.58221164e-03  5.34023859e-02 -1.27899031e-02\n",
      " -2.40549431e-02 -9.21315779e-02 -1.79642417e-02 -6.42880513e-02\n",
      "  6.27497220e-02  1.09051631e-02 -4.43481741e-02  6.12270047e-02\n",
      "  6.30284706e-02  5.20575759e-02 -9.29592251e-03  3.00801020e-02\n",
      "  1.09875700e-02  4.59219803e-02 -3.80004385e-02  6.42524983e-02\n",
      " -5.69482190e-02 -2.90256860e-02  3.44120859e-02 -3.26442801e-02\n",
      "  6.42144990e-02 -5.59813371e-02  4.44622842e-02 -4.79528146e-02\n",
      "  2.85016993e-02  3.13978623e-03 -3.98943146e-02 -4.38680974e-02\n",
      " -1.37754419e-02 -3.19802407e-02 -1.01851622e-02 -4.02143682e-02\n",
      "  1.80785929e-02  1.80641411e-02  2.96420368e-02 -7.66759405e-02\n",
      " -5.18822169e-02  1.03901907e-02  1.60545171e-02 -4.65688247e-02\n",
      "  6.46420303e-02 -4.56491035e-02 -7.70565505e-02 -4.72941438e-02\n",
      " -3.45447727e-02 -2.69650627e-02 -1.32390708e-03  3.56525131e-02\n",
      " -3.31638661e-02 -5.90147567e-02  3.63539516e-02 -1.77859776e-03\n",
      " -7.03646666e-02  3.23628978e-02 -2.10299082e-02  2.11888577e-02\n",
      " -7.16773739e-03  3.64545704e-02 -5.66394766e-02 -7.69753428e-02\n",
      " -1.47962617e-02  3.18615427e-02 -2.96504587e-02  2.27212937e-02\n",
      " -3.17600050e-02  4.80751084e-02  5.11888933e-03 -3.49336831e-02\n",
      " -4.61419991e-02 -4.70294172e-02 -3.86537537e-02 -2.21686370e-02\n",
      "  3.88741792e-02  4.25104075e-03 -2.03816734e-03 -2.49016581e-02\n",
      " -4.39079199e-02 -3.89771907e-02 -2.66058639e-03  2.57855006e-02\n",
      "  4.68303047e-03  2.97234335e-02  3.42426463e-02 -3.45714802e-02\n",
      "  5.87564120e-02 -3.61758450e-02 -2.02181259e-02 -1.79130147e-02\n",
      "  5.53364323e-02  3.95781294e-02  6.72104679e-02  1.74247679e-02\n",
      "  4.11869433e-02  6.12720930e-02  6.32083655e-02 -1.05298408e-02\n",
      "  1.02866732e-02 -9.38181610e-02  8.12265197e-03  4.09470738e-03\n",
      "  8.25799896e-02 -5.53912826e-02  2.41914339e-02  1.75315180e-02\n",
      "  3.95147860e-02 -5.13294389e-02  2.72330399e-02 -2.39338419e-02\n",
      " -7.81503307e-02  6.14068853e-03 -4.22464422e-02 -1.88556501e-02\n",
      "  6.38883464e-02 -3.82442838e-02 -3.90611233e-02 -6.64966748e-02\n",
      "  5.21264324e-02  5.52705106e-03 -2.21594975e-02  5.31545374e-02\n",
      " -3.92624113e-02  1.89968795e-02 -5.11582630e-02  6.05295783e-02\n",
      "  8.33070884e-03  4.63449698e-02  6.07126974e-02 -1.47482153e-02\n",
      " -7.13312591e-02 -2.37681522e-02  5.70115311e-02 -2.61726801e-02\n",
      "  2.57483387e-02 -5.42836386e-02  5.52002830e-02 -9.47476980e-03\n",
      "  5.77654494e-02  4.17785636e-02 -3.89611930e-02  1.99151118e-02\n",
      "  4.11714978e-02 -2.27405510e-02  7.02109725e-02  2.79686647e-02\n",
      " -3.63789504e-02 -3.00419163e-02  1.84396274e-03  4.46029036e-03\n",
      " -9.56411432e-03 -5.44324524e-02 -4.25656899e-02 -3.89573030e-02\n",
      " -2.20913762e-02 -2.53429295e-02 -2.69275901e-02 -3.76090318e-02\n",
      " -1.08110323e-01 -6.84697726e-02 -1.94206589e-03  5.26769124e-02\n",
      "  8.93053183e-02 -1.83481138e-02  3.47894788e-02  3.54948421e-02\n",
      " -2.77667562e-02  6.17576127e-02  2.70278382e-02  7.96667698e-03\n",
      " -4.46377179e-02  1.42198580e-02  4.69734885e-03  4.07514661e-04\n",
      "  3.82732432e-03 -3.39166372e-02 -6.74308169e-02 -3.46932957e-02\n",
      "  3.26881818e-02 -1.97465844e-02  5.03906179e-03  7.49173075e-04\n",
      " -5.03711413e-02  1.75051383e-02 -1.69743963e-02 -2.28095604e-02\n",
      "  4.03880599e-02 -1.35116620e-02 -3.99381642e-02 -1.76402758e-03\n",
      "  3.05504988e-02 -2.09378241e-02  4.39562897e-02  8.47177939e-03\n",
      "  6.90253876e-02  2.22120812e-02  3.27263857e-02  2.09561691e-02\n",
      "  7.86144889e-03 -1.38111945e-04 -5.70196065e-02  3.02775836e-02\n",
      "  1.01229857e-02 -6.74993101e-02 -4.30526580e-02  2.79845862e-02\n",
      " -4.78464450e-02  1.99253049e-02 -4.25926014e-02  6.54716548e-02\n",
      "  4.41887951e-02  2.77392531e-02 -1.19699714e-01  8.28173208e-02\n",
      "  4.35352310e-02  2.12164970e-02  7.05470214e-02 -2.26627907e-02\n",
      "  1.99369113e-03  3.61086831e-03 -4.12048287e-02 -3.07732025e-02\n",
      "  1.35888518e-02  5.25211547e-02  1.22500154e-02  1.10168107e-01\n",
      "  1.66618362e-02 -4.78683628e-03 -5.23825008e-03 -7.83567627e-03\n",
      "  3.68362429e-02 -4.93929480e-02  1.47014364e-02 -5.61981911e-02\n",
      " -5.44150788e-02 -6.59065286e-02  7.17131968e-02  2.34525575e-02\n",
      "  8.47469037e-03  9.83083781e-02  3.20349521e-02 -2.66182240e-02\n",
      "  4.07132822e-02  5.48712057e-02  1.43402046e-01 -1.29878183e-01\n",
      "  1.12484883e-01 -1.42958706e-02  3.74317756e-02  4.51561191e-02\n",
      " -1.16220360e-02  6.99898717e-02  3.42641848e-03  9.37197035e-02\n",
      " -2.46834867e-03  5.95477461e-02  3.41281686e-02  3.55451122e-02\n",
      " -4.29172924e-02 -1.94650665e-02 -2.32241672e-02  9.04966768e-02\n",
      "  5.87480119e-02  9.81981251e-02 -1.82452516e-02  8.33044643e-03\n",
      "  3.96598581e-02 -1.77442411e-02  1.09629742e-02  3.66491161e-02\n",
      "  3.11853785e-02  2.87261252e-02 -9.42024402e-02 -4.82982563e-02\n",
      "  6.42457838e-02  8.03847781e-03  1.84338925e-02]\n"
     ]
    }
   ],
   "source": [
    "print(X)\n",
    "print(Y)"
   ]
  },
  {
   "cell_type": "code",
   "execution_count": 191,
   "id": "74b56b9e",
   "metadata": {},
   "outputs": [
    {
     "name": "stdout",
     "output_type": "stream",
     "text": [
      "10\n"
     ]
    }
   ],
   "source": [
    "print(len(X[0]))"
   ]
  },
  {
   "cell_type": "markdown",
   "id": "beec7c5b",
   "metadata": {},
   "source": [
    "### Set up X, Y train"
   ]
  },
  {
   "cell_type": "code",
   "execution_count": 192,
   "id": "f901b099",
   "metadata": {},
   "outputs": [],
   "source": [
    "X_train = copy.deepcopy(X)\n",
    "Y_train = copy.deepcopy(Y[:len(Y) - 1])\n",
    "X_train = [torch.tensor(member) for member in X_train]\n",
    "Y_train = [torch.tensor(member) for member in Y_train]\n",
    "dim = len(X[0])"
   ]
  },
  {
   "cell_type": "code",
   "execution_count": 193,
   "id": "9d469a0f",
   "metadata": {},
   "outputs": [
    {
     "data": {
      "text/plain": [
       "0.04755704892321442"
      ]
     },
     "execution_count": 193,
     "metadata": {},
     "output_type": "execute_result"
    }
   ],
   "source": [
    "np.std(Y_train)"
   ]
  },
  {
   "cell_type": "markdown",
   "id": "2ab2dcb2",
   "metadata": {},
   "source": [
    "# Model and Guide Setup"
   ]
  },
  {
   "cell_type": "code",
   "execution_count": 194,
   "id": "c01a2886",
   "metadata": {},
   "outputs": [],
   "source": [
    "global prev_mu_q\n",
    "\n",
    "prev_mu_q = torch.zeros(dim, dtype=torch.float64)"
   ]
  },
  {
   "cell_type": "code",
   "execution_count": 195,
   "id": "3d61d587",
   "metadata": {},
   "outputs": [],
   "source": [
    "std0 = torch.eye(dim, dtype=torch.float64) * 0.3\n",
    "def model(data):\n",
    "    # define the hyperparameters that control the Beta prior\n",
    "    mu0 = torch.zeros(dim, dtype=torch.float64)\n",
    "    std0 = torch.eye(dim, dtype=torch.float64) * 0.3\n",
    "    # sample f from the Beta prior\n",
    "    std = pyro.sample(\"sigma\", dist.HalfNormal(1))\n",
    "\n",
    "    f = pyro.sample(\"latent_fairness\", dist.MultivariateNormal(mu0, std0))\n",
    "    # loop over the observed data\n",
    "    # int(len(data) / dim) was using this as sample count\n",
    "    subset = random.sample(data, 200)\n",
    "    for i in range(len(subset)):\n",
    "        pyro.sample(\"obs_{}\".format(i), dist.Normal(f.dot(subset[i][0]), std), obs=subset[i][1])\n",
    "        \n",
    "def guide(data):\n",
    "    # register the two variational parameters with Pyro\n",
    "    # - both parameters will have initial value 15.0.\n",
    "    # - because we invoke constraints.positive, the optimizer\n",
    "    # will take gradients on the unconstrained parameters\n",
    "    # (which are related to the constrained parameters by a log)\n",
    "    mu_q = pyro.param(\"mu_q\", copy.deepcopy(prev_mu_q))\n",
    "    # sample latent_fairness from the distribution Beta(alpha_q, beta_q)\n",
    "    pyro.sample(\"latent_fairness\", dist.MultivariateNormal(mu_q, std0))"
   ]
  },
  {
   "cell_type": "code",
   "execution_count": 196,
   "id": "fa57e2f1",
   "metadata": {},
   "outputs": [],
   "source": [
    "def train_SVI(D_hat, n_steps, prev_mu_q = None):\n",
    "    # setup the optimizer\n",
    "    adam_params = {\"lr\": 0.005, \"betas\": (0.90, 0.999)}\n",
    "    optimizer = Adam(adam_params)\n",
    "\n",
    "    # setup the inference algorithm\n",
    "    guide = pyro.infer.autoguide.AutoMultivariateNormal(model)\n",
    "#     if prev_mu_q is not None:\n",
    "#         print(guide.state_dict().keys())\n",
    "#         guide.state_dict()[\"loc\"][0:10] = prev_mu_q\n",
    "    svi = SVI(model, guide, optimizer, loss=Trace_ELBO())\n",
    "    losses = []\n",
    "    # do gradient steps\n",
    "    for step in range(n_steps):\n",
    "        loss = svi.step(D_hat)\n",
    "        losses.append(loss)\n",
    "        if loss < 1e-5:\n",
    "            break\n",
    "    \n",
    "    mu_q = guide.state_dict()[\"loc\"]\n",
    "    return mu_q[0:10], losses"
   ]
  },
  {
   "cell_type": "markdown",
   "id": "094040c8",
   "metadata": {},
   "source": [
    "# Run VI on Data "
   ]
  },
  {
   "cell_type": "code",
   "execution_count": 197,
   "id": "0ecc0a42",
   "metadata": {},
   "outputs": [],
   "source": [
    "all_losses = []"
   ]
  },
  {
   "cell_type": "code",
   "execution_count": 198,
   "id": "75c8441a",
   "metadata": {
    "scrolled": true
   },
   "outputs": [
    {
     "name": "stdout",
     "output_type": "stream",
     "text": [
      "tensor(0.1434, dtype=torch.float64)\n",
      "tensor(-0.1338, dtype=torch.float64)\n",
      "tensor(0.1434, dtype=torch.float64)\n",
      "tensor(-0.1338, dtype=torch.float64)\n",
      "0.14340204566599066 Not added\n",
      "0.13340204566599065 Not added\n",
      "0.12340204566599065 Not added\n",
      "0.11340204566599066 Not added\n",
      "0.10340204566599066 Not added\n",
      "0.09340204566599067 Not added\n",
      "0.08340204566599067 Not added\n",
      "0.07340204566599068 Not added\n",
      "0.06340204566599068 Not added\n",
      "0.05340204566599068 Added\n",
      "0.04340204566599068 Added\n",
      "0.03340204566599068 Added\n",
      "0.023402045665990676 Added\n",
      "0.013402045665990675 Added\n",
      "0.003402045665990675 Added\n",
      "-0.006597954334009325 Added\n",
      "-0.016597954334009325 Added\n",
      "-0.026597954334009327 Added\n",
      "-0.03659795433400933 Added\n",
      "-0.04659795433400933 Added\n",
      "-0.05659795433400933 Added\n",
      "-0.06659795433400933 Added\n",
      "-0.07659795433400933 Not added\n",
      "-0.08659795433400932 Added\n",
      "-0.09659795433400932 Added\n",
      "-0.10659795433400931 Not added\n",
      "-0.11659795433400931 Not added\n",
      "-0.1265979543340093 Not added\n"
     ]
    }
   ],
   "source": [
    "rank_proportions = []\n",
    "y_hat = max(Y_train)\n",
    "y_bottom = min(Y_train)\n",
    "print(y_hat)\n",
    "print(y_bottom)\n",
    "conformal_set = []\n",
    "decrease_size = 0.01\n",
    "start = time.time()\n",
    "print(max(Y_train))\n",
    "print(min(Y_train))\n",
    "prev_mu_q = None\n",
    "while y_hat >= y_bottom:\n",
    "    pyro.clear_param_store()\n",
    "    # Create D_hat\n",
    "    D_hat = list(zip(X_train[:-1], Y_train))\n",
    "    D_hat.append((X_train[-1], y_hat))\n",
    "    \n",
    "    # Train SVI\n",
    "    mu_q, losses = train_SVI(D_hat, 5, prev_mu_q)\n",
    "    all_losses.append(losses)\n",
    "    prev_mu_q = copy.deepcopy(mu_q)\n",
    "    \n",
    "    # Calculate rank of y_hat\n",
    "    rank = [(abs(sum(D_hat[i][0] * mu_q) - D_hat[i][1]).detach().numpy()) for i in range(len(D_hat))]\n",
    "    y_hat_rank = rank[-1]\n",
    "    \n",
    "    # Add to conformal set if in not in bottom 10 percent of probabilities\n",
    "    current_rank_proportion = np.count_nonzero(y_hat_rank > rank) / len(rank)\n",
    "    rank_proportions.append(current_rank_proportion)\n",
    "    if current_rank_proportion < 0.8:\n",
    "        conformal_set.append(copy.deepcopy(y_hat))\n",
    "        print(f\"{y_hat} Added\")\n",
    "    else:\n",
    "        print(f\"{y_hat} Not added\")\n",
    "    y_hat -= decrease_size\n",
    "conformal_set = [min(conformal_set), max(conformal_set)]\n",
    "end = time.time()"
   ]
  },
  {
   "cell_type": "code",
   "execution_count": 199,
   "id": "755e7a77",
   "metadata": {},
   "outputs": [
    {
     "name": "stdout",
     "output_type": "stream",
     "text": [
      "Conformal Set: [-0.09659795433400932, 0.05340204566599068]\n",
      "Length: 0.15\n",
      "Y[-1]: 0.018433892501499485\n",
      "Y[-1] is covered\n",
      "Elapsed Time: 10.702775001525879\n"
     ]
    }
   ],
   "source": [
    "print(f\"Conformal Set: [{float(conformal_set[0])}, {float(conformal_set[1])}]\")\n",
    "print(f\"Length: {float(conformal_set[1] - conformal_set[0])}\")\n",
    "print(f\"Y[-1]: {Y[-1]}\")\n",
    "if Y[-1] >= conformal_set[0] and Y[-1] <= conformal_set[1]:\n",
    "    print(f\"Y[-1] is covered\")\n",
    "else:\n",
    "    print(\"Y[-1] is Not covered\")\n",
    "print(f\"Elapsed Time: {end - start}\")"
   ]
  },
  {
   "cell_type": "code",
   "execution_count": 200,
   "id": "cf5b623a",
   "metadata": {},
   "outputs": [
    {
     "data": {
      "text/plain": [
       "<matplotlib.collections.PathCollection at 0x7fd928b75ca0>"
      ]
     },
     "execution_count": 200,
     "metadata": {},
     "output_type": "execute_result"
    },
    {
     "data": {
      "image/png": "[encoded data removed]",
      "text/plain": [
       "<Figure size 640x480 with 1 Axes>"
      ]
     },
     "metadata": {},
     "output_type": "display_data"
    }
   ],
   "source": [
    "import matplotlib.pyplot as plt\n",
    "plt.scatter(range(len(rank_proportions)), rank_proportions)"
   ]
  },
  {
   "cell_type": "code",
   "execution_count": 201,
   "id": "9b5db460",
   "metadata": {},
   "outputs": [
    {
     "data": {
      "image/png": "[encoded data removed]",
      "text/plain": [
       "<Figure size 640x480 with 1 Axes>"
      ]
     },
     "metadata": {},
     "output_type": "display_data"
    }
   ],
   "source": [
    "import matplotlib.pyplot as plt\n",
    "plt.scatter(range(len(all_losses[0])), all_losses[0])\n",
    "plt.show()"
   ]
  },
  {
   "cell_type": "code",
   "execution_count": 202,
   "id": "a2d8de0f",
   "metadata": {},
   "outputs": [
    {
     "ename": "NameError",
     "evalue": "name 'svi' is not defined",
     "output_type": "error",
     "traceback": [
      "\u001b[0;31m---------------------------------------------------------------------------\u001b[0m",
      "\u001b[0;31mNameError\u001b[0m                                 Traceback (most recent call last)",
      "\u001b[0;32m/var/folders/1s/1mkc4t8137lbs9x8hhg9q8940000gp/T/ipykernel_71993/1817296276.py\u001b[0m in \u001b[0;36m<module>\u001b[0;34m\u001b[0m\n\u001b[0;32m----> 1\u001b[0;31m \u001b[0mprint\u001b[0m\u001b[0;34m(\u001b[0m\u001b[0msvi\u001b[0m\u001b[0;34m.\u001b[0m\u001b[0mstate_dict\u001b[0m\u001b[0;34m(\u001b[0m\u001b[0;34m)\u001b[0m\u001b[0;34m)\u001b[0m\u001b[0;34m\u001b[0m\u001b[0;34m\u001b[0m\u001b[0m\n\u001b[0m",
      "\u001b[0;31mNameError\u001b[0m: name 'svi' is not defined"
     ]
    }
   ],
   "source": [
    "print(svi.state_dict())"
   ]
  },
  {
   "cell_type": "code",
   "execution_count": null,
   "id": "bc5210c8",
   "metadata": {},
   "outputs": [],
   "source": [
    "mu_q"
   ]
  },
  {
   "cell_type": "code",
   "execution_count": null,
   "id": "be53958e",
   "metadata": {},
   "outputs": [],
   "source": []
  }
 ],
 "metadata": {
  "kernelspec": {
   "display_name": "Python 3 (ipykernel)",
   "language": "python",
   "name": "python3"
  },
  "language_info": {
   "codemirror_mode": {
    "name": "ipython",
    "version": 3
   },
   "file_extension": ".py",
   "mimetype": "text/x-python",
   "name": "python",
   "nbconvert_exporter": "python",
   "pygments_lexer": "ipython3",
   "version": "3.9.13"
  }
 },
 "nbformat": 4,
 "nbformat_minor": 5
}
