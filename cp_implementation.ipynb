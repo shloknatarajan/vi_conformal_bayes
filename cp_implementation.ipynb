{
 "cells": [
  {
   "cell_type": "code",
   "execution_count": 89,
   "id": "77c87c39",
   "metadata": {},
   "outputs": [],
   "source": [
    "import numpy as np\n",
    "import copy\n",
    "import time"
   ]
  },
  {
   "cell_type": "code",
   "execution_count": 90,
   "id": "760eb5e7",
   "metadata": {},
   "outputs": [],
   "source": [
    "import math\n",
    "import os\n",
    "import torch\n",
    "import torch.distributions.constraints as constraints\n",
    "import pyro\n",
    "from pyro.optim import Adam\n",
    "from pyro.infer import SVI, Trace_ELBO\n",
    "import pyro.distributions as dist\n",
    "\n",
    "assert pyro.__version__.startswith('1.8.4')\n",
    "\n",
    "# clear the param store in case we're in a REPL\n",
    "pyro.clear_param_store()"
   ]
  },
  {
   "cell_type": "code",
   "execution_count": 91,
   "id": "c6427873",
   "metadata": {},
   "outputs": [],
   "source": [
    "def generate_stdp_dataset(dim, num_examples, min_value, max_value):\n",
    "    X = np.random.random((num_examples + 1, dim)) * (max_value - min_value) + min_value\n",
    "    beta = np.random.random((dim)) * (max_value - min_value) + min_value\n",
    "\n",
    "    noise = np.random.normal(0, np.sqrt(max_value - min_value), num_examples + 1)\n",
    "    Y = X[:num_examples + 1] @ beta + noise\n",
    "\n",
    "    X = np.asfortranarray(X)\n",
    "    Y = np.asfortranarray(Y)\n",
    "    X /= np.linalg.norm(X, axis=0)\n",
    "    Y = (Y - Y.mean()) / Y.std()\n",
    "    Y = Y * max_value\n",
    "\n",
    "    Y = Y/np.linalg.norm(Y)\n",
    "\n",
    "    return X, Y, beta"
   ]
  },
  {
   "cell_type": "code",
   "execution_count": 92,
   "id": "3d61d587",
   "metadata": {},
   "outputs": [],
   "source": [
    "std0 = torch.eye(3, dtype=torch.float64) * 0.3\n",
    "def model(data):\n",
    "    # define the hyperparameters that control the Beta prior\n",
    "    mu0 = torch.zeros(3, dtype=torch.float64)\n",
    "    # sample f from the Beta prior\n",
    "    f = pyro.sample(\"latent_fairness\", dist.MultivariateNormal(mu0, std0))\n",
    "    # loop over the observed data\n",
    "    for i in range(len(data)):\n",
    "        pyro.sample(\"obs_{}\".format(i), dist.Normal(f.dot(data[i][0]), 0.3), obs=data[i][1])\n",
    "\n",
    "def guide(data):\n",
    "    # register the two variational parameters with Pyro\n",
    "    # - both parameters will have initial value 15.0.\n",
    "    # - because we invoke constraints.positive, the optimizer\n",
    "    # will take gradients on the unconstrained parameters\n",
    "    # (which are related to the constrained parameters by a log)\n",
    "    mu_q = pyro.param(\"mu_q\", torch.zeros(3, dtype=torch.float64))\n",
    "    # sample latent_fairness from the distribution Beta(alpha_q, beta_q)\n",
    "    pyro.sample(\"latent_fairness\", dist.MultivariateNormal(mu_q, std0))"
   ]
  },
  {
   "cell_type": "code",
   "execution_count": 93,
   "id": "4d7206b9",
   "metadata": {},
   "outputs": [],
   "source": [
    "X, Y, beta = generate_stdp_dataset(3, 10, 0, 1)"
   ]
  },
  {
   "cell_type": "code",
   "execution_count": 94,
   "id": "904692c1",
   "metadata": {},
   "outputs": [
    {
     "name": "stdout",
     "output_type": "stream",
     "text": [
      "[[0.29999668 0.48202011 0.13952446]\n",
      " [0.21416448 0.1359368  0.39056766]\n",
      " [0.10713974 0.15606481 0.35426628]\n",
      " [0.2616496  0.1559739  0.41479371]\n",
      " [0.0648895  0.08377738 0.27131187]\n",
      " [0.32908907 0.48322414 0.28626144]\n",
      " [0.3951819  0.56568504 0.17928333]\n",
      " [0.48373391 0.15520244 0.32141237]\n",
      " [0.18946765 0.33999251 0.36192091]\n",
      " [0.41851802 0.00630068 0.29390687]\n",
      " [0.26544926 0.0157334  0.14852353]]\n",
      "[-0.02372209 -0.09527483 -0.07850806 -0.26222199 -0.28382719  0.21530555\n",
      "  0.44547127  0.60387861 -0.06534259 -0.47003637  0.0142777 ]\n",
      "[0.5093743  0.47112557 0.72330546]\n"
     ]
    }
   ],
   "source": [
    "print(X)\n",
    "print(Y)\n",
    "print(beta)"
   ]
  },
  {
   "cell_type": "code",
   "execution_count": 95,
   "id": "144f4291",
   "metadata": {},
   "outputs": [],
   "source": [
    "X_train = copy.deepcopy(X)\n",
    "Y_train = copy.deepcopy(Y[:len(Y) - 1])\n",
    "X_train = [torch.tensor(member) for member in X_train]\n",
    "Y_train = [torch.tensor(member) for member in Y_train]"
   ]
  },
  {
   "cell_type": "code",
   "execution_count": 96,
   "id": "9d469a0f",
   "metadata": {},
   "outputs": [
    {
     "data": {
      "text/plain": [
       "0.3161923088767153"
      ]
     },
     "execution_count": 96,
     "metadata": {},
     "output_type": "execute_result"
    }
   ],
   "source": [
    "np.std(Y_train)"
   ]
  },
  {
   "cell_type": "code",
   "execution_count": 97,
   "id": "fa57e2f1",
   "metadata": {},
   "outputs": [],
   "source": [
    "def train_SVI(D_hat, n_steps):\n",
    "    # setup the optimizer\n",
    "    adam_params = {\"lr\": 0.0005, \"betas\": (0.90, 0.999)}\n",
    "    optimizer = Adam(adam_params)\n",
    "\n",
    "    # setup the inference algorithm\n",
    "    svi = SVI(model, guide, optimizer, loss=Trace_ELBO())\n",
    "\n",
    "    # do gradient steps\n",
    "    for step in range(n_steps):\n",
    "        svi.step(D_hat)\n",
    "    \n",
    "    breakpoint()\n",
    "    mu_q = pyro.param(\"mu_q\")\n",
    "    return mu_q"
   ]
  },
  {
   "cell_type": "code",
   "execution_count": 98,
   "id": "434f513a",
   "metadata": {},
   "outputs": [
    {
     "name": "stdout",
     "output_type": "stream",
     "text": [
      "[0, 0, 0, 0, 0, 0, 0, 0, 0, 0, 0]\n"
     ]
    }
   ],
   "source": [
    "z = [0 for i in range(len(Y_train) + 1)]\n",
    "print(z)"
   ]
  },
  {
   "cell_type": "code",
   "execution_count": 99,
   "id": "75c8441a",
   "metadata": {},
   "outputs": [
    {
     "name": "stdout",
     "output_type": "stream",
     "text": [
      "tensor(0.6039, dtype=torch.float64)\n",
      "tensor(-0.4700, dtype=torch.float64)\n",
      "0.6038786081870835 Not added\n",
      "0.5038786081870835 Not added\n",
      "0.40387860818708354 Not added\n",
      "0.30387860818708357 Not added\n"
     ]
    }
   ],
   "source": [
    "y_hat = max(Y_train)\n",
    "y_bottom = min(Y_train)\n",
    "print(y_hat)\n",
    "print(y_bottom)\n",
    "conformal_set = []\n",
    "step_size = 0.1\n",
    "start = time.time()\n",
    "while y_hat >= y_bottom:\n",
    "    pyro.clear_param_store()\n",
    "    # Create D_hat\n",
    "    D_hat = list(zip(X_train[:-1], Y_train))\n",
    "    D_hat.append((X_train[-1], y_hat))\n",
    "    \n",
    "    # Train SVI\n",
    "    mu_q = train_SVI(D_hat, 10)\n",
    "    \n",
    "    # Calculate rank of y_hat\n",
    "    rank = [(sum(D_hat[i][0] * mu_q) - D_hat[i][1]).detach().numpy() for i in range(len(D_hat))]\n",
    "    y_hat_rank = rank[-1]\n",
    "    \n",
    "    # Add to conformal set if in not in bottom 10 percent of probabilities\n",
    "    if np.count_nonzero(y_hat_rank > rank) / len(rank) > 0.1:\n",
    "        conformal_set.append(copy.deepcopy(y_hat))\n",
    "    else:\n",
    "        print(f\"{y_hat} Not added\")\n",
    "        \n",
    "    y_hat -= step_size\n",
    "conformal_set = [min(conformal_set), max(conformal_set)]\n",
    "end = time.time()"
   ]
  },
  {
   "cell_type": "code",
   "execution_count": 100,
   "id": "755e7a77",
   "metadata": {},
   "outputs": [
    {
     "name": "stdout",
     "output_type": "stream",
     "text": [
      "[tensor(-0.3961, dtype=torch.float64), tensor(0.2039, dtype=torch.float64)]\n",
      "Y[-1]: 0.014277702645567266\n",
      "Y[-1] is covered\n",
      "Elapsed Time: 0.5369627475738525\n"
     ]
    }
   ],
   "source": [
    "print(conformal_set)\n",
    "print(f\"Y[-1]: {Y[-1]}\")\n",
    "if Y[-1] >= conformal_set[0] and Y[-1] <= conformal_set[1]:\n",
    "    print(f\"Y[-1] is covered\")\n",
    "else:\n",
    "    print(\"Y[-1] is Not covered\")\n",
    "print(f\"Elapsed Time: {end - start}\")"
   ]
  }
 ],
 "metadata": {
  "kernelspec": {
   "display_name": "Python 3 (ipykernel)",
   "language": "python",
   "name": "python3"
  },
  "language_info": {
   "codemirror_mode": {
    "name": "ipython",
    "version": 3
   },
   "file_extension": ".py",
   "mimetype": "text/x-python",
   "name": "python",
   "nbconvert_exporter": "python",
   "pygments_lexer": "ipython3",
   "version": "3.9.13"
  }
 },
 "nbformat": 4,
 "nbformat_minor": 5
}
